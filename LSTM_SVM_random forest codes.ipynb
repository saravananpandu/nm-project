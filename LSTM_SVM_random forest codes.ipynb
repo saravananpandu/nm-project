{
  "nbformat": 4,
  "nbformat_minor": 0,
  "metadata": {
    "colab": {
      "provenance": []
    },
    "kernelspec": {
      "name": "python3",
      "display_name": "Python 3"
    },
    "language_info": {
      "name": "python"
    }
  },
  "cells": [
    {
      "cell_type": "markdown",
      "source": [
        "**STEP 1: Importing libraries and dataset**"
      ],
      "metadata": {
        "id": "KwPFS01MdsME"
      }
    },
    {
      "cell_type": "code",
      "execution_count": 3,
      "metadata": {
        "colab": {
          "base_uri": "https://localhost:8080/"
        },
        "id": "emGe80uncjSh",
        "outputId": "f615b737-5bfa-489a-efbc-06f04d599252"
      },
      "outputs": [
        {
          "output_type": "stream",
          "name": "stderr",
          "text": [
            "[nltk_data] Downloading package stopwords to /root/nltk_data...\n",
            "[nltk_data]   Package stopwords is already up-to-date!\n",
            "[nltk_data] Downloading package punkt to /root/nltk_data...\n",
            "[nltk_data]   Package punkt is already up-to-date!\n",
            "[nltk_data] Downloading package wordnet to /root/nltk_data...\n",
            "[nltk_data]   Package wordnet is already up-to-date!\n"
          ]
        }
      ],
      "source": [
        "# DataFrame\n",
        "import pandas as pd\n",
        "\n",
        "# Matplotlib\n",
        "import matplotlib.pyplot as plt\n",
        "%matplotlib inline\n",
        "\n",
        "from matplotlib.ticker import MaxNLocator\n",
        "import matplotlib.gridspec as gridspec\n",
        "import matplotlib.patches as mpatches\n",
        "\n",
        "# Scikit-learn\n",
        "from sklearn.model_selection import train_test_split\n",
        "from sklearn.preprocessing import LabelEncoder\n",
        "from sklearn.metrics import confusion_matrix, classification_report, accuracy_score\n",
        "from sklearn.manifold import TSNE\n",
        "from sklearn.feature_extraction.text import CountVectorizer, TfidfVectorizer\n",
        "from sklearn.decomposition import LatentDirichletAllocation, NMF\n",
        "from sklearn.metrics import f1_score, accuracy_score\n",
        "\n",
        "# Keras\n",
        "from keras.preprocessing.text import Tokenizer\n",
        "from keras.preprocessing.sequence import pad_sequences\n",
        "from keras.models import Sequential\n",
        "from keras.layers import Activation, Dense, Dropout, Embedding, Flatten, Conv1D, MaxPooling1D, LSTM\n",
        "from keras import utils\n",
        "from keras.callbacks import ReduceLROnPlateau, EarlyStopping\n",
        "\n",
        "# NLTK\n",
        "import nltk\n",
        "from nltk.corpus import stopwords\n",
        "from nltk.stem import SnowballStemmer\n",
        "from nltk.tokenize import word_tokenize\n",
        "from nltk.probability import FreqDist\n",
        "from nltk.corpus import wordnet\n",
        "from nltk.stem import WordNetLemmatizer\n",
        "nltk.download('stopwords')\n",
        "nltk.download('punkt')\n",
        "nltk.download('wordnet')\n",
        "\n",
        "# Word2Vec\n",
        "import gensim\n",
        "from gensim.models import Word2Vec\n",
        "\n",
        "# Utility\n",
        "import string\n",
        "import re\n",
        "import numpy as np\n",
        "import os\n",
        "from collections import Counter\n",
        "import logging\n",
        "import time\n",
        "import pickle\n",
        "import itertools\n",
        "import random\n",
        "import datetime\n",
        "\n",
        "# WordCloud\n",
        "from PIL import Image\n",
        "from wordcloud import WordCloud, STOPWORDS, ImageColorGenerator\n",
        "from collections import Counter, defaultdict\n",
        "\n",
        "# Warnings\n",
        "import warnings\n",
        "warnings.filterwarnings('ignore')\n",
        "\n",
        "# Set log\n",
        "logging.basicConfig(format='%(asctime)s : %(levelname)s : %(message)s', level=logging.INFO)"
      ]
    },
    {
      "cell_type": "code",
      "source": [
        "!pip install chardet\n",
        "\n",
        "# Import the chardet module\n",
        "import chardet"
      ],
      "metadata": {
        "colab": {
          "base_uri": "https://localhost:8080/"
        },
        "id": "tJ7U6IE-c2GV",
        "outputId": "83c6300d-9be7-4e75-9ddf-c56708d16eb1"
      },
      "execution_count": 4,
      "outputs": [
        {
          "output_type": "stream",
          "name": "stdout",
          "text": [
            "Requirement already satisfied: chardet in /usr/local/lib/python3.10/dist-packages (5.2.0)\n"
          ]
        }
      ]
    },
    {
      "cell_type": "code",
      "source": [
        "with open('projectML.csv', 'rb') as f:\n",
        "    encoding = chardet.detect(f.read())['encoding']\n",
        "from google.colab import files\n",
        "uploaded = files.upload()\n",
        "df = pd.read_csv('projectML.csv',encoding=encoding)"
      ],
      "metadata": {
        "colab": {
          "base_uri": "https://localhost:8080/",
          "height": 74
        },
        "id": "F9iuUP12cruU",
        "outputId": "cde0d9f4-0d67-407f-9cc7-aed5155e2633"
      },
      "execution_count": 6,
      "outputs": [
        {
          "output_type": "display_data",
          "data": {
            "text/plain": [
              "<IPython.core.display.HTML object>"
            ],
            "text/html": [
              "\n",
              "     <input type=\"file\" id=\"files-7f8bc1c5-c2dd-4926-a458-bcbd69b0bdba\" name=\"files[]\" multiple disabled\n",
              "        style=\"border:none\" />\n",
              "     <output id=\"result-7f8bc1c5-c2dd-4926-a458-bcbd69b0bdba\">\n",
              "      Upload widget is only available when the cell has been executed in the\n",
              "      current browser session. Please rerun this cell to enable.\n",
              "      </output>\n",
              "      <script>// Copyright 2017 Google LLC\n",
              "//\n",
              "// Licensed under the Apache License, Version 2.0 (the \"License\");\n",
              "// you may not use this file except in compliance with the License.\n",
              "// You may obtain a copy of the License at\n",
              "//\n",
              "//      http://www.apache.org/licenses/LICENSE-2.0\n",
              "//\n",
              "// Unless required by applicable law or agreed to in writing, software\n",
              "// distributed under the License is distributed on an \"AS IS\" BASIS,\n",
              "// WITHOUT WARRANTIES OR CONDITIONS OF ANY KIND, either express or implied.\n",
              "// See the License for the specific language governing permissions and\n",
              "// limitations under the License.\n",
              "\n",
              "/**\n",
              " * @fileoverview Helpers for google.colab Python module.\n",
              " */\n",
              "(function(scope) {\n",
              "function span(text, styleAttributes = {}) {\n",
              "  const element = document.createElement('span');\n",
              "  element.textContent = text;\n",
              "  for (const key of Object.keys(styleAttributes)) {\n",
              "    element.style[key] = styleAttributes[key];\n",
              "  }\n",
              "  return element;\n",
              "}\n",
              "\n",
              "// Max number of bytes which will be uploaded at a time.\n",
              "const MAX_PAYLOAD_SIZE = 100 * 1024;\n",
              "\n",
              "function _uploadFiles(inputId, outputId) {\n",
              "  const steps = uploadFilesStep(inputId, outputId);\n",
              "  const outputElement = document.getElementById(outputId);\n",
              "  // Cache steps on the outputElement to make it available for the next call\n",
              "  // to uploadFilesContinue from Python.\n",
              "  outputElement.steps = steps;\n",
              "\n",
              "  return _uploadFilesContinue(outputId);\n",
              "}\n",
              "\n",
              "// This is roughly an async generator (not supported in the browser yet),\n",
              "// where there are multiple asynchronous steps and the Python side is going\n",
              "// to poll for completion of each step.\n",
              "// This uses a Promise to block the python side on completion of each step,\n",
              "// then passes the result of the previous step as the input to the next step.\n",
              "function _uploadFilesContinue(outputId) {\n",
              "  const outputElement = document.getElementById(outputId);\n",
              "  const steps = outputElement.steps;\n",
              "\n",
              "  const next = steps.next(outputElement.lastPromiseValue);\n",
              "  return Promise.resolve(next.value.promise).then((value) => {\n",
              "    // Cache the last promise value to make it available to the next\n",
              "    // step of the generator.\n",
              "    outputElement.lastPromiseValue = value;\n",
              "    return next.value.response;\n",
              "  });\n",
              "}\n",
              "\n",
              "/**\n",
              " * Generator function which is called between each async step of the upload\n",
              " * process.\n",
              " * @param {string} inputId Element ID of the input file picker element.\n",
              " * @param {string} outputId Element ID of the output display.\n",
              " * @return {!Iterable<!Object>} Iterable of next steps.\n",
              " */\n",
              "function* uploadFilesStep(inputId, outputId) {\n",
              "  const inputElement = document.getElementById(inputId);\n",
              "  inputElement.disabled = false;\n",
              "\n",
              "  const outputElement = document.getElementById(outputId);\n",
              "  outputElement.innerHTML = '';\n",
              "\n",
              "  const pickedPromise = new Promise((resolve) => {\n",
              "    inputElement.addEventListener('change', (e) => {\n",
              "      resolve(e.target.files);\n",
              "    });\n",
              "  });\n",
              "\n",
              "  const cancel = document.createElement('button');\n",
              "  inputElement.parentElement.appendChild(cancel);\n",
              "  cancel.textContent = 'Cancel upload';\n",
              "  const cancelPromise = new Promise((resolve) => {\n",
              "    cancel.onclick = () => {\n",
              "      resolve(null);\n",
              "    };\n",
              "  });\n",
              "\n",
              "  // Wait for the user to pick the files.\n",
              "  const files = yield {\n",
              "    promise: Promise.race([pickedPromise, cancelPromise]),\n",
              "    response: {\n",
              "      action: 'starting',\n",
              "    }\n",
              "  };\n",
              "\n",
              "  cancel.remove();\n",
              "\n",
              "  // Disable the input element since further picks are not allowed.\n",
              "  inputElement.disabled = true;\n",
              "\n",
              "  if (!files) {\n",
              "    return {\n",
              "      response: {\n",
              "        action: 'complete',\n",
              "      }\n",
              "    };\n",
              "  }\n",
              "\n",
              "  for (const file of files) {\n",
              "    const li = document.createElement('li');\n",
              "    li.append(span(file.name, {fontWeight: 'bold'}));\n",
              "    li.append(span(\n",
              "        `(${file.type || 'n/a'}) - ${file.size} bytes, ` +\n",
              "        `last modified: ${\n",
              "            file.lastModifiedDate ? file.lastModifiedDate.toLocaleDateString() :\n",
              "                                    'n/a'} - `));\n",
              "    const percent = span('0% done');\n",
              "    li.appendChild(percent);\n",
              "\n",
              "    outputElement.appendChild(li);\n",
              "\n",
              "    const fileDataPromise = new Promise((resolve) => {\n",
              "      const reader = new FileReader();\n",
              "      reader.onload = (e) => {\n",
              "        resolve(e.target.result);\n",
              "      };\n",
              "      reader.readAsArrayBuffer(file);\n",
              "    });\n",
              "    // Wait for the data to be ready.\n",
              "    let fileData = yield {\n",
              "      promise: fileDataPromise,\n",
              "      response: {\n",
              "        action: 'continue',\n",
              "      }\n",
              "    };\n",
              "\n",
              "    // Use a chunked sending to avoid message size limits. See b/62115660.\n",
              "    let position = 0;\n",
              "    do {\n",
              "      const length = Math.min(fileData.byteLength - position, MAX_PAYLOAD_SIZE);\n",
              "      const chunk = new Uint8Array(fileData, position, length);\n",
              "      position += length;\n",
              "\n",
              "      const base64 = btoa(String.fromCharCode.apply(null, chunk));\n",
              "      yield {\n",
              "        response: {\n",
              "          action: 'append',\n",
              "          file: file.name,\n",
              "          data: base64,\n",
              "        },\n",
              "      };\n",
              "\n",
              "      let percentDone = fileData.byteLength === 0 ?\n",
              "          100 :\n",
              "          Math.round((position / fileData.byteLength) * 100);\n",
              "      percent.textContent = `${percentDone}% done`;\n",
              "\n",
              "    } while (position < fileData.byteLength);\n",
              "  }\n",
              "\n",
              "  // All done.\n",
              "  yield {\n",
              "    response: {\n",
              "      action: 'complete',\n",
              "    }\n",
              "  };\n",
              "}\n",
              "\n",
              "scope.google = scope.google || {};\n",
              "scope.google.colab = scope.google.colab || {};\n",
              "scope.google.colab._files = {\n",
              "  _uploadFiles,\n",
              "  _uploadFilesContinue,\n",
              "};\n",
              "})(self);\n",
              "</script> "
            ]
          },
          "metadata": {}
        },
        {
          "output_type": "stream",
          "name": "stdout",
          "text": [
            "Saving projectML.csv to projectML (2).csv\n"
          ]
        }
      ]
    },
    {
      "cell_type": "code",
      "source": [
        "df"
      ],
      "metadata": {
        "colab": {
          "base_uri": "https://localhost:8080/",
          "height": 424
        },
        "id": "Hw0aAjwZeaAR",
        "outputId": "ad122932-6bff-4d89-e512-33f3c432611f"
      },
      "execution_count": 7,
      "outputs": [
        {
          "output_type": "execute_result",
          "data": {
            "text/plain": [
              "     Sno.                                               Text  Sentiment  \\\n",
              "0       1   Enjoying a beautiful day at the park!        ...          0   \n",
              "1       2   Traffic was terrible this morning.           ...          1   \n",
              "2       3   Just finished an amazing workout! üí™       ...          0   \n",
              "3       4   Excited about the upcoming weekend getaway!  ...          0   \n",
              "4       5   Trying out a new recipe for dinner tonight.  ...          2   \n",
              "..    ...                                                ...        ...   \n",
              "742   743               Drifting in the void of emptiness.            1   \n",
              "743   744               Shattered by the echoes of regret.            1   \n",
              "744   745                 Trapped in the cycle of despair.            1   \n",
              "745   746             Blinded by the darkness of the soul.            1   \n",
              "746   747                Suffocated by the weight†of†sorrow.          1   \n",
              "\n",
              "           Timestamp                 User    Platform  \n",
              "0    1/15/2023 12:30        User123          Twitter   \n",
              "1     1/15/2023 8:45        CommuterX        Twitter   \n",
              "2    1/15/2023 15:45        FitnessFan     Instagram   \n",
              "3    1/15/2023 18:20        AdventureX      Facebook   \n",
              "4    1/15/2023 19:55        ChefCook       Instagram   \n",
              "..               ...                  ...         ...  \n",
              "742  3/17/2023 19:30       EchoesRegret      Twitter   \n",
              "743  3/18/2023 19:30       DespairCycle    Instagram   \n",
              "744  3/19/2023 19:30       SoulDarkness     Facebook   \n",
              "745  3/20/2023 19:30  SorrowSuffocation      Twitter   \n",
              "746  3/21/2023 19:30  WeightSuffocation††  Instagram   \n",
              "\n",
              "[747 rows x 6 columns]"
            ],
            "text/html": [
              "\n",
              "  <div id=\"df-ba220a62-7571-4e60-83d4-654344074222\" class=\"colab-df-container\">\n",
              "    <div>\n",
              "<style scoped>\n",
              "    .dataframe tbody tr th:only-of-type {\n",
              "        vertical-align: middle;\n",
              "    }\n",
              "\n",
              "    .dataframe tbody tr th {\n",
              "        vertical-align: top;\n",
              "    }\n",
              "\n",
              "    .dataframe thead th {\n",
              "        text-align: right;\n",
              "    }\n",
              "</style>\n",
              "<table border=\"1\" class=\"dataframe\">\n",
              "  <thead>\n",
              "    <tr style=\"text-align: right;\">\n",
              "      <th></th>\n",
              "      <th>Sno.</th>\n",
              "      <th>Text</th>\n",
              "      <th>Sentiment</th>\n",
              "      <th>Timestamp</th>\n",
              "      <th>User</th>\n",
              "      <th>Platform</th>\n",
              "    </tr>\n",
              "  </thead>\n",
              "  <tbody>\n",
              "    <tr>\n",
              "      <th>0</th>\n",
              "      <td>1</td>\n",
              "      <td>Enjoying a beautiful day at the park!        ...</td>\n",
              "      <td>0</td>\n",
              "      <td>1/15/2023 12:30</td>\n",
              "      <td>User123</td>\n",
              "      <td>Twitter</td>\n",
              "    </tr>\n",
              "    <tr>\n",
              "      <th>1</th>\n",
              "      <td>2</td>\n",
              "      <td>Traffic was terrible this morning.           ...</td>\n",
              "      <td>1</td>\n",
              "      <td>1/15/2023 8:45</td>\n",
              "      <td>CommuterX</td>\n",
              "      <td>Twitter</td>\n",
              "    </tr>\n",
              "    <tr>\n",
              "      <th>2</th>\n",
              "      <td>3</td>\n",
              "      <td>Just finished an amazing workout! üí™       ...</td>\n",
              "      <td>0</td>\n",
              "      <td>1/15/2023 15:45</td>\n",
              "      <td>FitnessFan</td>\n",
              "      <td>Instagram</td>\n",
              "    </tr>\n",
              "    <tr>\n",
              "      <th>3</th>\n",
              "      <td>4</td>\n",
              "      <td>Excited about the upcoming weekend getaway!  ...</td>\n",
              "      <td>0</td>\n",
              "      <td>1/15/2023 18:20</td>\n",
              "      <td>AdventureX</td>\n",
              "      <td>Facebook</td>\n",
              "    </tr>\n",
              "    <tr>\n",
              "      <th>4</th>\n",
              "      <td>5</td>\n",
              "      <td>Trying out a new recipe for dinner tonight.  ...</td>\n",
              "      <td>2</td>\n",
              "      <td>1/15/2023 19:55</td>\n",
              "      <td>ChefCook</td>\n",
              "      <td>Instagram</td>\n",
              "    </tr>\n",
              "    <tr>\n",
              "      <th>...</th>\n",
              "      <td>...</td>\n",
              "      <td>...</td>\n",
              "      <td>...</td>\n",
              "      <td>...</td>\n",
              "      <td>...</td>\n",
              "      <td>...</td>\n",
              "    </tr>\n",
              "    <tr>\n",
              "      <th>742</th>\n",
              "      <td>743</td>\n",
              "      <td>Drifting in the void of emptiness.</td>\n",
              "      <td>1</td>\n",
              "      <td>3/17/2023 19:30</td>\n",
              "      <td>EchoesRegret</td>\n",
              "      <td>Twitter</td>\n",
              "    </tr>\n",
              "    <tr>\n",
              "      <th>743</th>\n",
              "      <td>744</td>\n",
              "      <td>Shattered by the echoes of regret.</td>\n",
              "      <td>1</td>\n",
              "      <td>3/18/2023 19:30</td>\n",
              "      <td>DespairCycle</td>\n",
              "      <td>Instagram</td>\n",
              "    </tr>\n",
              "    <tr>\n",
              "      <th>744</th>\n",
              "      <td>745</td>\n",
              "      <td>Trapped in the cycle of despair.</td>\n",
              "      <td>1</td>\n",
              "      <td>3/19/2023 19:30</td>\n",
              "      <td>SoulDarkness</td>\n",
              "      <td>Facebook</td>\n",
              "    </tr>\n",
              "    <tr>\n",
              "      <th>745</th>\n",
              "      <td>746</td>\n",
              "      <td>Blinded by the darkness of the soul.</td>\n",
              "      <td>1</td>\n",
              "      <td>3/20/2023 19:30</td>\n",
              "      <td>SorrowSuffocation</td>\n",
              "      <td>Twitter</td>\n",
              "    </tr>\n",
              "    <tr>\n",
              "      <th>746</th>\n",
              "      <td>747</td>\n",
              "      <td>Suffocated by the weight†of†sorrow.</td>\n",
              "      <td>1</td>\n",
              "      <td>3/21/2023 19:30</td>\n",
              "      <td>WeightSuffocation††</td>\n",
              "      <td>Instagram</td>\n",
              "    </tr>\n",
              "  </tbody>\n",
              "</table>\n",
              "<p>747 rows × 6 columns</p>\n",
              "</div>\n",
              "    <div class=\"colab-df-buttons\">\n",
              "\n",
              "  <div class=\"colab-df-container\">\n",
              "    <button class=\"colab-df-convert\" onclick=\"convertToInteractive('df-ba220a62-7571-4e60-83d4-654344074222')\"\n",
              "            title=\"Convert this dataframe to an interactive table.\"\n",
              "            style=\"display:none;\">\n",
              "\n",
              "  <svg xmlns=\"http://www.w3.org/2000/svg\" height=\"24px\" viewBox=\"0 -960 960 960\">\n",
              "    <path d=\"M120-120v-720h720v720H120Zm60-500h600v-160H180v160Zm220 220h160v-160H400v160Zm0 220h160v-160H400v160ZM180-400h160v-160H180v160Zm440 0h160v-160H620v160ZM180-180h160v-160H180v160Zm440 0h160v-160H620v160Z\"/>\n",
              "  </svg>\n",
              "    </button>\n",
              "\n",
              "  <style>\n",
              "    .colab-df-container {\n",
              "      display:flex;\n",
              "      gap: 12px;\n",
              "    }\n",
              "\n",
              "    .colab-df-convert {\n",
              "      background-color: #E8F0FE;\n",
              "      border: none;\n",
              "      border-radius: 50%;\n",
              "      cursor: pointer;\n",
              "      display: none;\n",
              "      fill: #1967D2;\n",
              "      height: 32px;\n",
              "      padding: 0 0 0 0;\n",
              "      width: 32px;\n",
              "    }\n",
              "\n",
              "    .colab-df-convert:hover {\n",
              "      background-color: #E2EBFA;\n",
              "      box-shadow: 0px 1px 2px rgba(60, 64, 67, 0.3), 0px 1px 3px 1px rgba(60, 64, 67, 0.15);\n",
              "      fill: #174EA6;\n",
              "    }\n",
              "\n",
              "    .colab-df-buttons div {\n",
              "      margin-bottom: 4px;\n",
              "    }\n",
              "\n",
              "    [theme=dark] .colab-df-convert {\n",
              "      background-color: #3B4455;\n",
              "      fill: #D2E3FC;\n",
              "    }\n",
              "\n",
              "    [theme=dark] .colab-df-convert:hover {\n",
              "      background-color: #434B5C;\n",
              "      box-shadow: 0px 1px 3px 1px rgba(0, 0, 0, 0.15);\n",
              "      filter: drop-shadow(0px 1px 2px rgba(0, 0, 0, 0.3));\n",
              "      fill: #FFFFFF;\n",
              "    }\n",
              "  </style>\n",
              "\n",
              "    <script>\n",
              "      const buttonEl =\n",
              "        document.querySelector('#df-ba220a62-7571-4e60-83d4-654344074222 button.colab-df-convert');\n",
              "      buttonEl.style.display =\n",
              "        google.colab.kernel.accessAllowed ? 'block' : 'none';\n",
              "\n",
              "      async function convertToInteractive(key) {\n",
              "        const element = document.querySelector('#df-ba220a62-7571-4e60-83d4-654344074222');\n",
              "        const dataTable =\n",
              "          await google.colab.kernel.invokeFunction('convertToInteractive',\n",
              "                                                    [key], {});\n",
              "        if (!dataTable) return;\n",
              "\n",
              "        const docLinkHtml = 'Like what you see? Visit the ' +\n",
              "          '<a target=\"_blank\" href=https://colab.research.google.com/notebooks/data_table.ipynb>data table notebook</a>'\n",
              "          + ' to learn more about interactive tables.';\n",
              "        element.innerHTML = '';\n",
              "        dataTable['output_type'] = 'display_data';\n",
              "        await google.colab.output.renderOutput(dataTable, element);\n",
              "        const docLink = document.createElement('div');\n",
              "        docLink.innerHTML = docLinkHtml;\n",
              "        element.appendChild(docLink);\n",
              "      }\n",
              "    </script>\n",
              "  </div>\n",
              "\n",
              "\n",
              "<div id=\"df-e6b95b55-16c4-44d6-a37c-1dc226cecdcf\">\n",
              "  <button class=\"colab-df-quickchart\" onclick=\"quickchart('df-e6b95b55-16c4-44d6-a37c-1dc226cecdcf')\"\n",
              "            title=\"Suggest charts\"\n",
              "            style=\"display:none;\">\n",
              "\n",
              "<svg xmlns=\"http://www.w3.org/2000/svg\" height=\"24px\"viewBox=\"0 0 24 24\"\n",
              "     width=\"24px\">\n",
              "    <g>\n",
              "        <path d=\"M19 3H5c-1.1 0-2 .9-2 2v14c0 1.1.9 2 2 2h14c1.1 0 2-.9 2-2V5c0-1.1-.9-2-2-2zM9 17H7v-7h2v7zm4 0h-2V7h2v10zm4 0h-2v-4h2v4z\"/>\n",
              "    </g>\n",
              "</svg>\n",
              "  </button>\n",
              "\n",
              "<style>\n",
              "  .colab-df-quickchart {\n",
              "      --bg-color: #E8F0FE;\n",
              "      --fill-color: #1967D2;\n",
              "      --hover-bg-color: #E2EBFA;\n",
              "      --hover-fill-color: #174EA6;\n",
              "      --disabled-fill-color: #AAA;\n",
              "      --disabled-bg-color: #DDD;\n",
              "  }\n",
              "\n",
              "  [theme=dark] .colab-df-quickchart {\n",
              "      --bg-color: #3B4455;\n",
              "      --fill-color: #D2E3FC;\n",
              "      --hover-bg-color: #434B5C;\n",
              "      --hover-fill-color: #FFFFFF;\n",
              "      --disabled-bg-color: #3B4455;\n",
              "      --disabled-fill-color: #666;\n",
              "  }\n",
              "\n",
              "  .colab-df-quickchart {\n",
              "    background-color: var(--bg-color);\n",
              "    border: none;\n",
              "    border-radius: 50%;\n",
              "    cursor: pointer;\n",
              "    display: none;\n",
              "    fill: var(--fill-color);\n",
              "    height: 32px;\n",
              "    padding: 0;\n",
              "    width: 32px;\n",
              "  }\n",
              "\n",
              "  .colab-df-quickchart:hover {\n",
              "    background-color: var(--hover-bg-color);\n",
              "    box-shadow: 0 1px 2px rgba(60, 64, 67, 0.3), 0 1px 3px 1px rgba(60, 64, 67, 0.15);\n",
              "    fill: var(--button-hover-fill-color);\n",
              "  }\n",
              "\n",
              "  .colab-df-quickchart-complete:disabled,\n",
              "  .colab-df-quickchart-complete:disabled:hover {\n",
              "    background-color: var(--disabled-bg-color);\n",
              "    fill: var(--disabled-fill-color);\n",
              "    box-shadow: none;\n",
              "  }\n",
              "\n",
              "  .colab-df-spinner {\n",
              "    border: 2px solid var(--fill-color);\n",
              "    border-color: transparent;\n",
              "    border-bottom-color: var(--fill-color);\n",
              "    animation:\n",
              "      spin 1s steps(1) infinite;\n",
              "  }\n",
              "\n",
              "  @keyframes spin {\n",
              "    0% {\n",
              "      border-color: transparent;\n",
              "      border-bottom-color: var(--fill-color);\n",
              "      border-left-color: var(--fill-color);\n",
              "    }\n",
              "    20% {\n",
              "      border-color: transparent;\n",
              "      border-left-color: var(--fill-color);\n",
              "      border-top-color: var(--fill-color);\n",
              "    }\n",
              "    30% {\n",
              "      border-color: transparent;\n",
              "      border-left-color: var(--fill-color);\n",
              "      border-top-color: var(--fill-color);\n",
              "      border-right-color: var(--fill-color);\n",
              "    }\n",
              "    40% {\n",
              "      border-color: transparent;\n",
              "      border-right-color: var(--fill-color);\n",
              "      border-top-color: var(--fill-color);\n",
              "    }\n",
              "    60% {\n",
              "      border-color: transparent;\n",
              "      border-right-color: var(--fill-color);\n",
              "    }\n",
              "    80% {\n",
              "      border-color: transparent;\n",
              "      border-right-color: var(--fill-color);\n",
              "      border-bottom-color: var(--fill-color);\n",
              "    }\n",
              "    90% {\n",
              "      border-color: transparent;\n",
              "      border-bottom-color: var(--fill-color);\n",
              "    }\n",
              "  }\n",
              "</style>\n",
              "\n",
              "  <script>\n",
              "    async function quickchart(key) {\n",
              "      const quickchartButtonEl =\n",
              "        document.querySelector('#' + key + ' button');\n",
              "      quickchartButtonEl.disabled = true;  // To prevent multiple clicks.\n",
              "      quickchartButtonEl.classList.add('colab-df-spinner');\n",
              "      try {\n",
              "        const charts = await google.colab.kernel.invokeFunction(\n",
              "            'suggestCharts', [key], {});\n",
              "      } catch (error) {\n",
              "        console.error('Error during call to suggestCharts:', error);\n",
              "      }\n",
              "      quickchartButtonEl.classList.remove('colab-df-spinner');\n",
              "      quickchartButtonEl.classList.add('colab-df-quickchart-complete');\n",
              "    }\n",
              "    (() => {\n",
              "      let quickchartButtonEl =\n",
              "        document.querySelector('#df-e6b95b55-16c4-44d6-a37c-1dc226cecdcf button');\n",
              "      quickchartButtonEl.style.display =\n",
              "        google.colab.kernel.accessAllowed ? 'block' : 'none';\n",
              "    })();\n",
              "  </script>\n",
              "</div>\n",
              "\n",
              "  <div id=\"id_35188eee-1b15-4096-b9fe-8c147bed131f\">\n",
              "    <style>\n",
              "      .colab-df-generate {\n",
              "        background-color: #E8F0FE;\n",
              "        border: none;\n",
              "        border-radius: 50%;\n",
              "        cursor: pointer;\n",
              "        display: none;\n",
              "        fill: #1967D2;\n",
              "        height: 32px;\n",
              "        padding: 0 0 0 0;\n",
              "        width: 32px;\n",
              "      }\n",
              "\n",
              "      .colab-df-generate:hover {\n",
              "        background-color: #E2EBFA;\n",
              "        box-shadow: 0px 1px 2px rgba(60, 64, 67, 0.3), 0px 1px 3px 1px rgba(60, 64, 67, 0.15);\n",
              "        fill: #174EA6;\n",
              "      }\n",
              "\n",
              "      [theme=dark] .colab-df-generate {\n",
              "        background-color: #3B4455;\n",
              "        fill: #D2E3FC;\n",
              "      }\n",
              "\n",
              "      [theme=dark] .colab-df-generate:hover {\n",
              "        background-color: #434B5C;\n",
              "        box-shadow: 0px 1px 3px 1px rgba(0, 0, 0, 0.15);\n",
              "        filter: drop-shadow(0px 1px 2px rgba(0, 0, 0, 0.3));\n",
              "        fill: #FFFFFF;\n",
              "      }\n",
              "    </style>\n",
              "    <button class=\"colab-df-generate\" onclick=\"generateWithVariable('df')\"\n",
              "            title=\"Generate code using this dataframe.\"\n",
              "            style=\"display:none;\">\n",
              "\n",
              "  <svg xmlns=\"http://www.w3.org/2000/svg\" height=\"24px\"viewBox=\"0 0 24 24\"\n",
              "       width=\"24px\">\n",
              "    <path d=\"M7,19H8.4L18.45,9,17,7.55,7,17.6ZM5,21V16.75L18.45,3.32a2,2,0,0,1,2.83,0l1.4,1.43a1.91,1.91,0,0,1,.58,1.4,1.91,1.91,0,0,1-.58,1.4L9.25,21ZM18.45,9,17,7.55Zm-12,3A5.31,5.31,0,0,0,4.9,8.1,5.31,5.31,0,0,0,1,6.5,5.31,5.31,0,0,0,4.9,4.9,5.31,5.31,0,0,0,6.5,1,5.31,5.31,0,0,0,8.1,4.9,5.31,5.31,0,0,0,12,6.5,5.46,5.46,0,0,0,6.5,12Z\"/>\n",
              "  </svg>\n",
              "    </button>\n",
              "    <script>\n",
              "      (() => {\n",
              "      const buttonEl =\n",
              "        document.querySelector('#id_35188eee-1b15-4096-b9fe-8c147bed131f button.colab-df-generate');\n",
              "      buttonEl.style.display =\n",
              "        google.colab.kernel.accessAllowed ? 'block' : 'none';\n",
              "\n",
              "      buttonEl.onclick = () => {\n",
              "        google.colab.notebook.generateWithVariable('df');\n",
              "      }\n",
              "      })();\n",
              "    </script>\n",
              "  </div>\n",
              "\n",
              "    </div>\n",
              "  </div>\n"
            ],
            "application/vnd.google.colaboratory.intrinsic+json": {
              "type": "dataframe",
              "variable_name": "df",
              "summary": "{\n  \"name\": \"df\",\n  \"rows\": 747,\n  \"fields\": [\n    {\n      \"column\": \"Sno.\",\n      \"properties\": {\n        \"dtype\": \"number\",\n        \"std\": 215,\n        \"min\": 1,\n        \"max\": 747,\n        \"num_unique_values\": 747,\n        \"samples\": [\n          209,\n          260,\n          98\n        ],\n        \"semantic_type\": \"\",\n        \"description\": \"\"\n      }\n    },\n    {\n      \"column\": \"Text\",\n      \"properties\": {\n        \"dtype\": \"string\",\n        \"num_unique_values\": 730,\n        \"samples\": [\n          \"Mastered the art of creating paper airplanes during lecture. Paper planes: Soaring to new heights! \",\n          \" Wrestling with thoughts, a perplexed mind lost in the labyrinth of life's complexities. \",\n          \"Imbued with gratitude for the simple pleasure of a warm cup of tea. \"\n        ],\n        \"semantic_type\": \"\",\n        \"description\": \"\"\n      }\n    },\n    {\n      \"column\": \"Sentiment\",\n      \"properties\": {\n        \"dtype\": \"number\",\n        \"std\": 0,\n        \"min\": 0,\n        \"max\": 2,\n        \"num_unique_values\": 3,\n        \"samples\": [\n          0,\n          1,\n          2\n        ],\n        \"semantic_type\": \"\",\n        \"description\": \"\"\n      }\n    },\n    {\n      \"column\": \"Timestamp\",\n      \"properties\": {\n        \"dtype\": \"object\",\n        \"num_unique_values\": 693,\n        \"samples\": [\n          \"9/10/2017 20:15\",\n          \"2/21/2023 19:30\",\n          \"7/2/2016 23:30\"\n        ],\n        \"semantic_type\": \"\",\n        \"description\": \"\"\n      }\n    },\n    {\n      \"column\": \"User\",\n      \"properties\": {\n        \"dtype\": \"string\",\n        \"num_unique_values\": 677,\n        \"samples\": [\n          \"MiseryMaze  \",\n          \" StormSeeker \",\n          \" MovieBuff2      \"\n        ],\n        \"semantic_type\": \"\",\n        \"description\": \"\"\n      }\n    },\n    {\n      \"column\": \"Platform\",\n      \"properties\": {\n        \"dtype\": \"category\",\n        \"num_unique_values\": 3,\n        \"samples\": [\n          \"Twitter \",\n          \"Instagram \",\n          \"Facebook \"\n        ],\n        \"semantic_type\": \"\",\n        \"description\": \"\"\n      }\n    }\n  ]\n}"
            }
          },
          "metadata": {},
          "execution_count": 7
        }
      ]
    },
    {
      "cell_type": "markdown",
      "source": [
        "'0' represents positive sentiments\n",
        "\n",
        "'1' represents negative sentiments\n",
        "\n",
        "'2' represents neutral sentiments"
      ],
      "metadata": {
        "id": "grJ9P8GCjfr1"
      }
    },
    {
      "cell_type": "code",
      "source": [
        "df.info()"
      ],
      "metadata": {
        "colab": {
          "base_uri": "https://localhost:8080/"
        },
        "id": "FeW8Auz0jxOs",
        "outputId": "3d60ca77-bef1-4f8e-8a71-449b9e55a205"
      },
      "execution_count": 8,
      "outputs": [
        {
          "output_type": "stream",
          "name": "stdout",
          "text": [
            "<class 'pandas.core.frame.DataFrame'>\n",
            "RangeIndex: 747 entries, 0 to 746\n",
            "Data columns (total 6 columns):\n",
            " #   Column     Non-Null Count  Dtype \n",
            "---  ------     --------------  ----- \n",
            " 0   Sno.       747 non-null    int64 \n",
            " 1   Text       747 non-null    object\n",
            " 2   Sentiment  747 non-null    int64 \n",
            " 3   Timestamp  747 non-null    object\n",
            " 4   User       747 non-null    object\n",
            " 5   Platform   747 non-null    object\n",
            "dtypes: int64(2), object(4)\n",
            "memory usage: 35.1+ KB\n"
          ]
        }
      ]
    },
    {
      "cell_type": "markdown",
      "source": [
        "**STEP 2: Data Preprocessing**"
      ],
      "metadata": {
        "id": "ymgTjXnBdo9w"
      }
    },
    {
      "cell_type": "markdown",
      "source": [
        "Step 2.1: Variable Declaration"
      ],
      "metadata": {
        "id": "JEC-y-Wpk04F"
      }
    },
    {
      "cell_type": "code",
      "source": [
        "# Variables related to dataset\n",
        "DATASET_COLUMNS = [\"Text\", \"Sentiment\"]\n",
        "DATASET_ENCODING = \"utf-8\"\n",
        "TRAIN_SIZE = 0.8\n",
        "\n",
        "# Parameters for WORD2VEC\n",
        "W2V_SIZE = 300\n",
        "W2V_WINDOW = 7\n",
        "W2V_EPOCH = 32\n",
        "W2V_MIN_COUNT = 10\n",
        "\n",
        "# Parameters related to KERAS\n",
        "SEQUENCE_LENGTH = 300\n",
        "EPOCHS = 8\n",
        "BATCH_SIZE = 1024\n",
        "\n",
        "# Variable specific to SENTIMENT\n",
        "POSITIVE = \"0\"\n",
        "NEGATIVE = \"1\"\n",
        "NEUTRAL = \"2\"\n",
        "SENTIMENT_THRESHOLDS = (0.5, 0.8)\n",
        "\n",
        "# Variables for Exporting purpose\n",
        "KERAS_MODEL = \"model.h5\"\n",
        "WORD2VEC_MODEL = \"model.w2v\"\n",
        "TOKENIZER_MODEL = \"tokenizer.pkl\"\n",
        "ENCODER_MODEL = \"encoder.pkl\"\n",
        "\n",
        "# MISC\n",
        "plt.style.use('fivethirtyeight')\n",
        "pd.options.display.max_columns = 250\n",
        "pd.options.display.max_rows = 250"
      ],
      "metadata": {
        "id": "2n-aQC9hkfhK"
      },
      "execution_count": 9,
      "outputs": []
    },
    {
      "cell_type": "markdown",
      "source": [
        "Variable Declaration, I am defining and initializing key variables and parameters that will be used throughout my sentiment analysis project because by defining these variables, I am organizing my project and making it easier to adjust parameters and configurations as needed."
      ],
      "metadata": {
        "id": "9jnjgu_XlHd6"
      }
    },
    {
      "cell_type": "markdown",
      "source": [
        "Step 2.2: Null Values Identification and Treatment"
      ],
      "metadata": {
        "id": "KnGlhtdxmMub"
      }
    },
    {
      "cell_type": "code",
      "source": [
        "# Confirming presence of missing values in each variable\n",
        "df.isnull().sum()"
      ],
      "metadata": {
        "colab": {
          "base_uri": "https://localhost:8080/"
        },
        "id": "uAhiBwTHlVym",
        "outputId": "381945e6-42ad-4be6-c9e6-aee7ad9f9180"
      },
      "execution_count": 10,
      "outputs": [
        {
          "output_type": "execute_result",
          "data": {
            "text/plain": [
              "Sno.         0\n",
              "Text         0\n",
              "Sentiment    0\n",
              "Timestamp    0\n",
              "User         0\n",
              "Platform     0\n",
              "dtype: int64"
            ]
          },
          "metadata": {},
          "execution_count": 10
        }
      ]
    },
    {
      "cell_type": "markdown",
      "source": [
        "no missing values in any of the columns of dataset"
      ],
      "metadata": {
        "id": "aSjrNz6Plu9s"
      }
    },
    {
      "cell_type": "markdown",
      "source": [
        "Step 2.3: Label Encoding"
      ],
      "metadata": {
        "id": "Jy2_RYGZmcsB"
      }
    },
    {
      "cell_type": "code",
      "source": [
        "decode_map = {0: \"POSITIVE\", 1: \"NEGATIVE\", 2: \"NEUTRAL\"}\n",
        "\n",
        "def decode_sentiment(label):\n",
        "    return decode_map[label]\n",
        "\n",
        "df['Sentiment_decoded'] = df['Sentiment'].apply(lambda x: decode_sentiment(x))"
      ],
      "metadata": {
        "id": "8mAosyA6rlEm"
      },
      "execution_count": 11,
      "outputs": []
    },
    {
      "cell_type": "code",
      "source": [
        "from collections import Counter\n",
        "\n",
        "sentiment_counts = Counter(df['Sentiment_decoded'])\n",
        "\n",
        "plt.figure(figsize=(10, 6))\n",
        "plt.bar(sentiment_counts.keys(), sentiment_counts.values())\n",
        "plt.title(\"Distribution of Sentiment Labels\")\n",
        "plt.xlabel(\"Sentiment Category\")\n",
        "plt.ylabel(\"Count\")\n",
        "plt.show()"
      ],
      "metadata": {
        "colab": {
          "base_uri": "https://localhost:8080/",
          "height": 605
        },
        "id": "hPN8YNl4nZ8s",
        "outputId": "28f14d60-9677-46f5-e4b8-33eb8412e56c"
      },
      "execution_count": 12,
      "outputs": [
        {
          "output_type": "display_data",
          "data": {
            "text/plain": [
              "<Figure size 1000x600 with 1 Axes>"
            ],
            "image/png": "[encoded data removed]"
          },
          "metadata": {}
        }
      ]
    },
    {
      "cell_type": "markdown",
      "source": [
        "The number of Positive Sentiments in the dataset are: 315\n",
        "\n",
        "The number of Negative Sentiments in the dataset are: 254\n",
        "\n",
        "The number of Neutral Sentiments in the dataset are: 178"
      ],
      "metadata": {
        "id": "aie3_nczsOyq"
      }
    },
    {
      "cell_type": "markdown",
      "source": [
        "Step 2.4: Text Manipulation and Structurization"
      ],
      "metadata": {
        "id": "iUVRWJNrs4NX"
      }
    },
    {
      "cell_type": "code",
      "source": [
        "stop_words = set(stopwords.words(\"english\"))\n",
        "stop_words.remove('not')\n",
        "more_stopwords = {'one', 'br', 'Po', 'th', 'sayi', 'fo', 'Unknown'}\n",
        "stop_words = stop_words.union(more_stopwords)\n",
        "\n",
        "stemmer = SnowballStemmer(\"english\")"
      ],
      "metadata": {
        "id": "rLOkMFUxs7XZ"
      },
      "execution_count": 13,
      "outputs": []
    },
    {
      "cell_type": "code",
      "source": [
        "def remove_URL(text):\n",
        "    url = re.compile(r'https?://\\S+|www\\.\\S+')\n",
        "    return url.sub(r'', text)\n",
        "\n",
        "def remove_emoji(text):\n",
        "    emoji_pattern = re.compile(\n",
        "        '['\n",
        "        u'\\U0001F600-\\U0001F64F'  # emoticons\n",
        "        u'\\U0001F300-\\U0001F5FF'  # symbols & pictographs\n",
        "        u'\\U0001F680-\\U0001F6FF'  # transport & map symbols\n",
        "        u'\\U0001F1E0-\\U0001F1FF'  # flags (iOS)\n",
        "        u'\\U00002702-\\U000027B0'\n",
        "        u'\\U000024C2-\\U0001F251'\n",
        "        ']+',\n",
        "        flags=re.UNICODE)\n",
        "    return emoji_pattern.sub(r'', text)\n",
        "\n",
        "def remove_html(text):\n",
        "    html = re.compile(r'<.*?>')\n",
        "    return re.sub(html, '', text)\n",
        "\n",
        "def remove_punct(text):\n",
        "    table = str.maketrans('', '', string.punctuation)\n",
        "    return text.translate(table)\n",
        "\n",
        "def remove_quotes(text):\n",
        "    quotes = re.compile(r'[^A-Za-z0-9\\s]+')\n",
        "    return re.sub(quotes, '', text)\n",
        "\n",
        "# Applying helper functions\n",
        "df['mod_text'] = df['Text'].apply(lambda x: remove_URL(x))\n",
        "df['mod_text'] = df['mod_text'].apply(lambda x: remove_emoji(x))\n",
        "df['mod_text'] = df['mod_text'].apply(lambda x: remove_html(x))\n",
        "df['mod_text'] = df['mod_text'].apply(lambda x: remove_punct(x))\n",
        "df['mod_text'] = df['mod_text'].apply(lambda x: remove_quotes(x))\n",
        "\n",
        "df.head()"
      ],
      "metadata": {
        "colab": {
          "base_uri": "https://localhost:8080/",
          "height": 206
        },
        "id": "fGPude0ptfVe",
        "outputId": "5176093d-d7c4-4a88-925c-271087bd6f0a"
      },
      "execution_count": 14,
      "outputs": [
        {
          "output_type": "execute_result",
          "data": {
            "text/plain": [
              "   Sno.                                               Text  Sentiment  \\\n",
              "0     1   Enjoying a beautiful day at the park!        ...          0   \n",
              "1     2   Traffic was terrible this morning.           ...          1   \n",
              "2     3   Just finished an amazing workout! üí™       ...          0   \n",
              "3     4   Excited about the upcoming weekend getaway!  ...          0   \n",
              "4     5   Trying out a new recipe for dinner tonight.  ...          2   \n",
              "\n",
              "         Timestamp            User    Platform Sentiment_decoded  \\\n",
              "0  1/15/2023 12:30   User123          Twitter           POSITIVE   \n",
              "1   1/15/2023 8:45   CommuterX        Twitter           NEGATIVE   \n",
              "2  1/15/2023 15:45   FitnessFan     Instagram           POSITIVE   \n",
              "3  1/15/2023 18:20   AdventureX      Facebook           POSITIVE   \n",
              "4  1/15/2023 19:55   ChefCook       Instagram            NEUTRAL   \n",
              "\n",
              "                                            mod_text  \n",
              "0   Enjoying a beautiful day at the park         ...  \n",
              "1   Traffic was terrible this morning            ...  \n",
              "2   Just finished an amazing workout                  \n",
              "3   Excited about the upcoming weekend getaway   ...  \n",
              "4   Trying out a new recipe for dinner tonight   ...  "
            ],
            "text/html": [
              "\n",
              "  <div id=\"df-4afa6979-4c2e-4962-8868-e04894c21d64\" class=\"colab-df-container\">\n",
              "    <div>\n",
              "<style scoped>\n",
              "    .dataframe tbody tr th:only-of-type {\n",
              "        vertical-align: middle;\n",
              "    }\n",
              "\n",
              "    .dataframe tbody tr th {\n",
              "        vertical-align: top;\n",
              "    }\n",
              "\n",
              "    .dataframe thead th {\n",
              "        text-align: right;\n",
              "    }\n",
              "</style>\n",
              "<table border=\"1\" class=\"dataframe\">\n",
              "  <thead>\n",
              "    <tr style=\"text-align: right;\">\n",
              "      <th></th>\n",
              "      <th>Sno.</th>\n",
              "      <th>Text</th>\n",
              "      <th>Sentiment</th>\n",
              "      <th>Timestamp</th>\n",
              "      <th>User</th>\n",
              "      <th>Platform</th>\n",
              "      <th>Sentiment_decoded</th>\n",
              "      <th>mod_text</th>\n",
              "    </tr>\n",
              "  </thead>\n",
              "  <tbody>\n",
              "    <tr>\n",
              "      <th>0</th>\n",
              "      <td>1</td>\n",
              "      <td>Enjoying a beautiful day at the park!        ...</td>\n",
              "      <td>0</td>\n",
              "      <td>1/15/2023 12:30</td>\n",
              "      <td>User123</td>\n",
              "      <td>Twitter</td>\n",
              "      <td>POSITIVE</td>\n",
              "      <td>Enjoying a beautiful day at the park         ...</td>\n",
              "    </tr>\n",
              "    <tr>\n",
              "      <th>1</th>\n",
              "      <td>2</td>\n",
              "      <td>Traffic was terrible this morning.           ...</td>\n",
              "      <td>1</td>\n",
              "      <td>1/15/2023 8:45</td>\n",
              "      <td>CommuterX</td>\n",
              "      <td>Twitter</td>\n",
              "      <td>NEGATIVE</td>\n",
              "      <td>Traffic was terrible this morning            ...</td>\n",
              "    </tr>\n",
              "    <tr>\n",
              "      <th>2</th>\n",
              "      <td>3</td>\n",
              "      <td>Just finished an amazing workout! üí™       ...</td>\n",
              "      <td>0</td>\n",
              "      <td>1/15/2023 15:45</td>\n",
              "      <td>FitnessFan</td>\n",
              "      <td>Instagram</td>\n",
              "      <td>POSITIVE</td>\n",
              "      <td>Just finished an amazing workout</td>\n",
              "    </tr>\n",
              "    <tr>\n",
              "      <th>3</th>\n",
              "      <td>4</td>\n",
              "      <td>Excited about the upcoming weekend getaway!  ...</td>\n",
              "      <td>0</td>\n",
              "      <td>1/15/2023 18:20</td>\n",
              "      <td>AdventureX</td>\n",
              "      <td>Facebook</td>\n",
              "      <td>POSITIVE</td>\n",
              "      <td>Excited about the upcoming weekend getaway   ...</td>\n",
              "    </tr>\n",
              "    <tr>\n",
              "      <th>4</th>\n",
              "      <td>5</td>\n",
              "      <td>Trying out a new recipe for dinner tonight.  ...</td>\n",
              "      <td>2</td>\n",
              "      <td>1/15/2023 19:55</td>\n",
              "      <td>ChefCook</td>\n",
              "      <td>Instagram</td>\n",
              "      <td>NEUTRAL</td>\n",
              "      <td>Trying out a new recipe for dinner tonight   ...</td>\n",
              "    </tr>\n",
              "  </tbody>\n",
              "</table>\n",
              "</div>\n",
              "    <div class=\"colab-df-buttons\">\n",
              "\n",
              "  <div class=\"colab-df-container\">\n",
              "    <button class=\"colab-df-convert\" onclick=\"convertToInteractive('df-4afa6979-4c2e-4962-8868-e04894c21d64')\"\n",
              "            title=\"Convert this dataframe to an interactive table.\"\n",
              "            style=\"display:none;\">\n",
              "\n",
              "  <svg xmlns=\"http://www.w3.org/2000/svg\" height=\"24px\" viewBox=\"0 -960 960 960\">\n",
              "    <path d=\"M120-120v-720h720v720H120Zm60-500h600v-160H180v160Zm220 220h160v-160H400v160Zm0 220h160v-160H400v160ZM180-400h160v-160H180v160Zm440 0h160v-160H620v160ZM180-180h160v-160H180v160Zm440 0h160v-160H620v160Z\"/>\n",
              "  </svg>\n",
              "    </button>\n",
              "\n",
              "  <style>\n",
              "    .colab-df-container {\n",
              "      display:flex;\n",
              "      gap: 12px;\n",
              "    }\n",
              "\n",
              "    .colab-df-convert {\n",
              "      background-color: #E8F0FE;\n",
              "      border: none;\n",
              "      border-radius: 50%;\n",
              "      cursor: pointer;\n",
              "      display: none;\n",
              "      fill: #1967D2;\n",
              "      height: 32px;\n",
              "      padding: 0 0 0 0;\n",
              "      width: 32px;\n",
              "    }\n",
              "\n",
              "    .colab-df-convert:hover {\n",
              "      background-color: #E2EBFA;\n",
              "      box-shadow: 0px 1px 2px rgba(60, 64, 67, 0.3), 0px 1px 3px 1px rgba(60, 64, 67, 0.15);\n",
              "      fill: #174EA6;\n",
              "    }\n",
              "\n",
              "    .colab-df-buttons div {\n",
              "      margin-bottom: 4px;\n",
              "    }\n",
              "\n",
              "    [theme=dark] .colab-df-convert {\n",
              "      background-color: #3B4455;\n",
              "      fill: #D2E3FC;\n",
              "    }\n",
              "\n",
              "    [theme=dark] .colab-df-convert:hover {\n",
              "      background-color: #434B5C;\n",
              "      box-shadow: 0px 1px 3px 1px rgba(0, 0, 0, 0.15);\n",
              "      filter: drop-shadow(0px 1px 2px rgba(0, 0, 0, 0.3));\n",
              "      fill: #FFFFFF;\n",
              "    }\n",
              "  </style>\n",
              "\n",
              "    <script>\n",
              "      const buttonEl =\n",
              "        document.querySelector('#df-4afa6979-4c2e-4962-8868-e04894c21d64 button.colab-df-convert');\n",
              "      buttonEl.style.display =\n",
              "        google.colab.kernel.accessAllowed ? 'block' : 'none';\n",
              "\n",
              "      async function convertToInteractive(key) {\n",
              "        const element = document.querySelector('#df-4afa6979-4c2e-4962-8868-e04894c21d64');\n",
              "        const dataTable =\n",
              "          await google.colab.kernel.invokeFunction('convertToInteractive',\n",
              "                                                    [key], {});\n",
              "        if (!dataTable) return;\n",
              "\n",
              "        const docLinkHtml = 'Like what you see? Visit the ' +\n",
              "          '<a target=\"_blank\" href=https://colab.research.google.com/notebooks/data_table.ipynb>data table notebook</a>'\n",
              "          + ' to learn more about interactive tables.';\n",
              "        element.innerHTML = '';\n",
              "        dataTable['output_type'] = 'display_data';\n",
              "        await google.colab.output.renderOutput(dataTable, element);\n",
              "        const docLink = document.createElement('div');\n",
              "        docLink.innerHTML = docLinkHtml;\n",
              "        element.appendChild(docLink);\n",
              "      }\n",
              "    </script>\n",
              "  </div>\n",
              "\n",
              "\n",
              "<div id=\"df-c34315fe-51ae-4b2e-b475-77760f2bac44\">\n",
              "  <button class=\"colab-df-quickchart\" onclick=\"quickchart('df-c34315fe-51ae-4b2e-b475-77760f2bac44')\"\n",
              "            title=\"Suggest charts\"\n",
              "            style=\"display:none;\">\n",
              "\n",
              "<svg xmlns=\"http://www.w3.org/2000/svg\" height=\"24px\"viewBox=\"0 0 24 24\"\n",
              "     width=\"24px\">\n",
              "    <g>\n",
              "        <path d=\"M19 3H5c-1.1 0-2 .9-2 2v14c0 1.1.9 2 2 2h14c1.1 0 2-.9 2-2V5c0-1.1-.9-2-2-2zM9 17H7v-7h2v7zm4 0h-2V7h2v10zm4 0h-2v-4h2v4z\"/>\n",
              "    </g>\n",
              "</svg>\n",
              "  </button>\n",
              "\n",
              "<style>\n",
              "  .colab-df-quickchart {\n",
              "      --bg-color: #E8F0FE;\n",
              "      --fill-color: #1967D2;\n",
              "      --hover-bg-color: #E2EBFA;\n",
              "      --hover-fill-color: #174EA6;\n",
              "      --disabled-fill-color: #AAA;\n",
              "      --disabled-bg-color: #DDD;\n",
              "  }\n",
              "\n",
              "  [theme=dark] .colab-df-quickchart {\n",
              "      --bg-color: #3B4455;\n",
              "      --fill-color: #D2E3FC;\n",
              "      --hover-bg-color: #434B5C;\n",
              "      --hover-fill-color: #FFFFFF;\n",
              "      --disabled-bg-color: #3B4455;\n",
              "      --disabled-fill-color: #666;\n",
              "  }\n",
              "\n",
              "  .colab-df-quickchart {\n",
              "    background-color: var(--bg-color);\n",
              "    border: none;\n",
              "    border-radius: 50%;\n",
              "    cursor: pointer;\n",
              "    display: none;\n",
              "    fill: var(--fill-color);\n",
              "    height: 32px;\n",
              "    padding: 0;\n",
              "    width: 32px;\n",
              "  }\n",
              "\n",
              "  .colab-df-quickchart:hover {\n",
              "    background-color: var(--hover-bg-color);\n",
              "    box-shadow: 0 1px 2px rgba(60, 64, 67, 0.3), 0 1px 3px 1px rgba(60, 64, 67, 0.15);\n",
              "    fill: var(--button-hover-fill-color);\n",
              "  }\n",
              "\n",
              "  .colab-df-quickchart-complete:disabled,\n",
              "  .colab-df-quickchart-complete:disabled:hover {\n",
              "    background-color: var(--disabled-bg-color);\n",
              "    fill: var(--disabled-fill-color);\n",
              "    box-shadow: none;\n",
              "  }\n",
              "\n",
              "  .colab-df-spinner {\n",
              "    border: 2px solid var(--fill-color);\n",
              "    border-color: transparent;\n",
              "    border-bottom-color: var(--fill-color);\n",
              "    animation:\n",
              "      spin 1s steps(1) infinite;\n",
              "  }\n",
              "\n",
              "  @keyframes spin {\n",
              "    0% {\n",
              "      border-color: transparent;\n",
              "      border-bottom-color: var(--fill-color);\n",
              "      border-left-color: var(--fill-color);\n",
              "    }\n",
              "    20% {\n",
              "      border-color: transparent;\n",
              "      border-left-color: var(--fill-color);\n",
              "      border-top-color: var(--fill-color);\n",
              "    }\n",
              "    30% {\n",
              "      border-color: transparent;\n",
              "      border-left-color: var(--fill-color);\n",
              "      border-top-color: var(--fill-color);\n",
              "      border-right-color: var(--fill-color);\n",
              "    }\n",
              "    40% {\n",
              "      border-color: transparent;\n",
              "      border-right-color: var(--fill-color);\n",
              "      border-top-color: var(--fill-color);\n",
              "    }\n",
              "    60% {\n",
              "      border-color: transparent;\n",
              "      border-right-color: var(--fill-color);\n",
              "    }\n",
              "    80% {\n",
              "      border-color: transparent;\n",
              "      border-right-color: var(--fill-color);\n",
              "      border-bottom-color: var(--fill-color);\n",
              "    }\n",
              "    90% {\n",
              "      border-color: transparent;\n",
              "      border-bottom-color: var(--fill-color);\n",
              "    }\n",
              "  }\n",
              "</style>\n",
              "\n",
              "  <script>\n",
              "    async function quickchart(key) {\n",
              "      const quickchartButtonEl =\n",
              "        document.querySelector('#' + key + ' button');\n",
              "      quickchartButtonEl.disabled = true;  // To prevent multiple clicks.\n",
              "      quickchartButtonEl.classList.add('colab-df-spinner');\n",
              "      try {\n",
              "        const charts = await google.colab.kernel.invokeFunction(\n",
              "            'suggestCharts', [key], {});\n",
              "      } catch (error) {\n",
              "        console.error('Error during call to suggestCharts:', error);\n",
              "      }\n",
              "      quickchartButtonEl.classList.remove('colab-df-spinner');\n",
              "      quickchartButtonEl.classList.add('colab-df-quickchart-complete');\n",
              "    }\n",
              "    (() => {\n",
              "      let quickchartButtonEl =\n",
              "        document.querySelector('#df-c34315fe-51ae-4b2e-b475-77760f2bac44 button');\n",
              "      quickchartButtonEl.style.display =\n",
              "        google.colab.kernel.accessAllowed ? 'block' : 'none';\n",
              "    })();\n",
              "  </script>\n",
              "</div>\n",
              "\n",
              "    </div>\n",
              "  </div>\n"
            ],
            "application/vnd.google.colaboratory.intrinsic+json": {
              "type": "dataframe",
              "variable_name": "df",
              "summary": "{\n  \"name\": \"df\",\n  \"rows\": 747,\n  \"fields\": [\n    {\n      \"column\": \"Sno.\",\n      \"properties\": {\n        \"dtype\": \"number\",\n        \"std\": 215,\n        \"min\": 1,\n        \"max\": 747,\n        \"num_unique_values\": 747,\n        \"samples\": [\n          209,\n          260,\n          98\n        ],\n        \"semantic_type\": \"\",\n        \"description\": \"\"\n      }\n    },\n    {\n      \"column\": \"Text\",\n      \"properties\": {\n        \"dtype\": \"string\",\n        \"num_unique_values\": 730,\n        \"samples\": [\n          \"Mastered the art of creating paper airplanes during lecture. Paper planes: Soaring to new heights! \",\n          \" Wrestling with thoughts, a perplexed mind lost in the labyrinth of life's complexities. \",\n          \"Imbued with gratitude for the simple pleasure of a warm cup of tea. \"\n        ],\n        \"semantic_type\": \"\",\n        \"description\": \"\"\n      }\n    },\n    {\n      \"column\": \"Sentiment\",\n      \"properties\": {\n        \"dtype\": \"number\",\n        \"std\": 0,\n        \"min\": 0,\n        \"max\": 2,\n        \"num_unique_values\": 3,\n        \"samples\": [\n          0,\n          1,\n          2\n        ],\n        \"semantic_type\": \"\",\n        \"description\": \"\"\n      }\n    },\n    {\n      \"column\": \"Timestamp\",\n      \"properties\": {\n        \"dtype\": \"object\",\n        \"num_unique_values\": 693,\n        \"samples\": [\n          \"9/10/2017 20:15\",\n          \"2/21/2023 19:30\",\n          \"7/2/2016 23:30\"\n        ],\n        \"semantic_type\": \"\",\n        \"description\": \"\"\n      }\n    },\n    {\n      \"column\": \"User\",\n      \"properties\": {\n        \"dtype\": \"string\",\n        \"num_unique_values\": 677,\n        \"samples\": [\n          \"MiseryMaze  \",\n          \" StormSeeker \",\n          \" MovieBuff2      \"\n        ],\n        \"semantic_type\": \"\",\n        \"description\": \"\"\n      }\n    },\n    {\n      \"column\": \"Platform\",\n      \"properties\": {\n        \"dtype\": \"category\",\n        \"num_unique_values\": 3,\n        \"samples\": [\n          \"Twitter \",\n          \"Instagram \",\n          \"Facebook \"\n        ],\n        \"semantic_type\": \"\",\n        \"description\": \"\"\n      }\n    },\n    {\n      \"column\": \"Sentiment_decoded\",\n      \"properties\": {\n        \"dtype\": \"category\",\n        \"num_unique_values\": 3,\n        \"samples\": [\n          \"POSITIVE\",\n          \"NEGATIVE\",\n          \"NEUTRAL\"\n        ],\n        \"semantic_type\": \"\",\n        \"description\": \"\"\n      }\n    },\n    {\n      \"column\": \"mod_text\",\n      \"properties\": {\n        \"dtype\": \"string\",\n        \"num_unique_values\": 730,\n        \"samples\": [\n          \"Mastered the art of creating paper airplanes during lecture Paper planes Soaring to new heights \",\n          \" Wrestling with thoughts a perplexed mind lost in the labyrinth of lifes complexities \",\n          \"Imbued with gratitude for the simple pleasure of a warm cup of tea \"\n        ],\n        \"semantic_type\": \"\",\n        \"description\": \"\"\n      }\n    }\n  ]\n}"
            }
          },
          "metadata": {},
          "execution_count": 14
        }
      ]
    },
    {
      "cell_type": "markdown",
      "source": [
        "Removing URLs from text.\n",
        "\n",
        "Removing emojis from text.\n",
        "\n",
        "Removing HTML tags from text.\n",
        "\n",
        "Removing punctuation from text.\n",
        "\n",
        "Removing quotes from text."
      ],
      "metadata": {
        "id": "aqX9yX__tVTB"
      }
    },
    {
      "cell_type": "code",
      "source": [
        "# Tokenizing the text\n",
        "df['tokenized'] = df['mod_text'].apply(word_tokenize)\n",
        "\n",
        "df.head()"
      ],
      "metadata": {
        "colab": {
          "base_uri": "https://localhost:8080/",
          "height": 293
        },
        "id": "icQkrrH7t0GF",
        "outputId": "c609fe28-7905-4890-da68-c6d951857feb"
      },
      "execution_count": 15,
      "outputs": [
        {
          "output_type": "execute_result",
          "data": {
            "text/plain": [
              "   Sno.                                               Text  Sentiment  \\\n",
              "0     1   Enjoying a beautiful day at the park!        ...          0   \n",
              "1     2   Traffic was terrible this morning.           ...          1   \n",
              "2     3   Just finished an amazing workout! üí™       ...          0   \n",
              "3     4   Excited about the upcoming weekend getaway!  ...          0   \n",
              "4     5   Trying out a new recipe for dinner tonight.  ...          2   \n",
              "\n",
              "         Timestamp            User    Platform Sentiment_decoded  \\\n",
              "0  1/15/2023 12:30   User123          Twitter           POSITIVE   \n",
              "1   1/15/2023 8:45   CommuterX        Twitter           NEGATIVE   \n",
              "2  1/15/2023 15:45   FitnessFan     Instagram           POSITIVE   \n",
              "3  1/15/2023 18:20   AdventureX      Facebook           POSITIVE   \n",
              "4  1/15/2023 19:55   ChefCook       Instagram            NEUTRAL   \n",
              "\n",
              "                                            mod_text  \\\n",
              "0   Enjoying a beautiful day at the park         ...   \n",
              "1   Traffic was terrible this morning            ...   \n",
              "2   Just finished an amazing workout                   \n",
              "3   Excited about the upcoming weekend getaway   ...   \n",
              "4   Trying out a new recipe for dinner tonight   ...   \n",
              "\n",
              "                                           tokenized  \n",
              "0       [Enjoying, a, beautiful, day, at, the, park]  \n",
              "1            [Traffic, was, terrible, this, morning]  \n",
              "2             [Just, finished, an, amazing, workout]  \n",
              "3  [Excited, about, the, upcoming, weekend, getaway]  \n",
              "4  [Trying, out, a, new, recipe, for, dinner, ton...  "
            ],
            "text/html": [
              "\n",
              "  <div id=\"df-d80eda34-4854-47b4-8af3-816991c8d60b\" class=\"colab-df-container\">\n",
              "    <div>\n",
              "<style scoped>\n",
              "    .dataframe tbody tr th:only-of-type {\n",
              "        vertical-align: middle;\n",
              "    }\n",
              "\n",
              "    .dataframe tbody tr th {\n",
              "        vertical-align: top;\n",
              "    }\n",
              "\n",
              "    .dataframe thead th {\n",
              "        text-align: right;\n",
              "    }\n",
              "</style>\n",
              "<table border=\"1\" class=\"dataframe\">\n",
              "  <thead>\n",
              "    <tr style=\"text-align: right;\">\n",
              "      <th></th>\n",
              "      <th>Sno.</th>\n",
              "      <th>Text</th>\n",
              "      <th>Sentiment</th>\n",
              "      <th>Timestamp</th>\n",
              "      <th>User</th>\n",
              "      <th>Platform</th>\n",
              "      <th>Sentiment_decoded</th>\n",
              "      <th>mod_text</th>\n",
              "      <th>tokenized</th>\n",
              "    </tr>\n",
              "  </thead>\n",
              "  <tbody>\n",
              "    <tr>\n",
              "      <th>0</th>\n",
              "      <td>1</td>\n",
              "      <td>Enjoying a beautiful day at the park!        ...</td>\n",
              "      <td>0</td>\n",
              "      <td>1/15/2023 12:30</td>\n",
              "      <td>User123</td>\n",
              "      <td>Twitter</td>\n",
              "      <td>POSITIVE</td>\n",
              "      <td>Enjoying a beautiful day at the park         ...</td>\n",
              "      <td>[Enjoying, a, beautiful, day, at, the, park]</td>\n",
              "    </tr>\n",
              "    <tr>\n",
              "      <th>1</th>\n",
              "      <td>2</td>\n",
              "      <td>Traffic was terrible this morning.           ...</td>\n",
              "      <td>1</td>\n",
              "      <td>1/15/2023 8:45</td>\n",
              "      <td>CommuterX</td>\n",
              "      <td>Twitter</td>\n",
              "      <td>NEGATIVE</td>\n",
              "      <td>Traffic was terrible this morning            ...</td>\n",
              "      <td>[Traffic, was, terrible, this, morning]</td>\n",
              "    </tr>\n",
              "    <tr>\n",
              "      <th>2</th>\n",
              "      <td>3</td>\n",
              "      <td>Just finished an amazing workout! üí™       ...</td>\n",
              "      <td>0</td>\n",
              "      <td>1/15/2023 15:45</td>\n",
              "      <td>FitnessFan</td>\n",
              "      <td>Instagram</td>\n",
              "      <td>POSITIVE</td>\n",
              "      <td>Just finished an amazing workout</td>\n",
              "      <td>[Just, finished, an, amazing, workout]</td>\n",
              "    </tr>\n",
              "    <tr>\n",
              "      <th>3</th>\n",
              "      <td>4</td>\n",
              "      <td>Excited about the upcoming weekend getaway!  ...</td>\n",
              "      <td>0</td>\n",
              "      <td>1/15/2023 18:20</td>\n",
              "      <td>AdventureX</td>\n",
              "      <td>Facebook</td>\n",
              "      <td>POSITIVE</td>\n",
              "      <td>Excited about the upcoming weekend getaway   ...</td>\n",
              "      <td>[Excited, about, the, upcoming, weekend, getaway]</td>\n",
              "    </tr>\n",
              "    <tr>\n",
              "      <th>4</th>\n",
              "      <td>5</td>\n",
              "      <td>Trying out a new recipe for dinner tonight.  ...</td>\n",
              "      <td>2</td>\n",
              "      <td>1/15/2023 19:55</td>\n",
              "      <td>ChefCook</td>\n",
              "      <td>Instagram</td>\n",
              "      <td>NEUTRAL</td>\n",
              "      <td>Trying out a new recipe for dinner tonight   ...</td>\n",
              "      <td>[Trying, out, a, new, recipe, for, dinner, ton...</td>\n",
              "    </tr>\n",
              "  </tbody>\n",
              "</table>\n",
              "</div>\n",
              "    <div class=\"colab-df-buttons\">\n",
              "\n",
              "  <div class=\"colab-df-container\">\n",
              "    <button class=\"colab-df-convert\" onclick=\"convertToInteractive('df-d80eda34-4854-47b4-8af3-816991c8d60b')\"\n",
              "            title=\"Convert this dataframe to an interactive table.\"\n",
              "            style=\"display:none;\">\n",
              "\n",
              "  <svg xmlns=\"http://www.w3.org/2000/svg\" height=\"24px\" viewBox=\"0 -960 960 960\">\n",
              "    <path d=\"M120-120v-720h720v720H120Zm60-500h600v-160H180v160Zm220 220h160v-160H400v160Zm0 220h160v-160H400v160ZM180-400h160v-160H180v160Zm440 0h160v-160H620v160ZM180-180h160v-160H180v160Zm440 0h160v-160H620v160Z\"/>\n",
              "  </svg>\n",
              "    </button>\n",
              "\n",
              "  <style>\n",
              "    .colab-df-container {\n",
              "      display:flex;\n",
              "      gap: 12px;\n",
              "    }\n",
              "\n",
              "    .colab-df-convert {\n",
              "      background-color: #E8F0FE;\n",
              "      border: none;\n",
              "      border-radius: 50%;\n",
              "      cursor: pointer;\n",
              "      display: none;\n",
              "      fill: #1967D2;\n",
              "      height: 32px;\n",
              "      padding: 0 0 0 0;\n",
              "      width: 32px;\n",
              "    }\n",
              "\n",
              "    .colab-df-convert:hover {\n",
              "      background-color: #E2EBFA;\n",
              "      box-shadow: 0px 1px 2px rgba(60, 64, 67, 0.3), 0px 1px 3px 1px rgba(60, 64, 67, 0.15);\n",
              "      fill: #174EA6;\n",
              "    }\n",
              "\n",
              "    .colab-df-buttons div {\n",
              "      margin-bottom: 4px;\n",
              "    }\n",
              "\n",
              "    [theme=dark] .colab-df-convert {\n",
              "      background-color: #3B4455;\n",
              "      fill: #D2E3FC;\n",
              "    }\n",
              "\n",
              "    [theme=dark] .colab-df-convert:hover {\n",
              "      background-color: #434B5C;\n",
              "      box-shadow: 0px 1px 3px 1px rgba(0, 0, 0, 0.15);\n",
              "      filter: drop-shadow(0px 1px 2px rgba(0, 0, 0, 0.3));\n",
              "      fill: #FFFFFF;\n",
              "    }\n",
              "  </style>\n",
              "\n",
              "    <script>\n",
              "      const buttonEl =\n",
              "        document.querySelector('#df-d80eda34-4854-47b4-8af3-816991c8d60b button.colab-df-convert');\n",
              "      buttonEl.style.display =\n",
              "        google.colab.kernel.accessAllowed ? 'block' : 'none';\n",
              "\n",
              "      async function convertToInteractive(key) {\n",
              "        const element = document.querySelector('#df-d80eda34-4854-47b4-8af3-816991c8d60b');\n",
              "        const dataTable =\n",
              "          await google.colab.kernel.invokeFunction('convertToInteractive',\n",
              "                                                    [key], {});\n",
              "        if (!dataTable) return;\n",
              "\n",
              "        const docLinkHtml = 'Like what you see? Visit the ' +\n",
              "          '<a target=\"_blank\" href=https://colab.research.google.com/notebooks/data_table.ipynb>data table notebook</a>'\n",
              "          + ' to learn more about interactive tables.';\n",
              "        element.innerHTML = '';\n",
              "        dataTable['output_type'] = 'display_data';\n",
              "        await google.colab.output.renderOutput(dataTable, element);\n",
              "        const docLink = document.createElement('div');\n",
              "        docLink.innerHTML = docLinkHtml;\n",
              "        element.appendChild(docLink);\n",
              "      }\n",
              "    </script>\n",
              "  </div>\n",
              "\n",
              "\n",
              "<div id=\"df-db2fdf61-b491-427d-873a-3be8ec6c3a3e\">\n",
              "  <button class=\"colab-df-quickchart\" onclick=\"quickchart('df-db2fdf61-b491-427d-873a-3be8ec6c3a3e')\"\n",
              "            title=\"Suggest charts\"\n",
              "            style=\"display:none;\">\n",
              "\n",
              "<svg xmlns=\"http://www.w3.org/2000/svg\" height=\"24px\"viewBox=\"0 0 24 24\"\n",
              "     width=\"24px\">\n",
              "    <g>\n",
              "        <path d=\"M19 3H5c-1.1 0-2 .9-2 2v14c0 1.1.9 2 2 2h14c1.1 0 2-.9 2-2V5c0-1.1-.9-2-2-2zM9 17H7v-7h2v7zm4 0h-2V7h2v10zm4 0h-2v-4h2v4z\"/>\n",
              "    </g>\n",
              "</svg>\n",
              "  </button>\n",
              "\n",
              "<style>\n",
              "  .colab-df-quickchart {\n",
              "      --bg-color: #E8F0FE;\n",
              "      --fill-color: #1967D2;\n",
              "      --hover-bg-color: #E2EBFA;\n",
              "      --hover-fill-color: #174EA6;\n",
              "      --disabled-fill-color: #AAA;\n",
              "      --disabled-bg-color: #DDD;\n",
              "  }\n",
              "\n",
              "  [theme=dark] .colab-df-quickchart {\n",
              "      --bg-color: #3B4455;\n",
              "      --fill-color: #D2E3FC;\n",
              "      --hover-bg-color: #434B5C;\n",
              "      --hover-fill-color: #FFFFFF;\n",
              "      --disabled-bg-color: #3B4455;\n",
              "      --disabled-fill-color: #666;\n",
              "  }\n",
              "\n",
              "  .colab-df-quickchart {\n",
              "    background-color: var(--bg-color);\n",
              "    border: none;\n",
              "    border-radius: 50%;\n",
              "    cursor: pointer;\n",
              "    display: none;\n",
              "    fill: var(--fill-color);\n",
              "    height: 32px;\n",
              "    padding: 0;\n",
              "    width: 32px;\n",
              "  }\n",
              "\n",
              "  .colab-df-quickchart:hover {\n",
              "    background-color: var(--hover-bg-color);\n",
              "    box-shadow: 0 1px 2px rgba(60, 64, 67, 0.3), 0 1px 3px 1px rgba(60, 64, 67, 0.15);\n",
              "    fill: var(--button-hover-fill-color);\n",
              "  }\n",
              "\n",
              "  .colab-df-quickchart-complete:disabled,\n",
              "  .colab-df-quickchart-complete:disabled:hover {\n",
              "    background-color: var(--disabled-bg-color);\n",
              "    fill: var(--disabled-fill-color);\n",
              "    box-shadow: none;\n",
              "  }\n",
              "\n",
              "  .colab-df-spinner {\n",
              "    border: 2px solid var(--fill-color);\n",
              "    border-color: transparent;\n",
              "    border-bottom-color: var(--fill-color);\n",
              "    animation:\n",
              "      spin 1s steps(1) infinite;\n",
              "  }\n",
              "\n",
              "  @keyframes spin {\n",
              "    0% {\n",
              "      border-color: transparent;\n",
              "      border-bottom-color: var(--fill-color);\n",
              "      border-left-color: var(--fill-color);\n",
              "    }\n",
              "    20% {\n",
              "      border-color: transparent;\n",
              "      border-left-color: var(--fill-color);\n",
              "      border-top-color: var(--fill-color);\n",
              "    }\n",
              "    30% {\n",
              "      border-color: transparent;\n",
              "      border-left-color: var(--fill-color);\n",
              "      border-top-color: var(--fill-color);\n",
              "      border-right-color: var(--fill-color);\n",
              "    }\n",
              "    40% {\n",
              "      border-color: transparent;\n",
              "      border-right-color: var(--fill-color);\n",
              "      border-top-color: var(--fill-color);\n",
              "    }\n",
              "    60% {\n",
              "      border-color: transparent;\n",
              "      border-right-color: var(--fill-color);\n",
              "    }\n",
              "    80% {\n",
              "      border-color: transparent;\n",
              "      border-right-color: var(--fill-color);\n",
              "      border-bottom-color: var(--fill-color);\n",
              "    }\n",
              "    90% {\n",
              "      border-color: transparent;\n",
              "      border-bottom-color: var(--fill-color);\n",
              "    }\n",
              "  }\n",
              "</style>\n",
              "\n",
              "  <script>\n",
              "    async function quickchart(key) {\n",
              "      const quickchartButtonEl =\n",
              "        document.querySelector('#' + key + ' button');\n",
              "      quickchartButtonEl.disabled = true;  // To prevent multiple clicks.\n",
              "      quickchartButtonEl.classList.add('colab-df-spinner');\n",
              "      try {\n",
              "        const charts = await google.colab.kernel.invokeFunction(\n",
              "            'suggestCharts', [key], {});\n",
              "      } catch (error) {\n",
              "        console.error('Error during call to suggestCharts:', error);\n",
              "      }\n",
              "      quickchartButtonEl.classList.remove('colab-df-spinner');\n",
              "      quickchartButtonEl.classList.add('colab-df-quickchart-complete');\n",
              "    }\n",
              "    (() => {\n",
              "      let quickchartButtonEl =\n",
              "        document.querySelector('#df-db2fdf61-b491-427d-873a-3be8ec6c3a3e button');\n",
              "      quickchartButtonEl.style.display =\n",
              "        google.colab.kernel.accessAllowed ? 'block' : 'none';\n",
              "    })();\n",
              "  </script>\n",
              "</div>\n",
              "\n",
              "    </div>\n",
              "  </div>\n"
            ],
            "application/vnd.google.colaboratory.intrinsic+json": {
              "type": "dataframe",
              "variable_name": "df",
              "summary": "{\n  \"name\": \"df\",\n  \"rows\": 747,\n  \"fields\": [\n    {\n      \"column\": \"Sno.\",\n      \"properties\": {\n        \"dtype\": \"number\",\n        \"std\": 215,\n        \"min\": 1,\n        \"max\": 747,\n        \"num_unique_values\": 747,\n        \"samples\": [\n          209,\n          260,\n          98\n        ],\n        \"semantic_type\": \"\",\n        \"description\": \"\"\n      }\n    },\n    {\n      \"column\": \"Text\",\n      \"properties\": {\n        \"dtype\": \"string\",\n        \"num_unique_values\": 730,\n        \"samples\": [\n          \"Mastered the art of creating paper airplanes during lecture. Paper planes: Soaring to new heights! \",\n          \" Wrestling with thoughts, a perplexed mind lost in the labyrinth of life's complexities. \",\n          \"Imbued with gratitude for the simple pleasure of a warm cup of tea. \"\n        ],\n        \"semantic_type\": \"\",\n        \"description\": \"\"\n      }\n    },\n    {\n      \"column\": \"Sentiment\",\n      \"properties\": {\n        \"dtype\": \"number\",\n        \"std\": 0,\n        \"min\": 0,\n        \"max\": 2,\n        \"num_unique_values\": 3,\n        \"samples\": [\n          0,\n          1,\n          2\n        ],\n        \"semantic_type\": \"\",\n        \"description\": \"\"\n      }\n    },\n    {\n      \"column\": \"Timestamp\",\n      \"properties\": {\n        \"dtype\": \"object\",\n        \"num_unique_values\": 693,\n        \"samples\": [\n          \"9/10/2017 20:15\",\n          \"2/21/2023 19:30\",\n          \"7/2/2016 23:30\"\n        ],\n        \"semantic_type\": \"\",\n        \"description\": \"\"\n      }\n    },\n    {\n      \"column\": \"User\",\n      \"properties\": {\n        \"dtype\": \"string\",\n        \"num_unique_values\": 677,\n        \"samples\": [\n          \"MiseryMaze  \",\n          \" StormSeeker \",\n          \" MovieBuff2      \"\n        ],\n        \"semantic_type\": \"\",\n        \"description\": \"\"\n      }\n    },\n    {\n      \"column\": \"Platform\",\n      \"properties\": {\n        \"dtype\": \"category\",\n        \"num_unique_values\": 3,\n        \"samples\": [\n          \"Twitter \",\n          \"Instagram \",\n          \"Facebook \"\n        ],\n        \"semantic_type\": \"\",\n        \"description\": \"\"\n      }\n    },\n    {\n      \"column\": \"Sentiment_decoded\",\n      \"properties\": {\n        \"dtype\": \"category\",\n        \"num_unique_values\": 3,\n        \"samples\": [\n          \"POSITIVE\",\n          \"NEGATIVE\",\n          \"NEUTRAL\"\n        ],\n        \"semantic_type\": \"\",\n        \"description\": \"\"\n      }\n    },\n    {\n      \"column\": \"mod_text\",\n      \"properties\": {\n        \"dtype\": \"string\",\n        \"num_unique_values\": 730,\n        \"samples\": [\n          \"Mastered the art of creating paper airplanes during lecture Paper planes Soaring to new heights \",\n          \" Wrestling with thoughts a perplexed mind lost in the labyrinth of lifes complexities \",\n          \"Imbued with gratitude for the simple pleasure of a warm cup of tea \"\n        ],\n        \"semantic_type\": \"\",\n        \"description\": \"\"\n      }\n    },\n    {\n      \"column\": \"tokenized\",\n      \"properties\": {\n        \"dtype\": \"object\",\n        \"semantic_type\": \"\",\n        \"description\": \"\"\n      }\n    }\n  ]\n}"
            }
          },
          "metadata": {},
          "execution_count": 15
        }
      ]
    },
    {
      "cell_type": "code",
      "source": [
        "# Lowercasing the tokenized text\n",
        "df['lower'] = df['tokenized'].apply(lambda x: [word.lower() for word in x])\n",
        "\n",
        "df.head()"
      ],
      "metadata": {
        "colab": {
          "base_uri": "https://localhost:8080/",
          "height": 328
        },
        "id": "xjEHM_6IHc7U",
        "outputId": "cb07da18-45de-454d-eadd-eea1f0a17474"
      },
      "execution_count": 16,
      "outputs": [
        {
          "output_type": "execute_result",
          "data": {
            "text/plain": [
              "   Sno.                                               Text  Sentiment  \\\n",
              "0     1   Enjoying a beautiful day at the park!        ...          0   \n",
              "1     2   Traffic was terrible this morning.           ...          1   \n",
              "2     3   Just finished an amazing workout! üí™       ...          0   \n",
              "3     4   Excited about the upcoming weekend getaway!  ...          0   \n",
              "4     5   Trying out a new recipe for dinner tonight.  ...          2   \n",
              "\n",
              "         Timestamp            User    Platform Sentiment_decoded  \\\n",
              "0  1/15/2023 12:30   User123          Twitter           POSITIVE   \n",
              "1   1/15/2023 8:45   CommuterX        Twitter           NEGATIVE   \n",
              "2  1/15/2023 15:45   FitnessFan     Instagram           POSITIVE   \n",
              "3  1/15/2023 18:20   AdventureX      Facebook           POSITIVE   \n",
              "4  1/15/2023 19:55   ChefCook       Instagram            NEUTRAL   \n",
              "\n",
              "                                            mod_text  \\\n",
              "0   Enjoying a beautiful day at the park         ...   \n",
              "1   Traffic was terrible this morning            ...   \n",
              "2   Just finished an amazing workout                   \n",
              "3   Excited about the upcoming weekend getaway   ...   \n",
              "4   Trying out a new recipe for dinner tonight   ...   \n",
              "\n",
              "                                           tokenized  \\\n",
              "0       [Enjoying, a, beautiful, day, at, the, park]   \n",
              "1            [Traffic, was, terrible, this, morning]   \n",
              "2             [Just, finished, an, amazing, workout]   \n",
              "3  [Excited, about, the, upcoming, weekend, getaway]   \n",
              "4  [Trying, out, a, new, recipe, for, dinner, ton...   \n",
              "\n",
              "                                               lower  \n",
              "0       [enjoying, a, beautiful, day, at, the, park]  \n",
              "1            [traffic, was, terrible, this, morning]  \n",
              "2             [just, finished, an, amazing, workout]  \n",
              "3  [excited, about, the, upcoming, weekend, getaway]  \n",
              "4  [trying, out, a, new, recipe, for, dinner, ton...  "
            ],
            "text/html": [
              "\n",
              "  <div id=\"df-065e5b74-03f3-43af-a89d-c98c860e965e\" class=\"colab-df-container\">\n",
              "    <div>\n",
              "<style scoped>\n",
              "    .dataframe tbody tr th:only-of-type {\n",
              "        vertical-align: middle;\n",
              "    }\n",
              "\n",
              "    .dataframe tbody tr th {\n",
              "        vertical-align: top;\n",
              "    }\n",
              "\n",
              "    .dataframe thead th {\n",
              "        text-align: right;\n",
              "    }\n",
              "</style>\n",
              "<table border=\"1\" class=\"dataframe\">\n",
              "  <thead>\n",
              "    <tr style=\"text-align: right;\">\n",
              "      <th></th>\n",
              "      <th>Sno.</th>\n",
              "      <th>Text</th>\n",
              "      <th>Sentiment</th>\n",
              "      <th>Timestamp</th>\n",
              "      <th>User</th>\n",
              "      <th>Platform</th>\n",
              "      <th>Sentiment_decoded</th>\n",
              "      <th>mod_text</th>\n",
              "      <th>tokenized</th>\n",
              "      <th>lower</th>\n",
              "    </tr>\n",
              "  </thead>\n",
              "  <tbody>\n",
              "    <tr>\n",
              "      <th>0</th>\n",
              "      <td>1</td>\n",
              "      <td>Enjoying a beautiful day at the park!        ...</td>\n",
              "      <td>0</td>\n",
              "      <td>1/15/2023 12:30</td>\n",
              "      <td>User123</td>\n",
              "      <td>Twitter</td>\n",
              "      <td>POSITIVE</td>\n",
              "      <td>Enjoying a beautiful day at the park         ...</td>\n",
              "      <td>[Enjoying, a, beautiful, day, at, the, park]</td>\n",
              "      <td>[enjoying, a, beautiful, day, at, the, park]</td>\n",
              "    </tr>\n",
              "    <tr>\n",
              "      <th>1</th>\n",
              "      <td>2</td>\n",
              "      <td>Traffic was terrible this morning.           ...</td>\n",
              "      <td>1</td>\n",
              "      <td>1/15/2023 8:45</td>\n",
              "      <td>CommuterX</td>\n",
              "      <td>Twitter</td>\n",
              "      <td>NEGATIVE</td>\n",
              "      <td>Traffic was terrible this morning            ...</td>\n",
              "      <td>[Traffic, was, terrible, this, morning]</td>\n",
              "      <td>[traffic, was, terrible, this, morning]</td>\n",
              "    </tr>\n",
              "    <tr>\n",
              "      <th>2</th>\n",
              "      <td>3</td>\n",
              "      <td>Just finished an amazing workout! üí™       ...</td>\n",
              "      <td>0</td>\n",
              "      <td>1/15/2023 15:45</td>\n",
              "      <td>FitnessFan</td>\n",
              "      <td>Instagram</td>\n",
              "      <td>POSITIVE</td>\n",
              "      <td>Just finished an amazing workout</td>\n",
              "      <td>[Just, finished, an, amazing, workout]</td>\n",
              "      <td>[just, finished, an, amazing, workout]</td>\n",
              "    </tr>\n",
              "    <tr>\n",
              "      <th>3</th>\n",
              "      <td>4</td>\n",
              "      <td>Excited about the upcoming weekend getaway!  ...</td>\n",
              "      <td>0</td>\n",
              "      <td>1/15/2023 18:20</td>\n",
              "      <td>AdventureX</td>\n",
              "      <td>Facebook</td>\n",
              "      <td>POSITIVE</td>\n",
              "      <td>Excited about the upcoming weekend getaway   ...</td>\n",
              "      <td>[Excited, about, the, upcoming, weekend, getaway]</td>\n",
              "      <td>[excited, about, the, upcoming, weekend, getaway]</td>\n",
              "    </tr>\n",
              "    <tr>\n",
              "      <th>4</th>\n",
              "      <td>5</td>\n",
              "      <td>Trying out a new recipe for dinner tonight.  ...</td>\n",
              "      <td>2</td>\n",
              "      <td>1/15/2023 19:55</td>\n",
              "      <td>ChefCook</td>\n",
              "      <td>Instagram</td>\n",
              "      <td>NEUTRAL</td>\n",
              "      <td>Trying out a new recipe for dinner tonight   ...</td>\n",
              "      <td>[Trying, out, a, new, recipe, for, dinner, ton...</td>\n",
              "      <td>[trying, out, a, new, recipe, for, dinner, ton...</td>\n",
              "    </tr>\n",
              "  </tbody>\n",
              "</table>\n",
              "</div>\n",
              "    <div class=\"colab-df-buttons\">\n",
              "\n",
              "  <div class=\"colab-df-container\">\n",
              "    <button class=\"colab-df-convert\" onclick=\"convertToInteractive('df-065e5b74-03f3-43af-a89d-c98c860e965e')\"\n",
              "            title=\"Convert this dataframe to an interactive table.\"\n",
              "            style=\"display:none;\">\n",
              "\n",
              "  <svg xmlns=\"http://www.w3.org/2000/svg\" height=\"24px\" viewBox=\"0 -960 960 960\">\n",
              "    <path d=\"M120-120v-720h720v720H120Zm60-500h600v-160H180v160Zm220 220h160v-160H400v160Zm0 220h160v-160H400v160ZM180-400h160v-160H180v160Zm440 0h160v-160H620v160ZM180-180h160v-160H180v160Zm440 0h160v-160H620v160Z\"/>\n",
              "  </svg>\n",
              "    </button>\n",
              "\n",
              "  <style>\n",
              "    .colab-df-container {\n",
              "      display:flex;\n",
              "      gap: 12px;\n",
              "    }\n",
              "\n",
              "    .colab-df-convert {\n",
              "      background-color: #E8F0FE;\n",
              "      border: none;\n",
              "      border-radius: 50%;\n",
              "      cursor: pointer;\n",
              "      display: none;\n",
              "      fill: #1967D2;\n",
              "      height: 32px;\n",
              "      padding: 0 0 0 0;\n",
              "      width: 32px;\n",
              "    }\n",
              "\n",
              "    .colab-df-convert:hover {\n",
              "      background-color: #E2EBFA;\n",
              "      box-shadow: 0px 1px 2px rgba(60, 64, 67, 0.3), 0px 1px 3px 1px rgba(60, 64, 67, 0.15);\n",
              "      fill: #174EA6;\n",
              "    }\n",
              "\n",
              "    .colab-df-buttons div {\n",
              "      margin-bottom: 4px;\n",
              "    }\n",
              "\n",
              "    [theme=dark] .colab-df-convert {\n",
              "      background-color: #3B4455;\n",
              "      fill: #D2E3FC;\n",
              "    }\n",
              "\n",
              "    [theme=dark] .colab-df-convert:hover {\n",
              "      background-color: #434B5C;\n",
              "      box-shadow: 0px 1px 3px 1px rgba(0, 0, 0, 0.15);\n",
              "      filter: drop-shadow(0px 1px 2px rgba(0, 0, 0, 0.3));\n",
              "      fill: #FFFFFF;\n",
              "    }\n",
              "  </style>\n",
              "\n",
              "    <script>\n",
              "      const buttonEl =\n",
              "        document.querySelector('#df-065e5b74-03f3-43af-a89d-c98c860e965e button.colab-df-convert');\n",
              "      buttonEl.style.display =\n",
              "        google.colab.kernel.accessAllowed ? 'block' : 'none';\n",
              "\n",
              "      async function convertToInteractive(key) {\n",
              "        const element = document.querySelector('#df-065e5b74-03f3-43af-a89d-c98c860e965e');\n",
              "        const dataTable =\n",
              "          await google.colab.kernel.invokeFunction('convertToInteractive',\n",
              "                                                    [key], {});\n",
              "        if (!dataTable) return;\n",
              "\n",
              "        const docLinkHtml = 'Like what you see? Visit the ' +\n",
              "          '<a target=\"_blank\" href=https://colab.research.google.com/notebooks/data_table.ipynb>data table notebook</a>'\n",
              "          + ' to learn more about interactive tables.';\n",
              "        element.innerHTML = '';\n",
              "        dataTable['output_type'] = 'display_data';\n",
              "        await google.colab.output.renderOutput(dataTable, element);\n",
              "        const docLink = document.createElement('div');\n",
              "        docLink.innerHTML = docLinkHtml;\n",
              "        element.appendChild(docLink);\n",
              "      }\n",
              "    </script>\n",
              "  </div>\n",
              "\n",
              "\n",
              "<div id=\"df-62faf1e7-b04b-49a4-b2b6-363117d7eadd\">\n",
              "  <button class=\"colab-df-quickchart\" onclick=\"quickchart('df-62faf1e7-b04b-49a4-b2b6-363117d7eadd')\"\n",
              "            title=\"Suggest charts\"\n",
              "            style=\"display:none;\">\n",
              "\n",
              "<svg xmlns=\"http://www.w3.org/2000/svg\" height=\"24px\"viewBox=\"0 0 24 24\"\n",
              "     width=\"24px\">\n",
              "    <g>\n",
              "        <path d=\"M19 3H5c-1.1 0-2 .9-2 2v14c0 1.1.9 2 2 2h14c1.1 0 2-.9 2-2V5c0-1.1-.9-2-2-2zM9 17H7v-7h2v7zm4 0h-2V7h2v10zm4 0h-2v-4h2v4z\"/>\n",
              "    </g>\n",
              "</svg>\n",
              "  </button>\n",
              "\n",
              "<style>\n",
              "  .colab-df-quickchart {\n",
              "      --bg-color: #E8F0FE;\n",
              "      --fill-color: #1967D2;\n",
              "      --hover-bg-color: #E2EBFA;\n",
              "      --hover-fill-color: #174EA6;\n",
              "      --disabled-fill-color: #AAA;\n",
              "      --disabled-bg-color: #DDD;\n",
              "  }\n",
              "\n",
              "  [theme=dark] .colab-df-quickchart {\n",
              "      --bg-color: #3B4455;\n",
              "      --fill-color: #D2E3FC;\n",
              "      --hover-bg-color: #434B5C;\n",
              "      --hover-fill-color: #FFFFFF;\n",
              "      --disabled-bg-color: #3B4455;\n",
              "      --disabled-fill-color: #666;\n",
              "  }\n",
              "\n",
              "  .colab-df-quickchart {\n",
              "    background-color: var(--bg-color);\n",
              "    border: none;\n",
              "    border-radius: 50%;\n",
              "    cursor: pointer;\n",
              "    display: none;\n",
              "    fill: var(--fill-color);\n",
              "    height: 32px;\n",
              "    padding: 0;\n",
              "    width: 32px;\n",
              "  }\n",
              "\n",
              "  .colab-df-quickchart:hover {\n",
              "    background-color: var(--hover-bg-color);\n",
              "    box-shadow: 0 1px 2px rgba(60, 64, 67, 0.3), 0 1px 3px 1px rgba(60, 64, 67, 0.15);\n",
              "    fill: var(--button-hover-fill-color);\n",
              "  }\n",
              "\n",
              "  .colab-df-quickchart-complete:disabled,\n",
              "  .colab-df-quickchart-complete:disabled:hover {\n",
              "    background-color: var(--disabled-bg-color);\n",
              "    fill: var(--disabled-fill-color);\n",
              "    box-shadow: none;\n",
              "  }\n",
              "\n",
              "  .colab-df-spinner {\n",
              "    border: 2px solid var(--fill-color);\n",
              "    border-color: transparent;\n",
              "    border-bottom-color: var(--fill-color);\n",
              "    animation:\n",
              "      spin 1s steps(1) infinite;\n",
              "  }\n",
              "\n",
              "  @keyframes spin {\n",
              "    0% {\n",
              "      border-color: transparent;\n",
              "      border-bottom-color: var(--fill-color);\n",
              "      border-left-color: var(--fill-color);\n",
              "    }\n",
              "    20% {\n",
              "      border-color: transparent;\n",
              "      border-left-color: var(--fill-color);\n",
              "      border-top-color: var(--fill-color);\n",
              "    }\n",
              "    30% {\n",
              "      border-color: transparent;\n",
              "      border-left-color: var(--fill-color);\n",
              "      border-top-color: var(--fill-color);\n",
              "      border-right-color: var(--fill-color);\n",
              "    }\n",
              "    40% {\n",
              "      border-color: transparent;\n",
              "      border-right-color: var(--fill-color);\n",
              "      border-top-color: var(--fill-color);\n",
              "    }\n",
              "    60% {\n",
              "      border-color: transparent;\n",
              "      border-right-color: var(--fill-color);\n",
              "    }\n",
              "    80% {\n",
              "      border-color: transparent;\n",
              "      border-right-color: var(--fill-color);\n",
              "      border-bottom-color: var(--fill-color);\n",
              "    }\n",
              "    90% {\n",
              "      border-color: transparent;\n",
              "      border-bottom-color: var(--fill-color);\n",
              "    }\n",
              "  }\n",
              "</style>\n",
              "\n",
              "  <script>\n",
              "    async function quickchart(key) {\n",
              "      const quickchartButtonEl =\n",
              "        document.querySelector('#' + key + ' button');\n",
              "      quickchartButtonEl.disabled = true;  // To prevent multiple clicks.\n",
              "      quickchartButtonEl.classList.add('colab-df-spinner');\n",
              "      try {\n",
              "        const charts = await google.colab.kernel.invokeFunction(\n",
              "            'suggestCharts', [key], {});\n",
              "      } catch (error) {\n",
              "        console.error('Error during call to suggestCharts:', error);\n",
              "      }\n",
              "      quickchartButtonEl.classList.remove('colab-df-spinner');\n",
              "      quickchartButtonEl.classList.add('colab-df-quickchart-complete');\n",
              "    }\n",
              "    (() => {\n",
              "      let quickchartButtonEl =\n",
              "        document.querySelector('#df-62faf1e7-b04b-49a4-b2b6-363117d7eadd button');\n",
              "      quickchartButtonEl.style.display =\n",
              "        google.colab.kernel.accessAllowed ? 'block' : 'none';\n",
              "    })();\n",
              "  </script>\n",
              "</div>\n",
              "\n",
              "    </div>\n",
              "  </div>\n"
            ],
            "application/vnd.google.colaboratory.intrinsic+json": {
              "type": "dataframe",
              "variable_name": "df",
              "summary": "{\n  \"name\": \"df\",\n  \"rows\": 747,\n  \"fields\": [\n    {\n      \"column\": \"Sno.\",\n      \"properties\": {\n        \"dtype\": \"number\",\n        \"std\": 215,\n        \"min\": 1,\n        \"max\": 747,\n        \"num_unique_values\": 747,\n        \"samples\": [\n          209,\n          260,\n          98\n        ],\n        \"semantic_type\": \"\",\n        \"description\": \"\"\n      }\n    },\n    {\n      \"column\": \"Text\",\n      \"properties\": {\n        \"dtype\": \"string\",\n        \"num_unique_values\": 730,\n        \"samples\": [\n          \"Mastered the art of creating paper airplanes during lecture. Paper planes: Soaring to new heights! \",\n          \" Wrestling with thoughts, a perplexed mind lost in the labyrinth of life's complexities. \",\n          \"Imbued with gratitude for the simple pleasure of a warm cup of tea. \"\n        ],\n        \"semantic_type\": \"\",\n        \"description\": \"\"\n      }\n    },\n    {\n      \"column\": \"Sentiment\",\n      \"properties\": {\n        \"dtype\": \"number\",\n        \"std\": 0,\n        \"min\": 0,\n        \"max\": 2,\n        \"num_unique_values\": 3,\n        \"samples\": [\n          0,\n          1,\n          2\n        ],\n        \"semantic_type\": \"\",\n        \"description\": \"\"\n      }\n    },\n    {\n      \"column\": \"Timestamp\",\n      \"properties\": {\n        \"dtype\": \"object\",\n        \"num_unique_values\": 693,\n        \"samples\": [\n          \"9/10/2017 20:15\",\n          \"2/21/2023 19:30\",\n          \"7/2/2016 23:30\"\n        ],\n        \"semantic_type\": \"\",\n        \"description\": \"\"\n      }\n    },\n    {\n      \"column\": \"User\",\n      \"properties\": {\n        \"dtype\": \"string\",\n        \"num_unique_values\": 677,\n        \"samples\": [\n          \"MiseryMaze  \",\n          \" StormSeeker \",\n          \" MovieBuff2      \"\n        ],\n        \"semantic_type\": \"\",\n        \"description\": \"\"\n      }\n    },\n    {\n      \"column\": \"Platform\",\n      \"properties\": {\n        \"dtype\": \"category\",\n        \"num_unique_values\": 3,\n        \"samples\": [\n          \"Twitter \",\n          \"Instagram \",\n          \"Facebook \"\n        ],\n        \"semantic_type\": \"\",\n        \"description\": \"\"\n      }\n    },\n    {\n      \"column\": \"Sentiment_decoded\",\n      \"properties\": {\n        \"dtype\": \"category\",\n        \"num_unique_values\": 3,\n        \"samples\": [\n          \"POSITIVE\",\n          \"NEGATIVE\",\n          \"NEUTRAL\"\n        ],\n        \"semantic_type\": \"\",\n        \"description\": \"\"\n      }\n    },\n    {\n      \"column\": \"mod_text\",\n      \"properties\": {\n        \"dtype\": \"string\",\n        \"num_unique_values\": 730,\n        \"samples\": [\n          \"Mastered the art of creating paper airplanes during lecture Paper planes Soaring to new heights \",\n          \" Wrestling with thoughts a perplexed mind lost in the labyrinth of lifes complexities \",\n          \"Imbued with gratitude for the simple pleasure of a warm cup of tea \"\n        ],\n        \"semantic_type\": \"\",\n        \"description\": \"\"\n      }\n    },\n    {\n      \"column\": \"tokenized\",\n      \"properties\": {\n        \"dtype\": \"object\",\n        \"semantic_type\": \"\",\n        \"description\": \"\"\n      }\n    },\n    {\n      \"column\": \"lower\",\n      \"properties\": {\n        \"dtype\": \"object\",\n        \"semantic_type\": \"\",\n        \"description\": \"\"\n      }\n    }\n  ]\n}"
            }
          },
          "metadata": {},
          "execution_count": 16
        }
      ]
    },
    {
      "cell_type": "code",
      "source": [
        "# Removing stopwords\n",
        "df['stopwords_removed'] = df['lower'].apply(lambda x: [word for word in x if word not in stop_words])\n",
        "\n",
        "df.head()"
      ],
      "metadata": {
        "colab": {
          "base_uri": "https://localhost:8080/",
          "height": 414
        },
        "id": "gxsCQcR0HoPB",
        "outputId": "84ef018f-245b-49f6-debd-c73c692a3df0"
      },
      "execution_count": 17,
      "outputs": [
        {
          "output_type": "execute_result",
          "data": {
            "text/plain": [
              "   Sno.                                               Text  Sentiment  \\\n",
              "0     1   Enjoying a beautiful day at the park!        ...          0   \n",
              "1     2   Traffic was terrible this morning.           ...          1   \n",
              "2     3   Just finished an amazing workout! üí™       ...          0   \n",
              "3     4   Excited about the upcoming weekend getaway!  ...          0   \n",
              "4     5   Trying out a new recipe for dinner tonight.  ...          2   \n",
              "\n",
              "         Timestamp            User    Platform Sentiment_decoded  \\\n",
              "0  1/15/2023 12:30   User123          Twitter           POSITIVE   \n",
              "1   1/15/2023 8:45   CommuterX        Twitter           NEGATIVE   \n",
              "2  1/15/2023 15:45   FitnessFan     Instagram           POSITIVE   \n",
              "3  1/15/2023 18:20   AdventureX      Facebook           POSITIVE   \n",
              "4  1/15/2023 19:55   ChefCook       Instagram            NEUTRAL   \n",
              "\n",
              "                                            mod_text  \\\n",
              "0   Enjoying a beautiful day at the park         ...   \n",
              "1   Traffic was terrible this morning            ...   \n",
              "2   Just finished an amazing workout                   \n",
              "3   Excited about the upcoming weekend getaway   ...   \n",
              "4   Trying out a new recipe for dinner tonight   ...   \n",
              "\n",
              "                                           tokenized  \\\n",
              "0       [Enjoying, a, beautiful, day, at, the, park]   \n",
              "1            [Traffic, was, terrible, this, morning]   \n",
              "2             [Just, finished, an, amazing, workout]   \n",
              "3  [Excited, about, the, upcoming, weekend, getaway]   \n",
              "4  [Trying, out, a, new, recipe, for, dinner, ton...   \n",
              "\n",
              "                                               lower  \\\n",
              "0       [enjoying, a, beautiful, day, at, the, park]   \n",
              "1            [traffic, was, terrible, this, morning]   \n",
              "2             [just, finished, an, amazing, workout]   \n",
              "3  [excited, about, the, upcoming, weekend, getaway]   \n",
              "4  [trying, out, a, new, recipe, for, dinner, ton...   \n",
              "\n",
              "                        stopwords_removed  \n",
              "0        [enjoying, beautiful, day, park]  \n",
              "1            [traffic, terrible, morning]  \n",
              "2            [finished, amazing, workout]  \n",
              "3   [excited, upcoming, weekend, getaway]  \n",
              "4  [trying, new, recipe, dinner, tonight]  "
            ],
            "text/html": [
              "\n",
              "  <div id=\"df-de92132d-98e5-456a-ae9f-649a02bef1e8\" class=\"colab-df-container\">\n",
              "    <div>\n",
              "<style scoped>\n",
              "    .dataframe tbody tr th:only-of-type {\n",
              "        vertical-align: middle;\n",
              "    }\n",
              "\n",
              "    .dataframe tbody tr th {\n",
              "        vertical-align: top;\n",
              "    }\n",
              "\n",
              "    .dataframe thead th {\n",
              "        text-align: right;\n",
              "    }\n",
              "</style>\n",
              "<table border=\"1\" class=\"dataframe\">\n",
              "  <thead>\n",
              "    <tr style=\"text-align: right;\">\n",
              "      <th></th>\n",
              "      <th>Sno.</th>\n",
              "      <th>Text</th>\n",
              "      <th>Sentiment</th>\n",
              "      <th>Timestamp</th>\n",
              "      <th>User</th>\n",
              "      <th>Platform</th>\n",
              "      <th>Sentiment_decoded</th>\n",
              "      <th>mod_text</th>\n",
              "      <th>tokenized</th>\n",
              "      <th>lower</th>\n",
              "      <th>stopwords_removed</th>\n",
              "    </tr>\n",
              "  </thead>\n",
              "  <tbody>\n",
              "    <tr>\n",
              "      <th>0</th>\n",
              "      <td>1</td>\n",
              "      <td>Enjoying a beautiful day at the park!        ...</td>\n",
              "      <td>0</td>\n",
              "      <td>1/15/2023 12:30</td>\n",
              "      <td>User123</td>\n",
              "      <td>Twitter</td>\n",
              "      <td>POSITIVE</td>\n",
              "      <td>Enjoying a beautiful day at the park         ...</td>\n",
              "      <td>[Enjoying, a, beautiful, day, at, the, park]</td>\n",
              "      <td>[enjoying, a, beautiful, day, at, the, park]</td>\n",
              "      <td>[enjoying, beautiful, day, park]</td>\n",
              "    </tr>\n",
              "    <tr>\n",
              "      <th>1</th>\n",
              "      <td>2</td>\n",
              "      <td>Traffic was terrible this morning.           ...</td>\n",
              "      <td>1</td>\n",
              "      <td>1/15/2023 8:45</td>\n",
              "      <td>CommuterX</td>\n",
              "      <td>Twitter</td>\n",
              "      <td>NEGATIVE</td>\n",
              "      <td>Traffic was terrible this morning            ...</td>\n",
              "      <td>[Traffic, was, terrible, this, morning]</td>\n",
              "      <td>[traffic, was, terrible, this, morning]</td>\n",
              "      <td>[traffic, terrible, morning]</td>\n",
              "    </tr>\n",
              "    <tr>\n",
              "      <th>2</th>\n",
              "      <td>3</td>\n",
              "      <td>Just finished an amazing workout! üí™       ...</td>\n",
              "      <td>0</td>\n",
              "      <td>1/15/2023 15:45</td>\n",
              "      <td>FitnessFan</td>\n",
              "      <td>Instagram</td>\n",
              "      <td>POSITIVE</td>\n",
              "      <td>Just finished an amazing workout</td>\n",
              "      <td>[Just, finished, an, amazing, workout]</td>\n",
              "      <td>[just, finished, an, amazing, workout]</td>\n",
              "      <td>[finished, amazing, workout]</td>\n",
              "    </tr>\n",
              "    <tr>\n",
              "      <th>3</th>\n",
              "      <td>4</td>\n",
              "      <td>Excited about the upcoming weekend getaway!  ...</td>\n",
              "      <td>0</td>\n",
              "      <td>1/15/2023 18:20</td>\n",
              "      <td>AdventureX</td>\n",
              "      <td>Facebook</td>\n",
              "      <td>POSITIVE</td>\n",
              "      <td>Excited about the upcoming weekend getaway   ...</td>\n",
              "      <td>[Excited, about, the, upcoming, weekend, getaway]</td>\n",
              "      <td>[excited, about, the, upcoming, weekend, getaway]</td>\n",
              "      <td>[excited, upcoming, weekend, getaway]</td>\n",
              "    </tr>\n",
              "    <tr>\n",
              "      <th>4</th>\n",
              "      <td>5</td>\n",
              "      <td>Trying out a new recipe for dinner tonight.  ...</td>\n",
              "      <td>2</td>\n",
              "      <td>1/15/2023 19:55</td>\n",
              "      <td>ChefCook</td>\n",
              "      <td>Instagram</td>\n",
              "      <td>NEUTRAL</td>\n",
              "      <td>Trying out a new recipe for dinner tonight   ...</td>\n",
              "      <td>[Trying, out, a, new, recipe, for, dinner, ton...</td>\n",
              "      <td>[trying, out, a, new, recipe, for, dinner, ton...</td>\n",
              "      <td>[trying, new, recipe, dinner, tonight]</td>\n",
              "    </tr>\n",
              "  </tbody>\n",
              "</table>\n",
              "</div>\n",
              "    <div class=\"colab-df-buttons\">\n",
              "\n",
              "  <div class=\"colab-df-container\">\n",
              "    <button class=\"colab-df-convert\" onclick=\"convertToInteractive('df-de92132d-98e5-456a-ae9f-649a02bef1e8')\"\n",
              "            title=\"Convert this dataframe to an interactive table.\"\n",
              "            style=\"display:none;\">\n",
              "\n",
              "  <svg xmlns=\"http://www.w3.org/2000/svg\" height=\"24px\" viewBox=\"0 -960 960 960\">\n",
              "    <path d=\"M120-120v-720h720v720H120Zm60-500h600v-160H180v160Zm220 220h160v-160H400v160Zm0 220h160v-160H400v160ZM180-400h160v-160H180v160Zm440 0h160v-160H620v160ZM180-180h160v-160H180v160Zm440 0h160v-160H620v160Z\"/>\n",
              "  </svg>\n",
              "    </button>\n",
              "\n",
              "  <style>\n",
              "    .colab-df-container {\n",
              "      display:flex;\n",
              "      gap: 12px;\n",
              "    }\n",
              "\n",
              "    .colab-df-convert {\n",
              "      background-color: #E8F0FE;\n",
              "      border: none;\n",
              "      border-radius: 50%;\n",
              "      cursor: pointer;\n",
              "      display: none;\n",
              "      fill: #1967D2;\n",
              "      height: 32px;\n",
              "      padding: 0 0 0 0;\n",
              "      width: 32px;\n",
              "    }\n",
              "\n",
              "    .colab-df-convert:hover {\n",
              "      background-color: #E2EBFA;\n",
              "      box-shadow: 0px 1px 2px rgba(60, 64, 67, 0.3), 0px 1px 3px 1px rgba(60, 64, 67, 0.15);\n",
              "      fill: #174EA6;\n",
              "    }\n",
              "\n",
              "    .colab-df-buttons div {\n",
              "      margin-bottom: 4px;\n",
              "    }\n",
              "\n",
              "    [theme=dark] .colab-df-convert {\n",
              "      background-color: #3B4455;\n",
              "      fill: #D2E3FC;\n",
              "    }\n",
              "\n",
              "    [theme=dark] .colab-df-convert:hover {\n",
              "      background-color: #434B5C;\n",
              "      box-shadow: 0px 1px 3px 1px rgba(0, 0, 0, 0.15);\n",
              "      filter: drop-shadow(0px 1px 2px rgba(0, 0, 0, 0.3));\n",
              "      fill: #FFFFFF;\n",
              "    }\n",
              "  </style>\n",
              "\n",
              "    <script>\n",
              "      const buttonEl =\n",
              "        document.querySelector('#df-de92132d-98e5-456a-ae9f-649a02bef1e8 button.colab-df-convert');\n",
              "      buttonEl.style.display =\n",
              "        google.colab.kernel.accessAllowed ? 'block' : 'none';\n",
              "\n",
              "      async function convertToInteractive(key) {\n",
              "        const element = document.querySelector('#df-de92132d-98e5-456a-ae9f-649a02bef1e8');\n",
              "        const dataTable =\n",
              "          await google.colab.kernel.invokeFunction('convertToInteractive',\n",
              "                                                    [key], {});\n",
              "        if (!dataTable) return;\n",
              "\n",
              "        const docLinkHtml = 'Like what you see? Visit the ' +\n",
              "          '<a target=\"_blank\" href=https://colab.research.google.com/notebooks/data_table.ipynb>data table notebook</a>'\n",
              "          + ' to learn more about interactive tables.';\n",
              "        element.innerHTML = '';\n",
              "        dataTable['output_type'] = 'display_data';\n",
              "        await google.colab.output.renderOutput(dataTable, element);\n",
              "        const docLink = document.createElement('div');\n",
              "        docLink.innerHTML = docLinkHtml;\n",
              "        element.appendChild(docLink);\n",
              "      }\n",
              "    </script>\n",
              "  </div>\n",
              "\n",
              "\n",
              "<div id=\"df-bed39e44-0efe-4c6b-b950-31bf496a9ac3\">\n",
              "  <button class=\"colab-df-quickchart\" onclick=\"quickchart('df-bed39e44-0efe-4c6b-b950-31bf496a9ac3')\"\n",
              "            title=\"Suggest charts\"\n",
              "            style=\"display:none;\">\n",
              "\n",
              "<svg xmlns=\"http://www.w3.org/2000/svg\" height=\"24px\"viewBox=\"0 0 24 24\"\n",
              "     width=\"24px\">\n",
              "    <g>\n",
              "        <path d=\"M19 3H5c-1.1 0-2 .9-2 2v14c0 1.1.9 2 2 2h14c1.1 0 2-.9 2-2V5c0-1.1-.9-2-2-2zM9 17H7v-7h2v7zm4 0h-2V7h2v10zm4 0h-2v-4h2v4z\"/>\n",
              "    </g>\n",
              "</svg>\n",
              "  </button>\n",
              "\n",
              "<style>\n",
              "  .colab-df-quickchart {\n",
              "      --bg-color: #E8F0FE;\n",
              "      --fill-color: #1967D2;\n",
              "      --hover-bg-color: #E2EBFA;\n",
              "      --hover-fill-color: #174EA6;\n",
              "      --disabled-fill-color: #AAA;\n",
              "      --disabled-bg-color: #DDD;\n",
              "  }\n",
              "\n",
              "  [theme=dark] .colab-df-quickchart {\n",
              "      --bg-color: #3B4455;\n",
              "      --fill-color: #D2E3FC;\n",
              "      --hover-bg-color: #434B5C;\n",
              "      --hover-fill-color: #FFFFFF;\n",
              "      --disabled-bg-color: #3B4455;\n",
              "      --disabled-fill-color: #666;\n",
              "  }\n",
              "\n",
              "  .colab-df-quickchart {\n",
              "    background-color: var(--bg-color);\n",
              "    border: none;\n",
              "    border-radius: 50%;\n",
              "    cursor: pointer;\n",
              "    display: none;\n",
              "    fill: var(--fill-color);\n",
              "    height: 32px;\n",
              "    padding: 0;\n",
              "    width: 32px;\n",
              "  }\n",
              "\n",
              "  .colab-df-quickchart:hover {\n",
              "    background-color: var(--hover-bg-color);\n",
              "    box-shadow: 0 1px 2px rgba(60, 64, 67, 0.3), 0 1px 3px 1px rgba(60, 64, 67, 0.15);\n",
              "    fill: var(--button-hover-fill-color);\n",
              "  }\n",
              "\n",
              "  .colab-df-quickchart-complete:disabled,\n",
              "  .colab-df-quickchart-complete:disabled:hover {\n",
              "    background-color: var(--disabled-bg-color);\n",
              "    fill: var(--disabled-fill-color);\n",
              "    box-shadow: none;\n",
              "  }\n",
              "\n",
              "  .colab-df-spinner {\n",
              "    border: 2px solid var(--fill-color);\n",
              "    border-color: transparent;\n",
              "    border-bottom-color: var(--fill-color);\n",
              "    animation:\n",
              "      spin 1s steps(1) infinite;\n",
              "  }\n",
              "\n",
              "  @keyframes spin {\n",
              "    0% {\n",
              "      border-color: transparent;\n",
              "      border-bottom-color: var(--fill-color);\n",
              "      border-left-color: var(--fill-color);\n",
              "    }\n",
              "    20% {\n",
              "      border-color: transparent;\n",
              "      border-left-color: var(--fill-color);\n",
              "      border-top-color: var(--fill-color);\n",
              "    }\n",
              "    30% {\n",
              "      border-color: transparent;\n",
              "      border-left-color: var(--fill-color);\n",
              "      border-top-color: var(--fill-color);\n",
              "      border-right-color: var(--fill-color);\n",
              "    }\n",
              "    40% {\n",
              "      border-color: transparent;\n",
              "      border-right-color: var(--fill-color);\n",
              "      border-top-color: var(--fill-color);\n",
              "    }\n",
              "    60% {\n",
              "      border-color: transparent;\n",
              "      border-right-color: var(--fill-color);\n",
              "    }\n",
              "    80% {\n",
              "      border-color: transparent;\n",
              "      border-right-color: var(--fill-color);\n",
              "      border-bottom-color: var(--fill-color);\n",
              "    }\n",
              "    90% {\n",
              "      border-color: transparent;\n",
              "      border-bottom-color: var(--fill-color);\n",
              "    }\n",
              "  }\n",
              "</style>\n",
              "\n",
              "  <script>\n",
              "    async function quickchart(key) {\n",
              "      const quickchartButtonEl =\n",
              "        document.querySelector('#' + key + ' button');\n",
              "      quickchartButtonEl.disabled = true;  // To prevent multiple clicks.\n",
              "      quickchartButtonEl.classList.add('colab-df-spinner');\n",
              "      try {\n",
              "        const charts = await google.colab.kernel.invokeFunction(\n",
              "            'suggestCharts', [key], {});\n",
              "      } catch (error) {\n",
              "        console.error('Error during call to suggestCharts:', error);\n",
              "      }\n",
              "      quickchartButtonEl.classList.remove('colab-df-spinner');\n",
              "      quickchartButtonEl.classList.add('colab-df-quickchart-complete');\n",
              "    }\n",
              "    (() => {\n",
              "      let quickchartButtonEl =\n",
              "        document.querySelector('#df-bed39e44-0efe-4c6b-b950-31bf496a9ac3 button');\n",
              "      quickchartButtonEl.style.display =\n",
              "        google.colab.kernel.accessAllowed ? 'block' : 'none';\n",
              "    })();\n",
              "  </script>\n",
              "</div>\n",
              "\n",
              "    </div>\n",
              "  </div>\n"
            ],
            "application/vnd.google.colaboratory.intrinsic+json": {
              "type": "dataframe",
              "variable_name": "df",
              "summary": "{\n  \"name\": \"df\",\n  \"rows\": 747,\n  \"fields\": [\n    {\n      \"column\": \"Sno.\",\n      \"properties\": {\n        \"dtype\": \"number\",\n        \"std\": 215,\n        \"min\": 1,\n        \"max\": 747,\n        \"num_unique_values\": 747,\n        \"samples\": [\n          209,\n          260,\n          98\n        ],\n        \"semantic_type\": \"\",\n        \"description\": \"\"\n      }\n    },\n    {\n      \"column\": \"Text\",\n      \"properties\": {\n        \"dtype\": \"string\",\n        \"num_unique_values\": 730,\n        \"samples\": [\n          \"Mastered the art of creating paper airplanes during lecture. Paper planes: Soaring to new heights! \",\n          \" Wrestling with thoughts, a perplexed mind lost in the labyrinth of life's complexities. \",\n          \"Imbued with gratitude for the simple pleasure of a warm cup of tea. \"\n        ],\n        \"semantic_type\": \"\",\n        \"description\": \"\"\n      }\n    },\n    {\n      \"column\": \"Sentiment\",\n      \"properties\": {\n        \"dtype\": \"number\",\n        \"std\": 0,\n        \"min\": 0,\n        \"max\": 2,\n        \"num_unique_values\": 3,\n        \"samples\": [\n          0,\n          1,\n          2\n        ],\n        \"semantic_type\": \"\",\n        \"description\": \"\"\n      }\n    },\n    {\n      \"column\": \"Timestamp\",\n      \"properties\": {\n        \"dtype\": \"object\",\n        \"num_unique_values\": 693,\n        \"samples\": [\n          \"9/10/2017 20:15\",\n          \"2/21/2023 19:30\",\n          \"7/2/2016 23:30\"\n        ],\n        \"semantic_type\": \"\",\n        \"description\": \"\"\n      }\n    },\n    {\n      \"column\": \"User\",\n      \"properties\": {\n        \"dtype\": \"string\",\n        \"num_unique_values\": 677,\n        \"samples\": [\n          \"MiseryMaze  \",\n          \" StormSeeker \",\n          \" MovieBuff2      \"\n        ],\n        \"semantic_type\": \"\",\n        \"description\": \"\"\n      }\n    },\n    {\n      \"column\": \"Platform\",\n      \"properties\": {\n        \"dtype\": \"category\",\n        \"num_unique_values\": 3,\n        \"samples\": [\n          \"Twitter \",\n          \"Instagram \",\n          \"Facebook \"\n        ],\n        \"semantic_type\": \"\",\n        \"description\": \"\"\n      }\n    },\n    {\n      \"column\": \"Sentiment_decoded\",\n      \"properties\": {\n        \"dtype\": \"category\",\n        \"num_unique_values\": 3,\n        \"samples\": [\n          \"POSITIVE\",\n          \"NEGATIVE\",\n          \"NEUTRAL\"\n        ],\n        \"semantic_type\": \"\",\n        \"description\": \"\"\n      }\n    },\n    {\n      \"column\": \"mod_text\",\n      \"properties\": {\n        \"dtype\": \"string\",\n        \"num_unique_values\": 730,\n        \"samples\": [\n          \"Mastered the art of creating paper airplanes during lecture Paper planes Soaring to new heights \",\n          \" Wrestling with thoughts a perplexed mind lost in the labyrinth of lifes complexities \",\n          \"Imbued with gratitude for the simple pleasure of a warm cup of tea \"\n        ],\n        \"semantic_type\": \"\",\n        \"description\": \"\"\n      }\n    },\n    {\n      \"column\": \"tokenized\",\n      \"properties\": {\n        \"dtype\": \"object\",\n        \"semantic_type\": \"\",\n        \"description\": \"\"\n      }\n    },\n    {\n      \"column\": \"lower\",\n      \"properties\": {\n        \"dtype\": \"object\",\n        \"semantic_type\": \"\",\n        \"description\": \"\"\n      }\n    },\n    {\n      \"column\": \"stopwords_removed\",\n      \"properties\": {\n        \"dtype\": \"object\",\n        \"semantic_type\": \"\",\n        \"description\": \"\"\n      }\n    }\n  ]\n}"
            }
          },
          "metadata": {},
          "execution_count": 17
        }
      ]
    },
    {
      "cell_type": "code",
      "source": [
        "import nltk\n",
        "nltk.download('averaged_perceptron_tagger')"
      ],
      "metadata": {
        "colab": {
          "base_uri": "https://localhost:8080/"
        },
        "id": "buHPc3GeH-Ud",
        "outputId": "56553f9f-00d2-4c15-84f1-2bfe0e15a3e3"
      },
      "execution_count": 18,
      "outputs": [
        {
          "output_type": "stream",
          "name": "stderr",
          "text": [
            "[nltk_data] Downloading package averaged_perceptron_tagger to\n",
            "[nltk_data]     /root/nltk_data...\n",
            "[nltk_data]   Package averaged_perceptron_tagger is already up-to-\n",
            "[nltk_data]       date!\n"
          ]
        },
        {
          "output_type": "execute_result",
          "data": {
            "text/plain": [
              "True"
            ]
          },
          "metadata": {},
          "execution_count": 18
        }
      ]
    },
    {
      "cell_type": "code",
      "source": [
        "# Applying part-of-speech (POS) tagging\n",
        "df['pos_tags'] = df['stopwords_removed'].apply(nltk.tag.pos_tag)\n",
        "\n",
        "df.head()"
      ],
      "metadata": {
        "colab": {
          "base_uri": "https://localhost:8080/",
          "height": 484
        },
        "id": "hERoi6lNHzoX",
        "outputId": "6a60239b-681f-485d-ef0f-6b78c2b52f30"
      },
      "execution_count": 19,
      "outputs": [
        {
          "output_type": "execute_result",
          "data": {
            "text/plain": [
              "   Sno.                                               Text  Sentiment  \\\n",
              "0     1   Enjoying a beautiful day at the park!        ...          0   \n",
              "1     2   Traffic was terrible this morning.           ...          1   \n",
              "2     3   Just finished an amazing workout! üí™       ...          0   \n",
              "3     4   Excited about the upcoming weekend getaway!  ...          0   \n",
              "4     5   Trying out a new recipe for dinner tonight.  ...          2   \n",
              "\n",
              "         Timestamp            User    Platform Sentiment_decoded  \\\n",
              "0  1/15/2023 12:30   User123          Twitter           POSITIVE   \n",
              "1   1/15/2023 8:45   CommuterX        Twitter           NEGATIVE   \n",
              "2  1/15/2023 15:45   FitnessFan     Instagram           POSITIVE   \n",
              "3  1/15/2023 18:20   AdventureX      Facebook           POSITIVE   \n",
              "4  1/15/2023 19:55   ChefCook       Instagram            NEUTRAL   \n",
              "\n",
              "                                            mod_text  \\\n",
              "0   Enjoying a beautiful day at the park         ...   \n",
              "1   Traffic was terrible this morning            ...   \n",
              "2   Just finished an amazing workout                   \n",
              "3   Excited about the upcoming weekend getaway   ...   \n",
              "4   Trying out a new recipe for dinner tonight   ...   \n",
              "\n",
              "                                           tokenized  \\\n",
              "0       [Enjoying, a, beautiful, day, at, the, park]   \n",
              "1            [Traffic, was, terrible, this, morning]   \n",
              "2             [Just, finished, an, amazing, workout]   \n",
              "3  [Excited, about, the, upcoming, weekend, getaway]   \n",
              "4  [Trying, out, a, new, recipe, for, dinner, ton...   \n",
              "\n",
              "                                               lower  \\\n",
              "0       [enjoying, a, beautiful, day, at, the, park]   \n",
              "1            [traffic, was, terrible, this, morning]   \n",
              "2             [just, finished, an, amazing, workout]   \n",
              "3  [excited, about, the, upcoming, weekend, getaway]   \n",
              "4  [trying, out, a, new, recipe, for, dinner, ton...   \n",
              "\n",
              "                        stopwords_removed  \\\n",
              "0        [enjoying, beautiful, day, park]   \n",
              "1            [traffic, terrible, morning]   \n",
              "2            [finished, amazing, workout]   \n",
              "3   [excited, upcoming, weekend, getaway]   \n",
              "4  [trying, new, recipe, dinner, tonight]   \n",
              "\n",
              "                                            pos_tags  \n",
              "0  [(enjoying, VBG), (beautiful, JJ), (day, NN), ...  \n",
              "1     [(traffic, NN), (terrible, JJ), (morning, NN)]  \n",
              "2   [(finished, VBN), (amazing, VBG), (workout, NN)]  \n",
              "3  [(excited, JJ), (upcoming, JJ), (weekend, NN),...  \n",
              "4  [(trying, VBG), (new, JJ), (recipe, NN), (dinn...  "
            ],
            "text/html": [
              "\n",
              "  <div id=\"df-e7241ae5-921f-4650-a869-6c2515acd2ca\" class=\"colab-df-container\">\n",
              "    <div>\n",
              "<style scoped>\n",
              "    .dataframe tbody tr th:only-of-type {\n",
              "        vertical-align: middle;\n",
              "    }\n",
              "\n",
              "    .dataframe tbody tr th {\n",
              "        vertical-align: top;\n",
              "    }\n",
              "\n",
              "    .dataframe thead th {\n",
              "        text-align: right;\n",
              "    }\n",
              "</style>\n",
              "<table border=\"1\" class=\"dataframe\">\n",
              "  <thead>\n",
              "    <tr style=\"text-align: right;\">\n",
              "      <th></th>\n",
              "      <th>Sno.</th>\n",
              "      <th>Text</th>\n",
              "      <th>Sentiment</th>\n",
              "      <th>Timestamp</th>\n",
              "      <th>User</th>\n",
              "      <th>Platform</th>\n",
              "      <th>Sentiment_decoded</th>\n",
              "      <th>mod_text</th>\n",
              "      <th>tokenized</th>\n",
              "      <th>lower</th>\n",
              "      <th>stopwords_removed</th>\n",
              "      <th>pos_tags</th>\n",
              "    </tr>\n",
              "  </thead>\n",
              "  <tbody>\n",
              "    <tr>\n",
              "      <th>0</th>\n",
              "      <td>1</td>\n",
              "      <td>Enjoying a beautiful day at the park!        ...</td>\n",
              "      <td>0</td>\n",
              "      <td>1/15/2023 12:30</td>\n",
              "      <td>User123</td>\n",
              "      <td>Twitter</td>\n",
              "      <td>POSITIVE</td>\n",
              "      <td>Enjoying a beautiful day at the park         ...</td>\n",
              "      <td>[Enjoying, a, beautiful, day, at, the, park]</td>\n",
              "      <td>[enjoying, a, beautiful, day, at, the, park]</td>\n",
              "      <td>[enjoying, beautiful, day, park]</td>\n",
              "      <td>[(enjoying, VBG), (beautiful, JJ), (day, NN), ...</td>\n",
              "    </tr>\n",
              "    <tr>\n",
              "      <th>1</th>\n",
              "      <td>2</td>\n",
              "      <td>Traffic was terrible this morning.           ...</td>\n",
              "      <td>1</td>\n",
              "      <td>1/15/2023 8:45</td>\n",
              "      <td>CommuterX</td>\n",
              "      <td>Twitter</td>\n",
              "      <td>NEGATIVE</td>\n",
              "      <td>Traffic was terrible this morning            ...</td>\n",
              "      <td>[Traffic, was, terrible, this, morning]</td>\n",
              "      <td>[traffic, was, terrible, this, morning]</td>\n",
              "      <td>[traffic, terrible, morning]</td>\n",
              "      <td>[(traffic, NN), (terrible, JJ), (morning, NN)]</td>\n",
              "    </tr>\n",
              "    <tr>\n",
              "      <th>2</th>\n",
              "      <td>3</td>\n",
              "      <td>Just finished an amazing workout! üí™       ...</td>\n",
              "      <td>0</td>\n",
              "      <td>1/15/2023 15:45</td>\n",
              "      <td>FitnessFan</td>\n",
              "      <td>Instagram</td>\n",
              "      <td>POSITIVE</td>\n",
              "      <td>Just finished an amazing workout</td>\n",
              "      <td>[Just, finished, an, amazing, workout]</td>\n",
              "      <td>[just, finished, an, amazing, workout]</td>\n",
              "      <td>[finished, amazing, workout]</td>\n",
              "      <td>[(finished, VBN), (amazing, VBG), (workout, NN)]</td>\n",
              "    </tr>\n",
              "    <tr>\n",
              "      <th>3</th>\n",
              "      <td>4</td>\n",
              "      <td>Excited about the upcoming weekend getaway!  ...</td>\n",
              "      <td>0</td>\n",
              "      <td>1/15/2023 18:20</td>\n",
              "      <td>AdventureX</td>\n",
              "      <td>Facebook</td>\n",
              "      <td>POSITIVE</td>\n",
              "      <td>Excited about the upcoming weekend getaway   ...</td>\n",
              "      <td>[Excited, about, the, upcoming, weekend, getaway]</td>\n",
              "      <td>[excited, about, the, upcoming, weekend, getaway]</td>\n",
              "      <td>[excited, upcoming, weekend, getaway]</td>\n",
              "      <td>[(excited, JJ), (upcoming, JJ), (weekend, NN),...</td>\n",
              "    </tr>\n",
              "    <tr>\n",
              "      <th>4</th>\n",
              "      <td>5</td>\n",
              "      <td>Trying out a new recipe for dinner tonight.  ...</td>\n",
              "      <td>2</td>\n",
              "      <td>1/15/2023 19:55</td>\n",
              "      <td>ChefCook</td>\n",
              "      <td>Instagram</td>\n",
              "      <td>NEUTRAL</td>\n",
              "      <td>Trying out a new recipe for dinner tonight   ...</td>\n",
              "      <td>[Trying, out, a, new, recipe, for, dinner, ton...</td>\n",
              "      <td>[trying, out, a, new, recipe, for, dinner, ton...</td>\n",
              "      <td>[trying, new, recipe, dinner, tonight]</td>\n",
              "      <td>[(trying, VBG), (new, JJ), (recipe, NN), (dinn...</td>\n",
              "    </tr>\n",
              "  </tbody>\n",
              "</table>\n",
              "</div>\n",
              "    <div class=\"colab-df-buttons\">\n",
              "\n",
              "  <div class=\"colab-df-container\">\n",
              "    <button class=\"colab-df-convert\" onclick=\"convertToInteractive('df-e7241ae5-921f-4650-a869-6c2515acd2ca')\"\n",
              "            title=\"Convert this dataframe to an interactive table.\"\n",
              "            style=\"display:none;\">\n",
              "\n",
              "  <svg xmlns=\"http://www.w3.org/2000/svg\" height=\"24px\" viewBox=\"0 -960 960 960\">\n",
              "    <path d=\"M120-120v-720h720v720H120Zm60-500h600v-160H180v160Zm220 220h160v-160H400v160Zm0 220h160v-160H400v160ZM180-400h160v-160H180v160Zm440 0h160v-160H620v160ZM180-180h160v-160H180v160Zm440 0h160v-160H620v160Z\"/>\n",
              "  </svg>\n",
              "    </button>\n",
              "\n",
              "  <style>\n",
              "    .colab-df-container {\n",
              "      display:flex;\n",
              "      gap: 12px;\n",
              "    }\n",
              "\n",
              "    .colab-df-convert {\n",
              "      background-color: #E8F0FE;\n",
              "      border: none;\n",
              "      border-radius: 50%;\n",
              "      cursor: pointer;\n",
              "      display: none;\n",
              "      fill: #1967D2;\n",
              "      height: 32px;\n",
              "      padding: 0 0 0 0;\n",
              "      width: 32px;\n",
              "    }\n",
              "\n",
              "    .colab-df-convert:hover {\n",
              "      background-color: #E2EBFA;\n",
              "      box-shadow: 0px 1px 2px rgba(60, 64, 67, 0.3), 0px 1px 3px 1px rgba(60, 64, 67, 0.15);\n",
              "      fill: #174EA6;\n",
              "    }\n",
              "\n",
              "    .colab-df-buttons div {\n",
              "      margin-bottom: 4px;\n",
              "    }\n",
              "\n",
              "    [theme=dark] .colab-df-convert {\n",
              "      background-color: #3B4455;\n",
              "      fill: #D2E3FC;\n",
              "    }\n",
              "\n",
              "    [theme=dark] .colab-df-convert:hover {\n",
              "      background-color: #434B5C;\n",
              "      box-shadow: 0px 1px 3px 1px rgba(0, 0, 0, 0.15);\n",
              "      filter: drop-shadow(0px 1px 2px rgba(0, 0, 0, 0.3));\n",
              "      fill: #FFFFFF;\n",
              "    }\n",
              "  </style>\n",
              "\n",
              "    <script>\n",
              "      const buttonEl =\n",
              "        document.querySelector('#df-e7241ae5-921f-4650-a869-6c2515acd2ca button.colab-df-convert');\n",
              "      buttonEl.style.display =\n",
              "        google.colab.kernel.accessAllowed ? 'block' : 'none';\n",
              "\n",
              "      async function convertToInteractive(key) {\n",
              "        const element = document.querySelector('#df-e7241ae5-921f-4650-a869-6c2515acd2ca');\n",
              "        const dataTable =\n",
              "          await google.colab.kernel.invokeFunction('convertToInteractive',\n",
              "                                                    [key], {});\n",
              "        if (!dataTable) return;\n",
              "\n",
              "        const docLinkHtml = 'Like what you see? Visit the ' +\n",
              "          '<a target=\"_blank\" href=https://colab.research.google.com/notebooks/data_table.ipynb>data table notebook</a>'\n",
              "          + ' to learn more about interactive tables.';\n",
              "        element.innerHTML = '';\n",
              "        dataTable['output_type'] = 'display_data';\n",
              "        await google.colab.output.renderOutput(dataTable, element);\n",
              "        const docLink = document.createElement('div');\n",
              "        docLink.innerHTML = docLinkHtml;\n",
              "        element.appendChild(docLink);\n",
              "      }\n",
              "    </script>\n",
              "  </div>\n",
              "\n",
              "\n",
              "<div id=\"df-004548d9-d4a5-4b02-bef5-931b99c0b155\">\n",
              "  <button class=\"colab-df-quickchart\" onclick=\"quickchart('df-004548d9-d4a5-4b02-bef5-931b99c0b155')\"\n",
              "            title=\"Suggest charts\"\n",
              "            style=\"display:none;\">\n",
              "\n",
              "<svg xmlns=\"http://www.w3.org/2000/svg\" height=\"24px\"viewBox=\"0 0 24 24\"\n",
              "     width=\"24px\">\n",
              "    <g>\n",
              "        <path d=\"M19 3H5c-1.1 0-2 .9-2 2v14c0 1.1.9 2 2 2h14c1.1 0 2-.9 2-2V5c0-1.1-.9-2-2-2zM9 17H7v-7h2v7zm4 0h-2V7h2v10zm4 0h-2v-4h2v4z\"/>\n",
              "    </g>\n",
              "</svg>\n",
              "  </button>\n",
              "\n",
              "<style>\n",
              "  .colab-df-quickchart {\n",
              "      --bg-color: #E8F0FE;\n",
              "      --fill-color: #1967D2;\n",
              "      --hover-bg-color: #E2EBFA;\n",
              "      --hover-fill-color: #174EA6;\n",
              "      --disabled-fill-color: #AAA;\n",
              "      --disabled-bg-color: #DDD;\n",
              "  }\n",
              "\n",
              "  [theme=dark] .colab-df-quickchart {\n",
              "      --bg-color: #3B4455;\n",
              "      --fill-color: #D2E3FC;\n",
              "      --hover-bg-color: #434B5C;\n",
              "      --hover-fill-color: #FFFFFF;\n",
              "      --disabled-bg-color: #3B4455;\n",
              "      --disabled-fill-color: #666;\n",
              "  }\n",
              "\n",
              "  .colab-df-quickchart {\n",
              "    background-color: var(--bg-color);\n",
              "    border: none;\n",
              "    border-radius: 50%;\n",
              "    cursor: pointer;\n",
              "    display: none;\n",
              "    fill: var(--fill-color);\n",
              "    height: 32px;\n",
              "    padding: 0;\n",
              "    width: 32px;\n",
              "  }\n",
              "\n",
              "  .colab-df-quickchart:hover {\n",
              "    background-color: var(--hover-bg-color);\n",
              "    box-shadow: 0 1px 2px rgba(60, 64, 67, 0.3), 0 1px 3px 1px rgba(60, 64, 67, 0.15);\n",
              "    fill: var(--button-hover-fill-color);\n",
              "  }\n",
              "\n",
              "  .colab-df-quickchart-complete:disabled,\n",
              "  .colab-df-quickchart-complete:disabled:hover {\n",
              "    background-color: var(--disabled-bg-color);\n",
              "    fill: var(--disabled-fill-color);\n",
              "    box-shadow: none;\n",
              "  }\n",
              "\n",
              "  .colab-df-spinner {\n",
              "    border: 2px solid var(--fill-color);\n",
              "    border-color: transparent;\n",
              "    border-bottom-color: var(--fill-color);\n",
              "    animation:\n",
              "      spin 1s steps(1) infinite;\n",
              "  }\n",
              "\n",
              "  @keyframes spin {\n",
              "    0% {\n",
              "      border-color: transparent;\n",
              "      border-bottom-color: var(--fill-color);\n",
              "      border-left-color: var(--fill-color);\n",
              "    }\n",
              "    20% {\n",
              "      border-color: transparent;\n",
              "      border-left-color: var(--fill-color);\n",
              "      border-top-color: var(--fill-color);\n",
              "    }\n",
              "    30% {\n",
              "      border-color: transparent;\n",
              "      border-left-color: var(--fill-color);\n",
              "      border-top-color: var(--fill-color);\n",
              "      border-right-color: var(--fill-color);\n",
              "    }\n",
              "    40% {\n",
              "      border-color: transparent;\n",
              "      border-right-color: var(--fill-color);\n",
              "      border-top-color: var(--fill-color);\n",
              "    }\n",
              "    60% {\n",
              "      border-color: transparent;\n",
              "      border-right-color: var(--fill-color);\n",
              "    }\n",
              "    80% {\n",
              "      border-color: transparent;\n",
              "      border-right-color: var(--fill-color);\n",
              "      border-bottom-color: var(--fill-color);\n",
              "    }\n",
              "    90% {\n",
              "      border-color: transparent;\n",
              "      border-bottom-color: var(--fill-color);\n",
              "    }\n",
              "  }\n",
              "</style>\n",
              "\n",
              "  <script>\n",
              "    async function quickchart(key) {\n",
              "      const quickchartButtonEl =\n",
              "        document.querySelector('#' + key + ' button');\n",
              "      quickchartButtonEl.disabled = true;  // To prevent multiple clicks.\n",
              "      quickchartButtonEl.classList.add('colab-df-spinner');\n",
              "      try {\n",
              "        const charts = await google.colab.kernel.invokeFunction(\n",
              "            'suggestCharts', [key], {});\n",
              "      } catch (error) {\n",
              "        console.error('Error during call to suggestCharts:', error);\n",
              "      }\n",
              "      quickchartButtonEl.classList.remove('colab-df-spinner');\n",
              "      quickchartButtonEl.classList.add('colab-df-quickchart-complete');\n",
              "    }\n",
              "    (() => {\n",
              "      let quickchartButtonEl =\n",
              "        document.querySelector('#df-004548d9-d4a5-4b02-bef5-931b99c0b155 button');\n",
              "      quickchartButtonEl.style.display =\n",
              "        google.colab.kernel.accessAllowed ? 'block' : 'none';\n",
              "    })();\n",
              "  </script>\n",
              "</div>\n",
              "\n",
              "    </div>\n",
              "  </div>\n"
            ],
            "application/vnd.google.colaboratory.intrinsic+json": {
              "type": "dataframe",
              "variable_name": "df",
              "summary": "{\n  \"name\": \"df\",\n  \"rows\": 747,\n  \"fields\": [\n    {\n      \"column\": \"Sno.\",\n      \"properties\": {\n        \"dtype\": \"number\",\n        \"std\": 215,\n        \"min\": 1,\n        \"max\": 747,\n        \"num_unique_values\": 747,\n        \"samples\": [\n          209,\n          260,\n          98\n        ],\n        \"semantic_type\": \"\",\n        \"description\": \"\"\n      }\n    },\n    {\n      \"column\": \"Text\",\n      \"properties\": {\n        \"dtype\": \"string\",\n        \"num_unique_values\": 730,\n        \"samples\": [\n          \"Mastered the art of creating paper airplanes during lecture. Paper planes: Soaring to new heights! \",\n          \" Wrestling with thoughts, a perplexed mind lost in the labyrinth of life's complexities. \",\n          \"Imbued with gratitude for the simple pleasure of a warm cup of tea. \"\n        ],\n        \"semantic_type\": \"\",\n        \"description\": \"\"\n      }\n    },\n    {\n      \"column\": \"Sentiment\",\n      \"properties\": {\n        \"dtype\": \"number\",\n        \"std\": 0,\n        \"min\": 0,\n        \"max\": 2,\n        \"num_unique_values\": 3,\n        \"samples\": [\n          0,\n          1,\n          2\n        ],\n        \"semantic_type\": \"\",\n        \"description\": \"\"\n      }\n    },\n    {\n      \"column\": \"Timestamp\",\n      \"properties\": {\n        \"dtype\": \"object\",\n        \"num_unique_values\": 693,\n        \"samples\": [\n          \"9/10/2017 20:15\",\n          \"2/21/2023 19:30\",\n          \"7/2/2016 23:30\"\n        ],\n        \"semantic_type\": \"\",\n        \"description\": \"\"\n      }\n    },\n    {\n      \"column\": \"User\",\n      \"properties\": {\n        \"dtype\": \"string\",\n        \"num_unique_values\": 677,\n        \"samples\": [\n          \"MiseryMaze  \",\n          \" StormSeeker \",\n          \" MovieBuff2      \"\n        ],\n        \"semantic_type\": \"\",\n        \"description\": \"\"\n      }\n    },\n    {\n      \"column\": \"Platform\",\n      \"properties\": {\n        \"dtype\": \"category\",\n        \"num_unique_values\": 3,\n        \"samples\": [\n          \"Twitter \",\n          \"Instagram \",\n          \"Facebook \"\n        ],\n        \"semantic_type\": \"\",\n        \"description\": \"\"\n      }\n    },\n    {\n      \"column\": \"Sentiment_decoded\",\n      \"properties\": {\n        \"dtype\": \"category\",\n        \"num_unique_values\": 3,\n        \"samples\": [\n          \"POSITIVE\",\n          \"NEGATIVE\",\n          \"NEUTRAL\"\n        ],\n        \"semantic_type\": \"\",\n        \"description\": \"\"\n      }\n    },\n    {\n      \"column\": \"mod_text\",\n      \"properties\": {\n        \"dtype\": \"string\",\n        \"num_unique_values\": 730,\n        \"samples\": [\n          \"Mastered the art of creating paper airplanes during lecture Paper planes Soaring to new heights \",\n          \" Wrestling with thoughts a perplexed mind lost in the labyrinth of lifes complexities \",\n          \"Imbued with gratitude for the simple pleasure of a warm cup of tea \"\n        ],\n        \"semantic_type\": \"\",\n        \"description\": \"\"\n      }\n    },\n    {\n      \"column\": \"tokenized\",\n      \"properties\": {\n        \"dtype\": \"object\",\n        \"semantic_type\": \"\",\n        \"description\": \"\"\n      }\n    },\n    {\n      \"column\": \"lower\",\n      \"properties\": {\n        \"dtype\": \"object\",\n        \"semantic_type\": \"\",\n        \"description\": \"\"\n      }\n    },\n    {\n      \"column\": \"stopwords_removed\",\n      \"properties\": {\n        \"dtype\": \"object\",\n        \"semantic_type\": \"\",\n        \"description\": \"\"\n      }\n    },\n    {\n      \"column\": \"pos_tags\",\n      \"properties\": {\n        \"dtype\": \"object\",\n        \"semantic_type\": \"\",\n        \"description\": \"\"\n      }\n    }\n  ]\n}"
            }
          },
          "metadata": {},
          "execution_count": 19
        }
      ]
    },
    {
      "cell_type": "code",
      "source": [
        "def get_wordnet_pos(tag):\n",
        "    if tag.startswith('A'):\n",
        "        return wordnet.ADJ\n",
        "    elif tag.startswith('V'):\n",
        "        return wordnet.VERB\n",
        "    elif tag.startswith('N'):\n",
        "        return wordnet.NOUN\n",
        "    elif tag.startswith('R'):\n",
        "        return wordnet.ADV\n",
        "    else:\n",
        "        return wordnet.NOUN\n",
        "\n",
        "# Apply WordNet POS tagging\n",
        "df['wordnet_pos'] = df['pos_tags'].apply(lambda x: [(word, get_wordnet_pos(pos_tag)) for (word, pos_tag) in x])\n",
        "\n",
        "df.head()"
      ],
      "metadata": {
        "colab": {
          "base_uri": "https://localhost:8080/",
          "height": 623
        },
        "id": "xsG4DxP-IVYN",
        "outputId": "9dade787-ccfb-43fc-d817-272cccdadf61"
      },
      "execution_count": 20,
      "outputs": [
        {
          "output_type": "execute_result",
          "data": {
            "text/plain": [
              "   Sno.                                               Text  Sentiment  \\\n",
              "0     1   Enjoying a beautiful day at the park!        ...          0   \n",
              "1     2   Traffic was terrible this morning.           ...          1   \n",
              "2     3   Just finished an amazing workout! üí™       ...          0   \n",
              "3     4   Excited about the upcoming weekend getaway!  ...          0   \n",
              "4     5   Trying out a new recipe for dinner tonight.  ...          2   \n",
              "\n",
              "         Timestamp            User    Platform Sentiment_decoded  \\\n",
              "0  1/15/2023 12:30   User123          Twitter           POSITIVE   \n",
              "1   1/15/2023 8:45   CommuterX        Twitter           NEGATIVE   \n",
              "2  1/15/2023 15:45   FitnessFan     Instagram           POSITIVE   \n",
              "3  1/15/2023 18:20   AdventureX      Facebook           POSITIVE   \n",
              "4  1/15/2023 19:55   ChefCook       Instagram            NEUTRAL   \n",
              "\n",
              "                                            mod_text  \\\n",
              "0   Enjoying a beautiful day at the park         ...   \n",
              "1   Traffic was terrible this morning            ...   \n",
              "2   Just finished an amazing workout                   \n",
              "3   Excited about the upcoming weekend getaway   ...   \n",
              "4   Trying out a new recipe for dinner tonight   ...   \n",
              "\n",
              "                                           tokenized  \\\n",
              "0       [Enjoying, a, beautiful, day, at, the, park]   \n",
              "1            [Traffic, was, terrible, this, morning]   \n",
              "2             [Just, finished, an, amazing, workout]   \n",
              "3  [Excited, about, the, upcoming, weekend, getaway]   \n",
              "4  [Trying, out, a, new, recipe, for, dinner, ton...   \n",
              "\n",
              "                                               lower  \\\n",
              "0       [enjoying, a, beautiful, day, at, the, park]   \n",
              "1            [traffic, was, terrible, this, morning]   \n",
              "2             [just, finished, an, amazing, workout]   \n",
              "3  [excited, about, the, upcoming, weekend, getaway]   \n",
              "4  [trying, out, a, new, recipe, for, dinner, ton...   \n",
              "\n",
              "                        stopwords_removed  \\\n",
              "0        [enjoying, beautiful, day, park]   \n",
              "1            [traffic, terrible, morning]   \n",
              "2            [finished, amazing, workout]   \n",
              "3   [excited, upcoming, weekend, getaway]   \n",
              "4  [trying, new, recipe, dinner, tonight]   \n",
              "\n",
              "                                            pos_tags  \\\n",
              "0  [(enjoying, VBG), (beautiful, JJ), (day, NN), ...   \n",
              "1     [(traffic, NN), (terrible, JJ), (morning, NN)]   \n",
              "2   [(finished, VBN), (amazing, VBG), (workout, NN)]   \n",
              "3  [(excited, JJ), (upcoming, JJ), (weekend, NN),...   \n",
              "4  [(trying, VBG), (new, JJ), (recipe, NN), (dinn...   \n",
              "\n",
              "                                         wordnet_pos  \n",
              "0  [(enjoying, v), (beautiful, n), (day, n), (par...  \n",
              "1        [(traffic, n), (terrible, n), (morning, n)]  \n",
              "2        [(finished, v), (amazing, v), (workout, n)]  \n",
              "3  [(excited, n), (upcoming, n), (weekend, n), (g...  \n",
              "4  [(trying, v), (new, n), (recipe, n), (dinner, ...  "
            ],
            "text/html": [
              "\n",
              "  <div id=\"df-5ebefa0c-10e1-4340-b63a-02afd768b8e7\" class=\"colab-df-container\">\n",
              "    <div>\n",
              "<style scoped>\n",
              "    .dataframe tbody tr th:only-of-type {\n",
              "        vertical-align: middle;\n",
              "    }\n",
              "\n",
              "    .dataframe tbody tr th {\n",
              "        vertical-align: top;\n",
              "    }\n",
              "\n",
              "    .dataframe thead th {\n",
              "        text-align: right;\n",
              "    }\n",
              "</style>\n",
              "<table border=\"1\" class=\"dataframe\">\n",
              "  <thead>\n",
              "    <tr style=\"text-align: right;\">\n",
              "      <th></th>\n",
              "      <th>Sno.</th>\n",
              "      <th>Text</th>\n",
              "      <th>Sentiment</th>\n",
              "      <th>Timestamp</th>\n",
              "      <th>User</th>\n",
              "      <th>Platform</th>\n",
              "      <th>Sentiment_decoded</th>\n",
              "      <th>mod_text</th>\n",
              "      <th>tokenized</th>\n",
              "      <th>lower</th>\n",
              "      <th>stopwords_removed</th>\n",
              "      <th>pos_tags</th>\n",
              "      <th>wordnet_pos</th>\n",
              "    </tr>\n",
              "  </thead>\n",
              "  <tbody>\n",
              "    <tr>\n",
              "      <th>0</th>\n",
              "      <td>1</td>\n",
              "      <td>Enjoying a beautiful day at the park!        ...</td>\n",
              "      <td>0</td>\n",
              "      <td>1/15/2023 12:30</td>\n",
              "      <td>User123</td>\n",
              "      <td>Twitter</td>\n",
              "      <td>POSITIVE</td>\n",
              "      <td>Enjoying a beautiful day at the park         ...</td>\n",
              "      <td>[Enjoying, a, beautiful, day, at, the, park]</td>\n",
              "      <td>[enjoying, a, beautiful, day, at, the, park]</td>\n",
              "      <td>[enjoying, beautiful, day, park]</td>\n",
              "      <td>[(enjoying, VBG), (beautiful, JJ), (day, NN), ...</td>\n",
              "      <td>[(enjoying, v), (beautiful, n), (day, n), (par...</td>\n",
              "    </tr>\n",
              "    <tr>\n",
              "      <th>1</th>\n",
              "      <td>2</td>\n",
              "      <td>Traffic was terrible this morning.           ...</td>\n",
              "      <td>1</td>\n",
              "      <td>1/15/2023 8:45</td>\n",
              "      <td>CommuterX</td>\n",
              "      <td>Twitter</td>\n",
              "      <td>NEGATIVE</td>\n",
              "      <td>Traffic was terrible this morning            ...</td>\n",
              "      <td>[Traffic, was, terrible, this, morning]</td>\n",
              "      <td>[traffic, was, terrible, this, morning]</td>\n",
              "      <td>[traffic, terrible, morning]</td>\n",
              "      <td>[(traffic, NN), (terrible, JJ), (morning, NN)]</td>\n",
              "      <td>[(traffic, n), (terrible, n), (morning, n)]</td>\n",
              "    </tr>\n",
              "    <tr>\n",
              "      <th>2</th>\n",
              "      <td>3</td>\n",
              "      <td>Just finished an amazing workout! üí™       ...</td>\n",
              "      <td>0</td>\n",
              "      <td>1/15/2023 15:45</td>\n",
              "      <td>FitnessFan</td>\n",
              "      <td>Instagram</td>\n",
              "      <td>POSITIVE</td>\n",
              "      <td>Just finished an amazing workout</td>\n",
              "      <td>[Just, finished, an, amazing, workout]</td>\n",
              "      <td>[just, finished, an, amazing, workout]</td>\n",
              "      <td>[finished, amazing, workout]</td>\n",
              "      <td>[(finished, VBN), (amazing, VBG), (workout, NN)]</td>\n",
              "      <td>[(finished, v), (amazing, v), (workout, n)]</td>\n",
              "    </tr>\n",
              "    <tr>\n",
              "      <th>3</th>\n",
              "      <td>4</td>\n",
              "      <td>Excited about the upcoming weekend getaway!  ...</td>\n",
              "      <td>0</td>\n",
              "      <td>1/15/2023 18:20</td>\n",
              "      <td>AdventureX</td>\n",
              "      <td>Facebook</td>\n",
              "      <td>POSITIVE</td>\n",
              "      <td>Excited about the upcoming weekend getaway   ...</td>\n",
              "      <td>[Excited, about, the, upcoming, weekend, getaway]</td>\n",
              "      <td>[excited, about, the, upcoming, weekend, getaway]</td>\n",
              "      <td>[excited, upcoming, weekend, getaway]</td>\n",
              "      <td>[(excited, JJ), (upcoming, JJ), (weekend, NN),...</td>\n",
              "      <td>[(excited, n), (upcoming, n), (weekend, n), (g...</td>\n",
              "    </tr>\n",
              "    <tr>\n",
              "      <th>4</th>\n",
              "      <td>5</td>\n",
              "      <td>Trying out a new recipe for dinner tonight.  ...</td>\n",
              "      <td>2</td>\n",
              "      <td>1/15/2023 19:55</td>\n",
              "      <td>ChefCook</td>\n",
              "      <td>Instagram</td>\n",
              "      <td>NEUTRAL</td>\n",
              "      <td>Trying out a new recipe for dinner tonight   ...</td>\n",
              "      <td>[Trying, out, a, new, recipe, for, dinner, ton...</td>\n",
              "      <td>[trying, out, a, new, recipe, for, dinner, ton...</td>\n",
              "      <td>[trying, new, recipe, dinner, tonight]</td>\n",
              "      <td>[(trying, VBG), (new, JJ), (recipe, NN), (dinn...</td>\n",
              "      <td>[(trying, v), (new, n), (recipe, n), (dinner, ...</td>\n",
              "    </tr>\n",
              "  </tbody>\n",
              "</table>\n",
              "</div>\n",
              "    <div class=\"colab-df-buttons\">\n",
              "\n",
              "  <div class=\"colab-df-container\">\n",
              "    <button class=\"colab-df-convert\" onclick=\"convertToInteractive('df-5ebefa0c-10e1-4340-b63a-02afd768b8e7')\"\n",
              "            title=\"Convert this dataframe to an interactive table.\"\n",
              "            style=\"display:none;\">\n",
              "\n",
              "  <svg xmlns=\"http://www.w3.org/2000/svg\" height=\"24px\" viewBox=\"0 -960 960 960\">\n",
              "    <path d=\"M120-120v-720h720v720H120Zm60-500h600v-160H180v160Zm220 220h160v-160H400v160Zm0 220h160v-160H400v160ZM180-400h160v-160H180v160Zm440 0h160v-160H620v160ZM180-180h160v-160H180v160Zm440 0h160v-160H620v160Z\"/>\n",
              "  </svg>\n",
              "    </button>\n",
              "\n",
              "  <style>\n",
              "    .colab-df-container {\n",
              "      display:flex;\n",
              "      gap: 12px;\n",
              "    }\n",
              "\n",
              "    .colab-df-convert {\n",
              "      background-color: #E8F0FE;\n",
              "      border: none;\n",
              "      border-radius: 50%;\n",
              "      cursor: pointer;\n",
              "      display: none;\n",
              "      fill: #1967D2;\n",
              "      height: 32px;\n",
              "      padding: 0 0 0 0;\n",
              "      width: 32px;\n",
              "    }\n",
              "\n",
              "    .colab-df-convert:hover {\n",
              "      background-color: #E2EBFA;\n",
              "      box-shadow: 0px 1px 2px rgba(60, 64, 67, 0.3), 0px 1px 3px 1px rgba(60, 64, 67, 0.15);\n",
              "      fill: #174EA6;\n",
              "    }\n",
              "\n",
              "    .colab-df-buttons div {\n",
              "      margin-bottom: 4px;\n",
              "    }\n",
              "\n",
              "    [theme=dark] .colab-df-convert {\n",
              "      background-color: #3B4455;\n",
              "      fill: #D2E3FC;\n",
              "    }\n",
              "\n",
              "    [theme=dark] .colab-df-convert:hover {\n",
              "      background-color: #434B5C;\n",
              "      box-shadow: 0px 1px 3px 1px rgba(0, 0, 0, 0.15);\n",
              "      filter: drop-shadow(0px 1px 2px rgba(0, 0, 0, 0.3));\n",
              "      fill: #FFFFFF;\n",
              "    }\n",
              "  </style>\n",
              "\n",
              "    <script>\n",
              "      const buttonEl =\n",
              "        document.querySelector('#df-5ebefa0c-10e1-4340-b63a-02afd768b8e7 button.colab-df-convert');\n",
              "      buttonEl.style.display =\n",
              "        google.colab.kernel.accessAllowed ? 'block' : 'none';\n",
              "\n",
              "      async function convertToInteractive(key) {\n",
              "        const element = document.querySelector('#df-5ebefa0c-10e1-4340-b63a-02afd768b8e7');\n",
              "        const dataTable =\n",
              "          await google.colab.kernel.invokeFunction('convertToInteractive',\n",
              "                                                    [key], {});\n",
              "        if (!dataTable) return;\n",
              "\n",
              "        const docLinkHtml = 'Like what you see? Visit the ' +\n",
              "          '<a target=\"_blank\" href=https://colab.research.google.com/notebooks/data_table.ipynb>data table notebook</a>'\n",
              "          + ' to learn more about interactive tables.';\n",
              "        element.innerHTML = '';\n",
              "        dataTable['output_type'] = 'display_data';\n",
              "        await google.colab.output.renderOutput(dataTable, element);\n",
              "        const docLink = document.createElement('div');\n",
              "        docLink.innerHTML = docLinkHtml;\n",
              "        element.appendChild(docLink);\n",
              "      }\n",
              "    </script>\n",
              "  </div>\n",
              "\n",
              "\n",
              "<div id=\"df-ab1d3814-ebfe-425b-b105-c0b8edeaf782\">\n",
              "  <button class=\"colab-df-quickchart\" onclick=\"quickchart('df-ab1d3814-ebfe-425b-b105-c0b8edeaf782')\"\n",
              "            title=\"Suggest charts\"\n",
              "            style=\"display:none;\">\n",
              "\n",
              "<svg xmlns=\"http://www.w3.org/2000/svg\" height=\"24px\"viewBox=\"0 0 24 24\"\n",
              "     width=\"24px\">\n",
              "    <g>\n",
              "        <path d=\"M19 3H5c-1.1 0-2 .9-2 2v14c0 1.1.9 2 2 2h14c1.1 0 2-.9 2-2V5c0-1.1-.9-2-2-2zM9 17H7v-7h2v7zm4 0h-2V7h2v10zm4 0h-2v-4h2v4z\"/>\n",
              "    </g>\n",
              "</svg>\n",
              "  </button>\n",
              "\n",
              "<style>\n",
              "  .colab-df-quickchart {\n",
              "      --bg-color: #E8F0FE;\n",
              "      --fill-color: #1967D2;\n",
              "      --hover-bg-color: #E2EBFA;\n",
              "      --hover-fill-color: #174EA6;\n",
              "      --disabled-fill-color: #AAA;\n",
              "      --disabled-bg-color: #DDD;\n",
              "  }\n",
              "\n",
              "  [theme=dark] .colab-df-quickchart {\n",
              "      --bg-color: #3B4455;\n",
              "      --fill-color: #D2E3FC;\n",
              "      --hover-bg-color: #434B5C;\n",
              "      --hover-fill-color: #FFFFFF;\n",
              "      --disabled-bg-color: #3B4455;\n",
              "      --disabled-fill-color: #666;\n",
              "  }\n",
              "\n",
              "  .colab-df-quickchart {\n",
              "    background-color: var(--bg-color);\n",
              "    border: none;\n",
              "    border-radius: 50%;\n",
              "    cursor: pointer;\n",
              "    display: none;\n",
              "    fill: var(--fill-color);\n",
              "    height: 32px;\n",
              "    padding: 0;\n",
              "    width: 32px;\n",
              "  }\n",
              "\n",
              "  .colab-df-quickchart:hover {\n",
              "    background-color: var(--hover-bg-color);\n",
              "    box-shadow: 0 1px 2px rgba(60, 64, 67, 0.3), 0 1px 3px 1px rgba(60, 64, 67, 0.15);\n",
              "    fill: var(--button-hover-fill-color);\n",
              "  }\n",
              "\n",
              "  .colab-df-quickchart-complete:disabled,\n",
              "  .colab-df-quickchart-complete:disabled:hover {\n",
              "    background-color: var(--disabled-bg-color);\n",
              "    fill: var(--disabled-fill-color);\n",
              "    box-shadow: none;\n",
              "  }\n",
              "\n",
              "  .colab-df-spinner {\n",
              "    border: 2px solid var(--fill-color);\n",
              "    border-color: transparent;\n",
              "    border-bottom-color: var(--fill-color);\n",
              "    animation:\n",
              "      spin 1s steps(1) infinite;\n",
              "  }\n",
              "\n",
              "  @keyframes spin {\n",
              "    0% {\n",
              "      border-color: transparent;\n",
              "      border-bottom-color: var(--fill-color);\n",
              "      border-left-color: var(--fill-color);\n",
              "    }\n",
              "    20% {\n",
              "      border-color: transparent;\n",
              "      border-left-color: var(--fill-color);\n",
              "      border-top-color: var(--fill-color);\n",
              "    }\n",
              "    30% {\n",
              "      border-color: transparent;\n",
              "      border-left-color: var(--fill-color);\n",
              "      border-top-color: var(--fill-color);\n",
              "      border-right-color: var(--fill-color);\n",
              "    }\n",
              "    40% {\n",
              "      border-color: transparent;\n",
              "      border-right-color: var(--fill-color);\n",
              "      border-top-color: var(--fill-color);\n",
              "    }\n",
              "    60% {\n",
              "      border-color: transparent;\n",
              "      border-right-color: var(--fill-color);\n",
              "    }\n",
              "    80% {\n",
              "      border-color: transparent;\n",
              "      border-right-color: var(--fill-color);\n",
              "      border-bottom-color: var(--fill-color);\n",
              "    }\n",
              "    90% {\n",
              "      border-color: transparent;\n",
              "      border-bottom-color: var(--fill-color);\n",
              "    }\n",
              "  }\n",
              "</style>\n",
              "\n",
              "  <script>\n",
              "    async function quickchart(key) {\n",
              "      const quickchartButtonEl =\n",
              "        document.querySelector('#' + key + ' button');\n",
              "      quickchartButtonEl.disabled = true;  // To prevent multiple clicks.\n",
              "      quickchartButtonEl.classList.add('colab-df-spinner');\n",
              "      try {\n",
              "        const charts = await google.colab.kernel.invokeFunction(\n",
              "            'suggestCharts', [key], {});\n",
              "      } catch (error) {\n",
              "        console.error('Error during call to suggestCharts:', error);\n",
              "      }\n",
              "      quickchartButtonEl.classList.remove('colab-df-spinner');\n",
              "      quickchartButtonEl.classList.add('colab-df-quickchart-complete');\n",
              "    }\n",
              "    (() => {\n",
              "      let quickchartButtonEl =\n",
              "        document.querySelector('#df-ab1d3814-ebfe-425b-b105-c0b8edeaf782 button');\n",
              "      quickchartButtonEl.style.display =\n",
              "        google.colab.kernel.accessAllowed ? 'block' : 'none';\n",
              "    })();\n",
              "  </script>\n",
              "</div>\n",
              "\n",
              "    </div>\n",
              "  </div>\n"
            ],
            "application/vnd.google.colaboratory.intrinsic+json": {
              "type": "dataframe",
              "variable_name": "df",
              "summary": "{\n  \"name\": \"df\",\n  \"rows\": 747,\n  \"fields\": [\n    {\n      \"column\": \"Sno.\",\n      \"properties\": {\n        \"dtype\": \"number\",\n        \"std\": 215,\n        \"min\": 1,\n        \"max\": 747,\n        \"num_unique_values\": 747,\n        \"samples\": [\n          209,\n          260,\n          98\n        ],\n        \"semantic_type\": \"\",\n        \"description\": \"\"\n      }\n    },\n    {\n      \"column\": \"Text\",\n      \"properties\": {\n        \"dtype\": \"string\",\n        \"num_unique_values\": 730,\n        \"samples\": [\n          \"Mastered the art of creating paper airplanes during lecture. Paper planes: Soaring to new heights! \",\n          \" Wrestling with thoughts, a perplexed mind lost in the labyrinth of life's complexities. \",\n          \"Imbued with gratitude for the simple pleasure of a warm cup of tea. \"\n        ],\n        \"semantic_type\": \"\",\n        \"description\": \"\"\n      }\n    },\n    {\n      \"column\": \"Sentiment\",\n      \"properties\": {\n        \"dtype\": \"number\",\n        \"std\": 0,\n        \"min\": 0,\n        \"max\": 2,\n        \"num_unique_values\": 3,\n        \"samples\": [\n          0,\n          1,\n          2\n        ],\n        \"semantic_type\": \"\",\n        \"description\": \"\"\n      }\n    },\n    {\n      \"column\": \"Timestamp\",\n      \"properties\": {\n        \"dtype\": \"object\",\n        \"num_unique_values\": 693,\n        \"samples\": [\n          \"9/10/2017 20:15\",\n          \"2/21/2023 19:30\",\n          \"7/2/2016 23:30\"\n        ],\n        \"semantic_type\": \"\",\n        \"description\": \"\"\n      }\n    },\n    {\n      \"column\": \"User\",\n      \"properties\": {\n        \"dtype\": \"string\",\n        \"num_unique_values\": 677,\n        \"samples\": [\n          \"MiseryMaze  \",\n          \" StormSeeker \",\n          \" MovieBuff2      \"\n        ],\n        \"semantic_type\": \"\",\n        \"description\": \"\"\n      }\n    },\n    {\n      \"column\": \"Platform\",\n      \"properties\": {\n        \"dtype\": \"category\",\n        \"num_unique_values\": 3,\n        \"samples\": [\n          \"Twitter \",\n          \"Instagram \",\n          \"Facebook \"\n        ],\n        \"semantic_type\": \"\",\n        \"description\": \"\"\n      }\n    },\n    {\n      \"column\": \"Sentiment_decoded\",\n      \"properties\": {\n        \"dtype\": \"category\",\n        \"num_unique_values\": 3,\n        \"samples\": [\n          \"POSITIVE\",\n          \"NEGATIVE\",\n          \"NEUTRAL\"\n        ],\n        \"semantic_type\": \"\",\n        \"description\": \"\"\n      }\n    },\n    {\n      \"column\": \"mod_text\",\n      \"properties\": {\n        \"dtype\": \"string\",\n        \"num_unique_values\": 730,\n        \"samples\": [\n          \"Mastered the art of creating paper airplanes during lecture Paper planes Soaring to new heights \",\n          \" Wrestling with thoughts a perplexed mind lost in the labyrinth of lifes complexities \",\n          \"Imbued with gratitude for the simple pleasure of a warm cup of tea \"\n        ],\n        \"semantic_type\": \"\",\n        \"description\": \"\"\n      }\n    },\n    {\n      \"column\": \"tokenized\",\n      \"properties\": {\n        \"dtype\": \"object\",\n        \"semantic_type\": \"\",\n        \"description\": \"\"\n      }\n    },\n    {\n      \"column\": \"lower\",\n      \"properties\": {\n        \"dtype\": \"object\",\n        \"semantic_type\": \"\",\n        \"description\": \"\"\n      }\n    },\n    {\n      \"column\": \"stopwords_removed\",\n      \"properties\": {\n        \"dtype\": \"object\",\n        \"semantic_type\": \"\",\n        \"description\": \"\"\n      }\n    },\n    {\n      \"column\": \"pos_tags\",\n      \"properties\": {\n        \"dtype\": \"object\",\n        \"semantic_type\": \"\",\n        \"description\": \"\"\n      }\n    },\n    {\n      \"column\": \"wordnet_pos\",\n      \"properties\": {\n        \"dtype\": \"object\",\n        \"semantic_type\": \"\",\n        \"description\": \"\"\n      }\n    }\n  ]\n}"
            }
          },
          "metadata": {},
          "execution_count": 20
        }
      ]
    },
    {
      "cell_type": "markdown",
      "source": [
        "This process helps in structuring and preparing text data by providing information about the grammatical roles of words, which can be useful for sentiment analysis and text classification."
      ],
      "metadata": {
        "id": "-gf2hr39Iuh-"
      }
    },
    {
      "cell_type": "code",
      "source": [
        "# Applying word lemmatizer.\n",
        "wnl = WordNetLemmatizer()\n",
        "\n",
        "df['lemmatized'] = df['wordnet_pos'].apply(lambda x: [wnl.lemmatize(word, tag) for word, tag in x])\n",
        "df['lemmatized'] = df['lemmatized'].apply(lambda x: [word for word in x if word not in stop_words])\n",
        "\n",
        "df['lemma_str'] = [' '.join(map(str, l)) for l in df['lemmatized']]\n",
        "\n",
        "df.head()"
      ],
      "metadata": {
        "colab": {
          "base_uri": "https://localhost:8080/",
          "height": 678
        },
        "id": "oL5qzGVSI3LH",
        "outputId": "1dc3c432-b415-479f-9880-6fb6b5cac8bd"
      },
      "execution_count": 21,
      "outputs": [
        {
          "output_type": "execute_result",
          "data": {
            "text/plain": [
              "   Sno.                                               Text  Sentiment  \\\n",
              "0     1   Enjoying a beautiful day at the park!        ...          0   \n",
              "1     2   Traffic was terrible this morning.           ...          1   \n",
              "2     3   Just finished an amazing workout! üí™       ...          0   \n",
              "3     4   Excited about the upcoming weekend getaway!  ...          0   \n",
              "4     5   Trying out a new recipe for dinner tonight.  ...          2   \n",
              "\n",
              "         Timestamp            User    Platform Sentiment_decoded  \\\n",
              "0  1/15/2023 12:30   User123          Twitter           POSITIVE   \n",
              "1   1/15/2023 8:45   CommuterX        Twitter           NEGATIVE   \n",
              "2  1/15/2023 15:45   FitnessFan     Instagram           POSITIVE   \n",
              "3  1/15/2023 18:20   AdventureX      Facebook           POSITIVE   \n",
              "4  1/15/2023 19:55   ChefCook       Instagram            NEUTRAL   \n",
              "\n",
              "                                            mod_text  \\\n",
              "0   Enjoying a beautiful day at the park         ...   \n",
              "1   Traffic was terrible this morning            ...   \n",
              "2   Just finished an amazing workout                   \n",
              "3   Excited about the upcoming weekend getaway   ...   \n",
              "4   Trying out a new recipe for dinner tonight   ...   \n",
              "\n",
              "                                           tokenized  \\\n",
              "0       [Enjoying, a, beautiful, day, at, the, park]   \n",
              "1            [Traffic, was, terrible, this, morning]   \n",
              "2             [Just, finished, an, amazing, workout]   \n",
              "3  [Excited, about, the, upcoming, weekend, getaway]   \n",
              "4  [Trying, out, a, new, recipe, for, dinner, ton...   \n",
              "\n",
              "                                               lower  \\\n",
              "0       [enjoying, a, beautiful, day, at, the, park]   \n",
              "1            [traffic, was, terrible, this, morning]   \n",
              "2             [just, finished, an, amazing, workout]   \n",
              "3  [excited, about, the, upcoming, weekend, getaway]   \n",
              "4  [trying, out, a, new, recipe, for, dinner, ton...   \n",
              "\n",
              "                        stopwords_removed  \\\n",
              "0        [enjoying, beautiful, day, park]   \n",
              "1            [traffic, terrible, morning]   \n",
              "2            [finished, amazing, workout]   \n",
              "3   [excited, upcoming, weekend, getaway]   \n",
              "4  [trying, new, recipe, dinner, tonight]   \n",
              "\n",
              "                                            pos_tags  \\\n",
              "0  [(enjoying, VBG), (beautiful, JJ), (day, NN), ...   \n",
              "1     [(traffic, NN), (terrible, JJ), (morning, NN)]   \n",
              "2   [(finished, VBN), (amazing, VBG), (workout, NN)]   \n",
              "3  [(excited, JJ), (upcoming, JJ), (weekend, NN),...   \n",
              "4  [(trying, VBG), (new, JJ), (recipe, NN), (dinn...   \n",
              "\n",
              "                                         wordnet_pos  \\\n",
              "0  [(enjoying, v), (beautiful, n), (day, n), (par...   \n",
              "1        [(traffic, n), (terrible, n), (morning, n)]   \n",
              "2        [(finished, v), (amazing, v), (workout, n)]   \n",
              "3  [(excited, n), (upcoming, n), (weekend, n), (g...   \n",
              "4  [(trying, v), (new, n), (recipe, n), (dinner, ...   \n",
              "\n",
              "                              lemmatized                         lemma_str  \n",
              "0          [enjoy, beautiful, day, park]          enjoy beautiful day park  \n",
              "1           [traffic, terrible, morning]          traffic terrible morning  \n",
              "2               [finish, amaze, workout]              finish amaze workout  \n",
              "3  [excited, upcoming, weekend, getaway]  excited upcoming weekend getaway  \n",
              "4    [try, new, recipe, dinner, tonight]     try new recipe dinner tonight  "
            ],
            "text/html": [
              "\n",
              "  <div id=\"df-b9c84e7d-3d85-4759-9434-942faabc1e33\" class=\"colab-df-container\">\n",
              "    <div>\n",
              "<style scoped>\n",
              "    .dataframe tbody tr th:only-of-type {\n",
              "        vertical-align: middle;\n",
              "    }\n",
              "\n",
              "    .dataframe tbody tr th {\n",
              "        vertical-align: top;\n",
              "    }\n",
              "\n",
              "    .dataframe thead th {\n",
              "        text-align: right;\n",
              "    }\n",
              "</style>\n",
              "<table border=\"1\" class=\"dataframe\">\n",
              "  <thead>\n",
              "    <tr style=\"text-align: right;\">\n",
              "      <th></th>\n",
              "      <th>Sno.</th>\n",
              "      <th>Text</th>\n",
              "      <th>Sentiment</th>\n",
              "      <th>Timestamp</th>\n",
              "      <th>User</th>\n",
              "      <th>Platform</th>\n",
              "      <th>Sentiment_decoded</th>\n",
              "      <th>mod_text</th>\n",
              "      <th>tokenized</th>\n",
              "      <th>lower</th>\n",
              "      <th>stopwords_removed</th>\n",
              "      <th>pos_tags</th>\n",
              "      <th>wordnet_pos</th>\n",
              "      <th>lemmatized</th>\n",
              "      <th>lemma_str</th>\n",
              "    </tr>\n",
              "  </thead>\n",
              "  <tbody>\n",
              "    <tr>\n",
              "      <th>0</th>\n",
              "      <td>1</td>\n",
              "      <td>Enjoying a beautiful day at the park!        ...</td>\n",
              "      <td>0</td>\n",
              "      <td>1/15/2023 12:30</td>\n",
              "      <td>User123</td>\n",
              "      <td>Twitter</td>\n",
              "      <td>POSITIVE</td>\n",
              "      <td>Enjoying a beautiful day at the park         ...</td>\n",
              "      <td>[Enjoying, a, beautiful, day, at, the, park]</td>\n",
              "      <td>[enjoying, a, beautiful, day, at, the, park]</td>\n",
              "      <td>[enjoying, beautiful, day, park]</td>\n",
              "      <td>[(enjoying, VBG), (beautiful, JJ), (day, NN), ...</td>\n",
              "      <td>[(enjoying, v), (beautiful, n), (day, n), (par...</td>\n",
              "      <td>[enjoy, beautiful, day, park]</td>\n",
              "      <td>enjoy beautiful day park</td>\n",
              "    </tr>\n",
              "    <tr>\n",
              "      <th>1</th>\n",
              "      <td>2</td>\n",
              "      <td>Traffic was terrible this morning.           ...</td>\n",
              "      <td>1</td>\n",
              "      <td>1/15/2023 8:45</td>\n",
              "      <td>CommuterX</td>\n",
              "      <td>Twitter</td>\n",
              "      <td>NEGATIVE</td>\n",
              "      <td>Traffic was terrible this morning            ...</td>\n",
              "      <td>[Traffic, was, terrible, this, morning]</td>\n",
              "      <td>[traffic, was, terrible, this, morning]</td>\n",
              "      <td>[traffic, terrible, morning]</td>\n",
              "      <td>[(traffic, NN), (terrible, JJ), (morning, NN)]</td>\n",
              "      <td>[(traffic, n), (terrible, n), (morning, n)]</td>\n",
              "      <td>[traffic, terrible, morning]</td>\n",
              "      <td>traffic terrible morning</td>\n",
              "    </tr>\n",
              "    <tr>\n",
              "      <th>2</th>\n",
              "      <td>3</td>\n",
              "      <td>Just finished an amazing workout! üí™       ...</td>\n",
              "      <td>0</td>\n",
              "      <td>1/15/2023 15:45</td>\n",
              "      <td>FitnessFan</td>\n",
              "      <td>Instagram</td>\n",
              "      <td>POSITIVE</td>\n",
              "      <td>Just finished an amazing workout</td>\n",
              "      <td>[Just, finished, an, amazing, workout]</td>\n",
              "      <td>[just, finished, an, amazing, workout]</td>\n",
              "      <td>[finished, amazing, workout]</td>\n",
              "      <td>[(finished, VBN), (amazing, VBG), (workout, NN)]</td>\n",
              "      <td>[(finished, v), (amazing, v), (workout, n)]</td>\n",
              "      <td>[finish, amaze, workout]</td>\n",
              "      <td>finish amaze workout</td>\n",
              "    </tr>\n",
              "    <tr>\n",
              "      <th>3</th>\n",
              "      <td>4</td>\n",
              "      <td>Excited about the upcoming weekend getaway!  ...</td>\n",
              "      <td>0</td>\n",
              "      <td>1/15/2023 18:20</td>\n",
              "      <td>AdventureX</td>\n",
              "      <td>Facebook</td>\n",
              "      <td>POSITIVE</td>\n",
              "      <td>Excited about the upcoming weekend getaway   ...</td>\n",
              "      <td>[Excited, about, the, upcoming, weekend, getaway]</td>\n",
              "      <td>[excited, about, the, upcoming, weekend, getaway]</td>\n",
              "      <td>[excited, upcoming, weekend, getaway]</td>\n",
              "      <td>[(excited, JJ), (upcoming, JJ), (weekend, NN),...</td>\n",
              "      <td>[(excited, n), (upcoming, n), (weekend, n), (g...</td>\n",
              "      <td>[excited, upcoming, weekend, getaway]</td>\n",
              "      <td>excited upcoming weekend getaway</td>\n",
              "    </tr>\n",
              "    <tr>\n",
              "      <th>4</th>\n",
              "      <td>5</td>\n",
              "      <td>Trying out a new recipe for dinner tonight.  ...</td>\n",
              "      <td>2</td>\n",
              "      <td>1/15/2023 19:55</td>\n",
              "      <td>ChefCook</td>\n",
              "      <td>Instagram</td>\n",
              "      <td>NEUTRAL</td>\n",
              "      <td>Trying out a new recipe for dinner tonight   ...</td>\n",
              "      <td>[Trying, out, a, new, recipe, for, dinner, ton...</td>\n",
              "      <td>[trying, out, a, new, recipe, for, dinner, ton...</td>\n",
              "      <td>[trying, new, recipe, dinner, tonight]</td>\n",
              "      <td>[(trying, VBG), (new, JJ), (recipe, NN), (dinn...</td>\n",
              "      <td>[(trying, v), (new, n), (recipe, n), (dinner, ...</td>\n",
              "      <td>[try, new, recipe, dinner, tonight]</td>\n",
              "      <td>try new recipe dinner tonight</td>\n",
              "    </tr>\n",
              "  </tbody>\n",
              "</table>\n",
              "</div>\n",
              "    <div class=\"colab-df-buttons\">\n",
              "\n",
              "  <div class=\"colab-df-container\">\n",
              "    <button class=\"colab-df-convert\" onclick=\"convertToInteractive('df-b9c84e7d-3d85-4759-9434-942faabc1e33')\"\n",
              "            title=\"Convert this dataframe to an interactive table.\"\n",
              "            style=\"display:none;\">\n",
              "\n",
              "  <svg xmlns=\"http://www.w3.org/2000/svg\" height=\"24px\" viewBox=\"0 -960 960 960\">\n",
              "    <path d=\"M120-120v-720h720v720H120Zm60-500h600v-160H180v160Zm220 220h160v-160H400v160Zm0 220h160v-160H400v160ZM180-400h160v-160H180v160Zm440 0h160v-160H620v160ZM180-180h160v-160H180v160Zm440 0h160v-160H620v160Z\"/>\n",
              "  </svg>\n",
              "    </button>\n",
              "\n",
              "  <style>\n",
              "    .colab-df-container {\n",
              "      display:flex;\n",
              "      gap: 12px;\n",
              "    }\n",
              "\n",
              "    .colab-df-convert {\n",
              "      background-color: #E8F0FE;\n",
              "      border: none;\n",
              "      border-radius: 50%;\n",
              "      cursor: pointer;\n",
              "      display: none;\n",
              "      fill: #1967D2;\n",
              "      height: 32px;\n",
              "      padding: 0 0 0 0;\n",
              "      width: 32px;\n",
              "    }\n",
              "\n",
              "    .colab-df-convert:hover {\n",
              "      background-color: #E2EBFA;\n",
              "      box-shadow: 0px 1px 2px rgba(60, 64, 67, 0.3), 0px 1px 3px 1px rgba(60, 64, 67, 0.15);\n",
              "      fill: #174EA6;\n",
              "    }\n",
              "\n",
              "    .colab-df-buttons div {\n",
              "      margin-bottom: 4px;\n",
              "    }\n",
              "\n",
              "    [theme=dark] .colab-df-convert {\n",
              "      background-color: #3B4455;\n",
              "      fill: #D2E3FC;\n",
              "    }\n",
              "\n",
              "    [theme=dark] .colab-df-convert:hover {\n",
              "      background-color: #434B5C;\n",
              "      box-shadow: 0px 1px 3px 1px rgba(0, 0, 0, 0.15);\n",
              "      filter: drop-shadow(0px 1px 2px rgba(0, 0, 0, 0.3));\n",
              "      fill: #FFFFFF;\n",
              "    }\n",
              "  </style>\n",
              "\n",
              "    <script>\n",
              "      const buttonEl =\n",
              "        document.querySelector('#df-b9c84e7d-3d85-4759-9434-942faabc1e33 button.colab-df-convert');\n",
              "      buttonEl.style.display =\n",
              "        google.colab.kernel.accessAllowed ? 'block' : 'none';\n",
              "\n",
              "      async function convertToInteractive(key) {\n",
              "        const element = document.querySelector('#df-b9c84e7d-3d85-4759-9434-942faabc1e33');\n",
              "        const dataTable =\n",
              "          await google.colab.kernel.invokeFunction('convertToInteractive',\n",
              "                                                    [key], {});\n",
              "        if (!dataTable) return;\n",
              "\n",
              "        const docLinkHtml = 'Like what you see? Visit the ' +\n",
              "          '<a target=\"_blank\" href=https://colab.research.google.com/notebooks/data_table.ipynb>data table notebook</a>'\n",
              "          + ' to learn more about interactive tables.';\n",
              "        element.innerHTML = '';\n",
              "        dataTable['output_type'] = 'display_data';\n",
              "        await google.colab.output.renderOutput(dataTable, element);\n",
              "        const docLink = document.createElement('div');\n",
              "        docLink.innerHTML = docLinkHtml;\n",
              "        element.appendChild(docLink);\n",
              "      }\n",
              "    </script>\n",
              "  </div>\n",
              "\n",
              "\n",
              "<div id=\"df-db7d7477-2498-4497-9d56-a29f5481952d\">\n",
              "  <button class=\"colab-df-quickchart\" onclick=\"quickchart('df-db7d7477-2498-4497-9d56-a29f5481952d')\"\n",
              "            title=\"Suggest charts\"\n",
              "            style=\"display:none;\">\n",
              "\n",
              "<svg xmlns=\"http://www.w3.org/2000/svg\" height=\"24px\"viewBox=\"0 0 24 24\"\n",
              "     width=\"24px\">\n",
              "    <g>\n",
              "        <path d=\"M19 3H5c-1.1 0-2 .9-2 2v14c0 1.1.9 2 2 2h14c1.1 0 2-.9 2-2V5c0-1.1-.9-2-2-2zM9 17H7v-7h2v7zm4 0h-2V7h2v10zm4 0h-2v-4h2v4z\"/>\n",
              "    </g>\n",
              "</svg>\n",
              "  </button>\n",
              "\n",
              "<style>\n",
              "  .colab-df-quickchart {\n",
              "      --bg-color: #E8F0FE;\n",
              "      --fill-color: #1967D2;\n",
              "      --hover-bg-color: #E2EBFA;\n",
              "      --hover-fill-color: #174EA6;\n",
              "      --disabled-fill-color: #AAA;\n",
              "      --disabled-bg-color: #DDD;\n",
              "  }\n",
              "\n",
              "  [theme=dark] .colab-df-quickchart {\n",
              "      --bg-color: #3B4455;\n",
              "      --fill-color: #D2E3FC;\n",
              "      --hover-bg-color: #434B5C;\n",
              "      --hover-fill-color: #FFFFFF;\n",
              "      --disabled-bg-color: #3B4455;\n",
              "      --disabled-fill-color: #666;\n",
              "  }\n",
              "\n",
              "  .colab-df-quickchart {\n",
              "    background-color: var(--bg-color);\n",
              "    border: none;\n",
              "    border-radius: 50%;\n",
              "    cursor: pointer;\n",
              "    display: none;\n",
              "    fill: var(--fill-color);\n",
              "    height: 32px;\n",
              "    padding: 0;\n",
              "    width: 32px;\n",
              "  }\n",
              "\n",
              "  .colab-df-quickchart:hover {\n",
              "    background-color: var(--hover-bg-color);\n",
              "    box-shadow: 0 1px 2px rgba(60, 64, 67, 0.3), 0 1px 3px 1px rgba(60, 64, 67, 0.15);\n",
              "    fill: var(--button-hover-fill-color);\n",
              "  }\n",
              "\n",
              "  .colab-df-quickchart-complete:disabled,\n",
              "  .colab-df-quickchart-complete:disabled:hover {\n",
              "    background-color: var(--disabled-bg-color);\n",
              "    fill: var(--disabled-fill-color);\n",
              "    box-shadow: none;\n",
              "  }\n",
              "\n",
              "  .colab-df-spinner {\n",
              "    border: 2px solid var(--fill-color);\n",
              "    border-color: transparent;\n",
              "    border-bottom-color: var(--fill-color);\n",
              "    animation:\n",
              "      spin 1s steps(1) infinite;\n",
              "  }\n",
              "\n",
              "  @keyframes spin {\n",
              "    0% {\n",
              "      border-color: transparent;\n",
              "      border-bottom-color: var(--fill-color);\n",
              "      border-left-color: var(--fill-color);\n",
              "    }\n",
              "    20% {\n",
              "      border-color: transparent;\n",
              "      border-left-color: var(--fill-color);\n",
              "      border-top-color: var(--fill-color);\n",
              "    }\n",
              "    30% {\n",
              "      border-color: transparent;\n",
              "      border-left-color: var(--fill-color);\n",
              "      border-top-color: var(--fill-color);\n",
              "      border-right-color: var(--fill-color);\n",
              "    }\n",
              "    40% {\n",
              "      border-color: transparent;\n",
              "      border-right-color: var(--fill-color);\n",
              "      border-top-color: var(--fill-color);\n",
              "    }\n",
              "    60% {\n",
              "      border-color: transparent;\n",
              "      border-right-color: var(--fill-color);\n",
              "    }\n",
              "    80% {\n",
              "      border-color: transparent;\n",
              "      border-right-color: var(--fill-color);\n",
              "      border-bottom-color: var(--fill-color);\n",
              "    }\n",
              "    90% {\n",
              "      border-color: transparent;\n",
              "      border-bottom-color: var(--fill-color);\n",
              "    }\n",
              "  }\n",
              "</style>\n",
              "\n",
              "  <script>\n",
              "    async function quickchart(key) {\n",
              "      const quickchartButtonEl =\n",
              "        document.querySelector('#' + key + ' button');\n",
              "      quickchartButtonEl.disabled = true;  // To prevent multiple clicks.\n",
              "      quickchartButtonEl.classList.add('colab-df-spinner');\n",
              "      try {\n",
              "        const charts = await google.colab.kernel.invokeFunction(\n",
              "            'suggestCharts', [key], {});\n",
              "      } catch (error) {\n",
              "        console.error('Error during call to suggestCharts:', error);\n",
              "      }\n",
              "      quickchartButtonEl.classList.remove('colab-df-spinner');\n",
              "      quickchartButtonEl.classList.add('colab-df-quickchart-complete');\n",
              "    }\n",
              "    (() => {\n",
              "      let quickchartButtonEl =\n",
              "        document.querySelector('#df-db7d7477-2498-4497-9d56-a29f5481952d button');\n",
              "      quickchartButtonEl.style.display =\n",
              "        google.colab.kernel.accessAllowed ? 'block' : 'none';\n",
              "    })();\n",
              "  </script>\n",
              "</div>\n",
              "\n",
              "    </div>\n",
              "  </div>\n"
            ],
            "application/vnd.google.colaboratory.intrinsic+json": {
              "type": "dataframe",
              "variable_name": "df",
              "summary": "{\n  \"name\": \"df\",\n  \"rows\": 747,\n  \"fields\": [\n    {\n      \"column\": \"Sno.\",\n      \"properties\": {\n        \"dtype\": \"number\",\n        \"std\": 215,\n        \"min\": 1,\n        \"max\": 747,\n        \"num_unique_values\": 747,\n        \"samples\": [\n          209,\n          260,\n          98\n        ],\n        \"semantic_type\": \"\",\n        \"description\": \"\"\n      }\n    },\n    {\n      \"column\": \"Text\",\n      \"properties\": {\n        \"dtype\": \"string\",\n        \"num_unique_values\": 730,\n        \"samples\": [\n          \"Mastered the art of creating paper airplanes during lecture. Paper planes: Soaring to new heights! \",\n          \" Wrestling with thoughts, a perplexed mind lost in the labyrinth of life's complexities. \",\n          \"Imbued with gratitude for the simple pleasure of a warm cup of tea. \"\n        ],\n        \"semantic_type\": \"\",\n        \"description\": \"\"\n      }\n    },\n    {\n      \"column\": \"Sentiment\",\n      \"properties\": {\n        \"dtype\": \"number\",\n        \"std\": 0,\n        \"min\": 0,\n        \"max\": 2,\n        \"num_unique_values\": 3,\n        \"samples\": [\n          0,\n          1,\n          2\n        ],\n        \"semantic_type\": \"\",\n        \"description\": \"\"\n      }\n    },\n    {\n      \"column\": \"Timestamp\",\n      \"properties\": {\n        \"dtype\": \"object\",\n        \"num_unique_values\": 693,\n        \"samples\": [\n          \"9/10/2017 20:15\",\n          \"2/21/2023 19:30\",\n          \"7/2/2016 23:30\"\n        ],\n        \"semantic_type\": \"\",\n        \"description\": \"\"\n      }\n    },\n    {\n      \"column\": \"User\",\n      \"properties\": {\n        \"dtype\": \"string\",\n        \"num_unique_values\": 677,\n        \"samples\": [\n          \"MiseryMaze  \",\n          \" StormSeeker \",\n          \" MovieBuff2      \"\n        ],\n        \"semantic_type\": \"\",\n        \"description\": \"\"\n      }\n    },\n    {\n      \"column\": \"Platform\",\n      \"properties\": {\n        \"dtype\": \"category\",\n        \"num_unique_values\": 3,\n        \"samples\": [\n          \"Twitter \",\n          \"Instagram \",\n          \"Facebook \"\n        ],\n        \"semantic_type\": \"\",\n        \"description\": \"\"\n      }\n    },\n    {\n      \"column\": \"Sentiment_decoded\",\n      \"properties\": {\n        \"dtype\": \"category\",\n        \"num_unique_values\": 3,\n        \"samples\": [\n          \"POSITIVE\",\n          \"NEGATIVE\",\n          \"NEUTRAL\"\n        ],\n        \"semantic_type\": \"\",\n        \"description\": \"\"\n      }\n    },\n    {\n      \"column\": \"mod_text\",\n      \"properties\": {\n        \"dtype\": \"string\",\n        \"num_unique_values\": 730,\n        \"samples\": [\n          \"Mastered the art of creating paper airplanes during lecture Paper planes Soaring to new heights \",\n          \" Wrestling with thoughts a perplexed mind lost in the labyrinth of lifes complexities \",\n          \"Imbued with gratitude for the simple pleasure of a warm cup of tea \"\n        ],\n        \"semantic_type\": \"\",\n        \"description\": \"\"\n      }\n    },\n    {\n      \"column\": \"tokenized\",\n      \"properties\": {\n        \"dtype\": \"object\",\n        \"semantic_type\": \"\",\n        \"description\": \"\"\n      }\n    },\n    {\n      \"column\": \"lower\",\n      \"properties\": {\n        \"dtype\": \"object\",\n        \"semantic_type\": \"\",\n        \"description\": \"\"\n      }\n    },\n    {\n      \"column\": \"stopwords_removed\",\n      \"properties\": {\n        \"dtype\": \"object\",\n        \"semantic_type\": \"\",\n        \"description\": \"\"\n      }\n    },\n    {\n      \"column\": \"pos_tags\",\n      \"properties\": {\n        \"dtype\": \"object\",\n        \"semantic_type\": \"\",\n        \"description\": \"\"\n      }\n    },\n    {\n      \"column\": \"wordnet_pos\",\n      \"properties\": {\n        \"dtype\": \"object\",\n        \"semantic_type\": \"\",\n        \"description\": \"\"\n      }\n    },\n    {\n      \"column\": \"lemmatized\",\n      \"properties\": {\n        \"dtype\": \"object\",\n        \"semantic_type\": \"\",\n        \"description\": \"\"\n      }\n    },\n    {\n      \"column\": \"lemma_str\",\n      \"properties\": {\n        \"dtype\": \"string\",\n        \"num_unique_values\": 725,\n        \"samples\": [\n          \"labyrinth grief wall echo footstep lose joy\",\n          \"participate science fair showcase unique experiment share knowledge peer\",\n          \"peaceful perspective\"\n        ],\n        \"semantic_type\": \"\",\n        \"description\": \"\"\n      }\n    }\n  ]\n}"
            }
          },
          "metadata": {},
          "execution_count": 21
        }
      ]
    },
    {
      "cell_type": "markdown",
      "source": [
        "This code applies word lemmatization using WordNet POS tags to the words in the 'wordnet_pos' column of DataFrame. It then removes stopwords from the lemmatized words and converts them back to a string format. The resulting lemmatized text is stored in a new column named 'lemma_str'."
      ],
      "metadata": {
        "id": "qKKdTjMfJIw-"
      }
    },
    {
      "cell_type": "code",
      "source": [
        "print(\"Total Rows =\", len(df.Text))"
      ],
      "metadata": {
        "colab": {
          "base_uri": "https://localhost:8080/"
        },
        "id": "LbuZjMBhJOKM",
        "outputId": "5f4c8b91-6256-4bc8-da22-068635e4eb2e"
      },
      "execution_count": 22,
      "outputs": [
        {
          "output_type": "stream",
          "name": "stdout",
          "text": [
            "Total Rows = 747\n"
          ]
        }
      ]
    },
    {
      "cell_type": "code",
      "source": [
        "df.head()"
      ],
      "metadata": {
        "colab": {
          "base_uri": "https://localhost:8080/",
          "height": 678
        },
        "id": "IiACpGo2Jd_T",
        "outputId": "17d3d16b-8f58-4505-c4b0-82be2fdbc810"
      },
      "execution_count": 23,
      "outputs": [
        {
          "output_type": "execute_result",
          "data": {
            "text/plain": [
              "   Sno.                                               Text  Sentiment  \\\n",
              "0     1   Enjoying a beautiful day at the park!        ...          0   \n",
              "1     2   Traffic was terrible this morning.           ...          1   \n",
              "2     3   Just finished an amazing workout! üí™       ...          0   \n",
              "3     4   Excited about the upcoming weekend getaway!  ...          0   \n",
              "4     5   Trying out a new recipe for dinner tonight.  ...          2   \n",
              "\n",
              "         Timestamp            User    Platform Sentiment_decoded  \\\n",
              "0  1/15/2023 12:30   User123          Twitter           POSITIVE   \n",
              "1   1/15/2023 8:45   CommuterX        Twitter           NEGATIVE   \n",
              "2  1/15/2023 15:45   FitnessFan     Instagram           POSITIVE   \n",
              "3  1/15/2023 18:20   AdventureX      Facebook           POSITIVE   \n",
              "4  1/15/2023 19:55   ChefCook       Instagram            NEUTRAL   \n",
              "\n",
              "                                            mod_text  \\\n",
              "0   Enjoying a beautiful day at the park         ...   \n",
              "1   Traffic was terrible this morning            ...   \n",
              "2   Just finished an amazing workout                   \n",
              "3   Excited about the upcoming weekend getaway   ...   \n",
              "4   Trying out a new recipe for dinner tonight   ...   \n",
              "\n",
              "                                           tokenized  \\\n",
              "0       [Enjoying, a, beautiful, day, at, the, park]   \n",
              "1            [Traffic, was, terrible, this, morning]   \n",
              "2             [Just, finished, an, amazing, workout]   \n",
              "3  [Excited, about, the, upcoming, weekend, getaway]   \n",
              "4  [Trying, out, a, new, recipe, for, dinner, ton...   \n",
              "\n",
              "                                               lower  \\\n",
              "0       [enjoying, a, beautiful, day, at, the, park]   \n",
              "1            [traffic, was, terrible, this, morning]   \n",
              "2             [just, finished, an, amazing, workout]   \n",
              "3  [excited, about, the, upcoming, weekend, getaway]   \n",
              "4  [trying, out, a, new, recipe, for, dinner, ton...   \n",
              "\n",
              "                        stopwords_removed  \\\n",
              "0        [enjoying, beautiful, day, park]   \n",
              "1            [traffic, terrible, morning]   \n",
              "2            [finished, amazing, workout]   \n",
              "3   [excited, upcoming, weekend, getaway]   \n",
              "4  [trying, new, recipe, dinner, tonight]   \n",
              "\n",
              "                                            pos_tags  \\\n",
              "0  [(enjoying, VBG), (beautiful, JJ), (day, NN), ...   \n",
              "1     [(traffic, NN), (terrible, JJ), (morning, NN)]   \n",
              "2   [(finished, VBN), (amazing, VBG), (workout, NN)]   \n",
              "3  [(excited, JJ), (upcoming, JJ), (weekend, NN),...   \n",
              "4  [(trying, VBG), (new, JJ), (recipe, NN), (dinn...   \n",
              "\n",
              "                                         wordnet_pos  \\\n",
              "0  [(enjoying, v), (beautiful, n), (day, n), (par...   \n",
              "1        [(traffic, n), (terrible, n), (morning, n)]   \n",
              "2        [(finished, v), (amazing, v), (workout, n)]   \n",
              "3  [(excited, n), (upcoming, n), (weekend, n), (g...   \n",
              "4  [(trying, v), (new, n), (recipe, n), (dinner, ...   \n",
              "\n",
              "                              lemmatized                         lemma_str  \n",
              "0          [enjoy, beautiful, day, park]          enjoy beautiful day park  \n",
              "1           [traffic, terrible, morning]          traffic terrible morning  \n",
              "2               [finish, amaze, workout]              finish amaze workout  \n",
              "3  [excited, upcoming, weekend, getaway]  excited upcoming weekend getaway  \n",
              "4    [try, new, recipe, dinner, tonight]     try new recipe dinner tonight  "
            ],
            "text/html": [
              "\n",
              "  <div id=\"df-696181ce-6d8f-4197-8c26-b30066ff029a\" class=\"colab-df-container\">\n",
              "    <div>\n",
              "<style scoped>\n",
              "    .dataframe tbody tr th:only-of-type {\n",
              "        vertical-align: middle;\n",
              "    }\n",
              "\n",
              "    .dataframe tbody tr th {\n",
              "        vertical-align: top;\n",
              "    }\n",
              "\n",
              "    .dataframe thead th {\n",
              "        text-align: right;\n",
              "    }\n",
              "</style>\n",
              "<table border=\"1\" class=\"dataframe\">\n",
              "  <thead>\n",
              "    <tr style=\"text-align: right;\">\n",
              "      <th></th>\n",
              "      <th>Sno.</th>\n",
              "      <th>Text</th>\n",
              "      <th>Sentiment</th>\n",
              "      <th>Timestamp</th>\n",
              "      <th>User</th>\n",
              "      <th>Platform</th>\n",
              "      <th>Sentiment_decoded</th>\n",
              "      <th>mod_text</th>\n",
              "      <th>tokenized</th>\n",
              "      <th>lower</th>\n",
              "      <th>stopwords_removed</th>\n",
              "      <th>pos_tags</th>\n",
              "      <th>wordnet_pos</th>\n",
              "      <th>lemmatized</th>\n",
              "      <th>lemma_str</th>\n",
              "    </tr>\n",
              "  </thead>\n",
              "  <tbody>\n",
              "    <tr>\n",
              "      <th>0</th>\n",
              "      <td>1</td>\n",
              "      <td>Enjoying a beautiful day at the park!        ...</td>\n",
              "      <td>0</td>\n",
              "      <td>1/15/2023 12:30</td>\n",
              "      <td>User123</td>\n",
              "      <td>Twitter</td>\n",
              "      <td>POSITIVE</td>\n",
              "      <td>Enjoying a beautiful day at the park         ...</td>\n",
              "      <td>[Enjoying, a, beautiful, day, at, the, park]</td>\n",
              "      <td>[enjoying, a, beautiful, day, at, the, park]</td>\n",
              "      <td>[enjoying, beautiful, day, park]</td>\n",
              "      <td>[(enjoying, VBG), (beautiful, JJ), (day, NN), ...</td>\n",
              "      <td>[(enjoying, v), (beautiful, n), (day, n), (par...</td>\n",
              "      <td>[enjoy, beautiful, day, park]</td>\n",
              "      <td>enjoy beautiful day park</td>\n",
              "    </tr>\n",
              "    <tr>\n",
              "      <th>1</th>\n",
              "      <td>2</td>\n",
              "      <td>Traffic was terrible this morning.           ...</td>\n",
              "      <td>1</td>\n",
              "      <td>1/15/2023 8:45</td>\n",
              "      <td>CommuterX</td>\n",
              "      <td>Twitter</td>\n",
              "      <td>NEGATIVE</td>\n",
              "      <td>Traffic was terrible this morning            ...</td>\n",
              "      <td>[Traffic, was, terrible, this, morning]</td>\n",
              "      <td>[traffic, was, terrible, this, morning]</td>\n",
              "      <td>[traffic, terrible, morning]</td>\n",
              "      <td>[(traffic, NN), (terrible, JJ), (morning, NN)]</td>\n",
              "      <td>[(traffic, n), (terrible, n), (morning, n)]</td>\n",
              "      <td>[traffic, terrible, morning]</td>\n",
              "      <td>traffic terrible morning</td>\n",
              "    </tr>\n",
              "    <tr>\n",
              "      <th>2</th>\n",
              "      <td>3</td>\n",
              "      <td>Just finished an amazing workout! üí™       ...</td>\n",
              "      <td>0</td>\n",
              "      <td>1/15/2023 15:45</td>\n",
              "      <td>FitnessFan</td>\n",
              "      <td>Instagram</td>\n",
              "      <td>POSITIVE</td>\n",
              "      <td>Just finished an amazing workout</td>\n",
              "      <td>[Just, finished, an, amazing, workout]</td>\n",
              "      <td>[just, finished, an, amazing, workout]</td>\n",
              "      <td>[finished, amazing, workout]</td>\n",
              "      <td>[(finished, VBN), (amazing, VBG), (workout, NN)]</td>\n",
              "      <td>[(finished, v), (amazing, v), (workout, n)]</td>\n",
              "      <td>[finish, amaze, workout]</td>\n",
              "      <td>finish amaze workout</td>\n",
              "    </tr>\n",
              "    <tr>\n",
              "      <th>3</th>\n",
              "      <td>4</td>\n",
              "      <td>Excited about the upcoming weekend getaway!  ...</td>\n",
              "      <td>0</td>\n",
              "      <td>1/15/2023 18:20</td>\n",
              "      <td>AdventureX</td>\n",
              "      <td>Facebook</td>\n",
              "      <td>POSITIVE</td>\n",
              "      <td>Excited about the upcoming weekend getaway   ...</td>\n",
              "      <td>[Excited, about, the, upcoming, weekend, getaway]</td>\n",
              "      <td>[excited, about, the, upcoming, weekend, getaway]</td>\n",
              "      <td>[excited, upcoming, weekend, getaway]</td>\n",
              "      <td>[(excited, JJ), (upcoming, JJ), (weekend, NN),...</td>\n",
              "      <td>[(excited, n), (upcoming, n), (weekend, n), (g...</td>\n",
              "      <td>[excited, upcoming, weekend, getaway]</td>\n",
              "      <td>excited upcoming weekend getaway</td>\n",
              "    </tr>\n",
              "    <tr>\n",
              "      <th>4</th>\n",
              "      <td>5</td>\n",
              "      <td>Trying out a new recipe for dinner tonight.  ...</td>\n",
              "      <td>2</td>\n",
              "      <td>1/15/2023 19:55</td>\n",
              "      <td>ChefCook</td>\n",
              "      <td>Instagram</td>\n",
              "      <td>NEUTRAL</td>\n",
              "      <td>Trying out a new recipe for dinner tonight   ...</td>\n",
              "      <td>[Trying, out, a, new, recipe, for, dinner, ton...</td>\n",
              "      <td>[trying, out, a, new, recipe, for, dinner, ton...</td>\n",
              "      <td>[trying, new, recipe, dinner, tonight]</td>\n",
              "      <td>[(trying, VBG), (new, JJ), (recipe, NN), (dinn...</td>\n",
              "      <td>[(trying, v), (new, n), (recipe, n), (dinner, ...</td>\n",
              "      <td>[try, new, recipe, dinner, tonight]</td>\n",
              "      <td>try new recipe dinner tonight</td>\n",
              "    </tr>\n",
              "  </tbody>\n",
              "</table>\n",
              "</div>\n",
              "    <div class=\"colab-df-buttons\">\n",
              "\n",
              "  <div class=\"colab-df-container\">\n",
              "    <button class=\"colab-df-convert\" onclick=\"convertToInteractive('df-696181ce-6d8f-4197-8c26-b30066ff029a')\"\n",
              "            title=\"Convert this dataframe to an interactive table.\"\n",
              "            style=\"display:none;\">\n",
              "\n",
              "  <svg xmlns=\"http://www.w3.org/2000/svg\" height=\"24px\" viewBox=\"0 -960 960 960\">\n",
              "    <path d=\"M120-120v-720h720v720H120Zm60-500h600v-160H180v160Zm220 220h160v-160H400v160Zm0 220h160v-160H400v160ZM180-400h160v-160H180v160Zm440 0h160v-160H620v160ZM180-180h160v-160H180v160Zm440 0h160v-160H620v160Z\"/>\n",
              "  </svg>\n",
              "    </button>\n",
              "\n",
              "  <style>\n",
              "    .colab-df-container {\n",
              "      display:flex;\n",
              "      gap: 12px;\n",
              "    }\n",
              "\n",
              "    .colab-df-convert {\n",
              "      background-color: #E8F0FE;\n",
              "      border: none;\n",
              "      border-radius: 50%;\n",
              "      cursor: pointer;\n",
              "      display: none;\n",
              "      fill: #1967D2;\n",
              "      height: 32px;\n",
              "      padding: 0 0 0 0;\n",
              "      width: 32px;\n",
              "    }\n",
              "\n",
              "    .colab-df-convert:hover {\n",
              "      background-color: #E2EBFA;\n",
              "      box-shadow: 0px 1px 2px rgba(60, 64, 67, 0.3), 0px 1px 3px 1px rgba(60, 64, 67, 0.15);\n",
              "      fill: #174EA6;\n",
              "    }\n",
              "\n",
              "    .colab-df-buttons div {\n",
              "      margin-bottom: 4px;\n",
              "    }\n",
              "\n",
              "    [theme=dark] .colab-df-convert {\n",
              "      background-color: #3B4455;\n",
              "      fill: #D2E3FC;\n",
              "    }\n",
              "\n",
              "    [theme=dark] .colab-df-convert:hover {\n",
              "      background-color: #434B5C;\n",
              "      box-shadow: 0px 1px 3px 1px rgba(0, 0, 0, 0.15);\n",
              "      filter: drop-shadow(0px 1px 2px rgba(0, 0, 0, 0.3));\n",
              "      fill: #FFFFFF;\n",
              "    }\n",
              "  </style>\n",
              "\n",
              "    <script>\n",
              "      const buttonEl =\n",
              "        document.querySelector('#df-696181ce-6d8f-4197-8c26-b30066ff029a button.colab-df-convert');\n",
              "      buttonEl.style.display =\n",
              "        google.colab.kernel.accessAllowed ? 'block' : 'none';\n",
              "\n",
              "      async function convertToInteractive(key) {\n",
              "        const element = document.querySelector('#df-696181ce-6d8f-4197-8c26-b30066ff029a');\n",
              "        const dataTable =\n",
              "          await google.colab.kernel.invokeFunction('convertToInteractive',\n",
              "                                                    [key], {});\n",
              "        if (!dataTable) return;\n",
              "\n",
              "        const docLinkHtml = 'Like what you see? Visit the ' +\n",
              "          '<a target=\"_blank\" href=https://colab.research.google.com/notebooks/data_table.ipynb>data table notebook</a>'\n",
              "          + ' to learn more about interactive tables.';\n",
              "        element.innerHTML = '';\n",
              "        dataTable['output_type'] = 'display_data';\n",
              "        await google.colab.output.renderOutput(dataTable, element);\n",
              "        const docLink = document.createElement('div');\n",
              "        docLink.innerHTML = docLinkHtml;\n",
              "        element.appendChild(docLink);\n",
              "      }\n",
              "    </script>\n",
              "  </div>\n",
              "\n",
              "\n",
              "<div id=\"df-55ebb0f8-7ed7-4c8b-9b2f-0be82e8d225b\">\n",
              "  <button class=\"colab-df-quickchart\" onclick=\"quickchart('df-55ebb0f8-7ed7-4c8b-9b2f-0be82e8d225b')\"\n",
              "            title=\"Suggest charts\"\n",
              "            style=\"display:none;\">\n",
              "\n",
              "<svg xmlns=\"http://www.w3.org/2000/svg\" height=\"24px\"viewBox=\"0 0 24 24\"\n",
              "     width=\"24px\">\n",
              "    <g>\n",
              "        <path d=\"M19 3H5c-1.1 0-2 .9-2 2v14c0 1.1.9 2 2 2h14c1.1 0 2-.9 2-2V5c0-1.1-.9-2-2-2zM9 17H7v-7h2v7zm4 0h-2V7h2v10zm4 0h-2v-4h2v4z\"/>\n",
              "    </g>\n",
              "</svg>\n",
              "  </button>\n",
              "\n",
              "<style>\n",
              "  .colab-df-quickchart {\n",
              "      --bg-color: #E8F0FE;\n",
              "      --fill-color: #1967D2;\n",
              "      --hover-bg-color: #E2EBFA;\n",
              "      --hover-fill-color: #174EA6;\n",
              "      --disabled-fill-color: #AAA;\n",
              "      --disabled-bg-color: #DDD;\n",
              "  }\n",
              "\n",
              "  [theme=dark] .colab-df-quickchart {\n",
              "      --bg-color: #3B4455;\n",
              "      --fill-color: #D2E3FC;\n",
              "      --hover-bg-color: #434B5C;\n",
              "      --hover-fill-color: #FFFFFF;\n",
              "      --disabled-bg-color: #3B4455;\n",
              "      --disabled-fill-color: #666;\n",
              "  }\n",
              "\n",
              "  .colab-df-quickchart {\n",
              "    background-color: var(--bg-color);\n",
              "    border: none;\n",
              "    border-radius: 50%;\n",
              "    cursor: pointer;\n",
              "    display: none;\n",
              "    fill: var(--fill-color);\n",
              "    height: 32px;\n",
              "    padding: 0;\n",
              "    width: 32px;\n",
              "  }\n",
              "\n",
              "  .colab-df-quickchart:hover {\n",
              "    background-color: var(--hover-bg-color);\n",
              "    box-shadow: 0 1px 2px rgba(60, 64, 67, 0.3), 0 1px 3px 1px rgba(60, 64, 67, 0.15);\n",
              "    fill: var(--button-hover-fill-color);\n",
              "  }\n",
              "\n",
              "  .colab-df-quickchart-complete:disabled,\n",
              "  .colab-df-quickchart-complete:disabled:hover {\n",
              "    background-color: var(--disabled-bg-color);\n",
              "    fill: var(--disabled-fill-color);\n",
              "    box-shadow: none;\n",
              "  }\n",
              "\n",
              "  .colab-df-spinner {\n",
              "    border: 2px solid var(--fill-color);\n",
              "    border-color: transparent;\n",
              "    border-bottom-color: var(--fill-color);\n",
              "    animation:\n",
              "      spin 1s steps(1) infinite;\n",
              "  }\n",
              "\n",
              "  @keyframes spin {\n",
              "    0% {\n",
              "      border-color: transparent;\n",
              "      border-bottom-color: var(--fill-color);\n",
              "      border-left-color: var(--fill-color);\n",
              "    }\n",
              "    20% {\n",
              "      border-color: transparent;\n",
              "      border-left-color: var(--fill-color);\n",
              "      border-top-color: var(--fill-color);\n",
              "    }\n",
              "    30% {\n",
              "      border-color: transparent;\n",
              "      border-left-color: var(--fill-color);\n",
              "      border-top-color: var(--fill-color);\n",
              "      border-right-color: var(--fill-color);\n",
              "    }\n",
              "    40% {\n",
              "      border-color: transparent;\n",
              "      border-right-color: var(--fill-color);\n",
              "      border-top-color: var(--fill-color);\n",
              "    }\n",
              "    60% {\n",
              "      border-color: transparent;\n",
              "      border-right-color: var(--fill-color);\n",
              "    }\n",
              "    80% {\n",
              "      border-color: transparent;\n",
              "      border-right-color: var(--fill-color);\n",
              "      border-bottom-color: var(--fill-color);\n",
              "    }\n",
              "    90% {\n",
              "      border-color: transparent;\n",
              "      border-bottom-color: var(--fill-color);\n",
              "    }\n",
              "  }\n",
              "</style>\n",
              "\n",
              "  <script>\n",
              "    async function quickchart(key) {\n",
              "      const quickchartButtonEl =\n",
              "        document.querySelector('#' + key + ' button');\n",
              "      quickchartButtonEl.disabled = true;  // To prevent multiple clicks.\n",
              "      quickchartButtonEl.classList.add('colab-df-spinner');\n",
              "      try {\n",
              "        const charts = await google.colab.kernel.invokeFunction(\n",
              "            'suggestCharts', [key], {});\n",
              "      } catch (error) {\n",
              "        console.error('Error during call to suggestCharts:', error);\n",
              "      }\n",
              "      quickchartButtonEl.classList.remove('colab-df-spinner');\n",
              "      quickchartButtonEl.classList.add('colab-df-quickchart-complete');\n",
              "    }\n",
              "    (() => {\n",
              "      let quickchartButtonEl =\n",
              "        document.querySelector('#df-55ebb0f8-7ed7-4c8b-9b2f-0be82e8d225b button');\n",
              "      quickchartButtonEl.style.display =\n",
              "        google.colab.kernel.accessAllowed ? 'block' : 'none';\n",
              "    })();\n",
              "  </script>\n",
              "</div>\n",
              "\n",
              "    </div>\n",
              "  </div>\n"
            ],
            "application/vnd.google.colaboratory.intrinsic+json": {
              "type": "dataframe",
              "variable_name": "df",
              "summary": "{\n  \"name\": \"df\",\n  \"rows\": 747,\n  \"fields\": [\n    {\n      \"column\": \"Sno.\",\n      \"properties\": {\n        \"dtype\": \"number\",\n        \"std\": 215,\n        \"min\": 1,\n        \"max\": 747,\n        \"num_unique_values\": 747,\n        \"samples\": [\n          209,\n          260,\n          98\n        ],\n        \"semantic_type\": \"\",\n        \"description\": \"\"\n      }\n    },\n    {\n      \"column\": \"Text\",\n      \"properties\": {\n        \"dtype\": \"string\",\n        \"num_unique_values\": 730,\n        \"samples\": [\n          \"Mastered the art of creating paper airplanes during lecture. Paper planes: Soaring to new heights! \",\n          \" Wrestling with thoughts, a perplexed mind lost in the labyrinth of life's complexities. \",\n          \"Imbued with gratitude for the simple pleasure of a warm cup of tea. \"\n        ],\n        \"semantic_type\": \"\",\n        \"description\": \"\"\n      }\n    },\n    {\n      \"column\": \"Sentiment\",\n      \"properties\": {\n        \"dtype\": \"number\",\n        \"std\": 0,\n        \"min\": 0,\n        \"max\": 2,\n        \"num_unique_values\": 3,\n        \"samples\": [\n          0,\n          1,\n          2\n        ],\n        \"semantic_type\": \"\",\n        \"description\": \"\"\n      }\n    },\n    {\n      \"column\": \"Timestamp\",\n      \"properties\": {\n        \"dtype\": \"object\",\n        \"num_unique_values\": 693,\n        \"samples\": [\n          \"9/10/2017 20:15\",\n          \"2/21/2023 19:30\",\n          \"7/2/2016 23:30\"\n        ],\n        \"semantic_type\": \"\",\n        \"description\": \"\"\n      }\n    },\n    {\n      \"column\": \"User\",\n      \"properties\": {\n        \"dtype\": \"string\",\n        \"num_unique_values\": 677,\n        \"samples\": [\n          \"MiseryMaze  \",\n          \" StormSeeker \",\n          \" MovieBuff2      \"\n        ],\n        \"semantic_type\": \"\",\n        \"description\": \"\"\n      }\n    },\n    {\n      \"column\": \"Platform\",\n      \"properties\": {\n        \"dtype\": \"category\",\n        \"num_unique_values\": 3,\n        \"samples\": [\n          \"Twitter \",\n          \"Instagram \",\n          \"Facebook \"\n        ],\n        \"semantic_type\": \"\",\n        \"description\": \"\"\n      }\n    },\n    {\n      \"column\": \"Sentiment_decoded\",\n      \"properties\": {\n        \"dtype\": \"category\",\n        \"num_unique_values\": 3,\n        \"samples\": [\n          \"POSITIVE\",\n          \"NEGATIVE\",\n          \"NEUTRAL\"\n        ],\n        \"semantic_type\": \"\",\n        \"description\": \"\"\n      }\n    },\n    {\n      \"column\": \"mod_text\",\n      \"properties\": {\n        \"dtype\": \"string\",\n        \"num_unique_values\": 730,\n        \"samples\": [\n          \"Mastered the art of creating paper airplanes during lecture Paper planes Soaring to new heights \",\n          \" Wrestling with thoughts a perplexed mind lost in the labyrinth of lifes complexities \",\n          \"Imbued with gratitude for the simple pleasure of a warm cup of tea \"\n        ],\n        \"semantic_type\": \"\",\n        \"description\": \"\"\n      }\n    },\n    {\n      \"column\": \"tokenized\",\n      \"properties\": {\n        \"dtype\": \"object\",\n        \"semantic_type\": \"\",\n        \"description\": \"\"\n      }\n    },\n    {\n      \"column\": \"lower\",\n      \"properties\": {\n        \"dtype\": \"object\",\n        \"semantic_type\": \"\",\n        \"description\": \"\"\n      }\n    },\n    {\n      \"column\": \"stopwords_removed\",\n      \"properties\": {\n        \"dtype\": \"object\",\n        \"semantic_type\": \"\",\n        \"description\": \"\"\n      }\n    },\n    {\n      \"column\": \"pos_tags\",\n      \"properties\": {\n        \"dtype\": \"object\",\n        \"semantic_type\": \"\",\n        \"description\": \"\"\n      }\n    },\n    {\n      \"column\": \"wordnet_pos\",\n      \"properties\": {\n        \"dtype\": \"object\",\n        \"semantic_type\": \"\",\n        \"description\": \"\"\n      }\n    },\n    {\n      \"column\": \"lemmatized\",\n      \"properties\": {\n        \"dtype\": \"object\",\n        \"semantic_type\": \"\",\n        \"description\": \"\"\n      }\n    },\n    {\n      \"column\": \"lemma_str\",\n      \"properties\": {\n        \"dtype\": \"string\",\n        \"num_unique_values\": 725,\n        \"samples\": [\n          \"labyrinth grief wall echo footstep lose joy\",\n          \"participate science fair showcase unique experiment share knowledge peer\",\n          \"peaceful perspective\"\n        ],\n        \"semantic_type\": \"\",\n        \"description\": \"\"\n      }\n    }\n  ]\n}"
            }
          },
          "metadata": {},
          "execution_count": 23
        }
      ]
    },
    {
      "cell_type": "code",
      "source": [
        "df_mod = df[[\"lemma_str\", \"Sentiment\"]]\n",
        "df_mod.head()"
      ],
      "metadata": {
        "colab": {
          "base_uri": "https://localhost:8080/",
          "height": 206
        },
        "id": "Mw9mfPhvJm4j",
        "outputId": "c6b78034-2d4e-4cef-d182-6597248a8afe"
      },
      "execution_count": 24,
      "outputs": [
        {
          "output_type": "execute_result",
          "data": {
            "text/plain": [
              "                          lemma_str  Sentiment\n",
              "0          enjoy beautiful day park          0\n",
              "1          traffic terrible morning          1\n",
              "2              finish amaze workout          0\n",
              "3  excited upcoming weekend getaway          0\n",
              "4     try new recipe dinner tonight          2"
            ],
            "text/html": [
              "\n",
              "  <div id=\"df-1af49f23-c241-4807-a1a4-a02dec884764\" class=\"colab-df-container\">\n",
              "    <div>\n",
              "<style scoped>\n",
              "    .dataframe tbody tr th:only-of-type {\n",
              "        vertical-align: middle;\n",
              "    }\n",
              "\n",
              "    .dataframe tbody tr th {\n",
              "        vertical-align: top;\n",
              "    }\n",
              "\n",
              "    .dataframe thead th {\n",
              "        text-align: right;\n",
              "    }\n",
              "</style>\n",
              "<table border=\"1\" class=\"dataframe\">\n",
              "  <thead>\n",
              "    <tr style=\"text-align: right;\">\n",
              "      <th></th>\n",
              "      <th>lemma_str</th>\n",
              "      <th>Sentiment</th>\n",
              "    </tr>\n",
              "  </thead>\n",
              "  <tbody>\n",
              "    <tr>\n",
              "      <th>0</th>\n",
              "      <td>enjoy beautiful day park</td>\n",
              "      <td>0</td>\n",
              "    </tr>\n",
              "    <tr>\n",
              "      <th>1</th>\n",
              "      <td>traffic terrible morning</td>\n",
              "      <td>1</td>\n",
              "    </tr>\n",
              "    <tr>\n",
              "      <th>2</th>\n",
              "      <td>finish amaze workout</td>\n",
              "      <td>0</td>\n",
              "    </tr>\n",
              "    <tr>\n",
              "      <th>3</th>\n",
              "      <td>excited upcoming weekend getaway</td>\n",
              "      <td>0</td>\n",
              "    </tr>\n",
              "    <tr>\n",
              "      <th>4</th>\n",
              "      <td>try new recipe dinner tonight</td>\n",
              "      <td>2</td>\n",
              "    </tr>\n",
              "  </tbody>\n",
              "</table>\n",
              "</div>\n",
              "    <div class=\"colab-df-buttons\">\n",
              "\n",
              "  <div class=\"colab-df-container\">\n",
              "    <button class=\"colab-df-convert\" onclick=\"convertToInteractive('df-1af49f23-c241-4807-a1a4-a02dec884764')\"\n",
              "            title=\"Convert this dataframe to an interactive table.\"\n",
              "            style=\"display:none;\">\n",
              "\n",
              "  <svg xmlns=\"http://www.w3.org/2000/svg\" height=\"24px\" viewBox=\"0 -960 960 960\">\n",
              "    <path d=\"M120-120v-720h720v720H120Zm60-500h600v-160H180v160Zm220 220h160v-160H400v160Zm0 220h160v-160H400v160ZM180-400h160v-160H180v160Zm440 0h160v-160H620v160ZM180-180h160v-160H180v160Zm440 0h160v-160H620v160Z\"/>\n",
              "  </svg>\n",
              "    </button>\n",
              "\n",
              "  <style>\n",
              "    .colab-df-container {\n",
              "      display:flex;\n",
              "      gap: 12px;\n",
              "    }\n",
              "\n",
              "    .colab-df-convert {\n",
              "      background-color: #E8F0FE;\n",
              "      border: none;\n",
              "      border-radius: 50%;\n",
              "      cursor: pointer;\n",
              "      display: none;\n",
              "      fill: #1967D2;\n",
              "      height: 32px;\n",
              "      padding: 0 0 0 0;\n",
              "      width: 32px;\n",
              "    }\n",
              "\n",
              "    .colab-df-convert:hover {\n",
              "      background-color: #E2EBFA;\n",
              "      box-shadow: 0px 1px 2px rgba(60, 64, 67, 0.3), 0px 1px 3px 1px rgba(60, 64, 67, 0.15);\n",
              "      fill: #174EA6;\n",
              "    }\n",
              "\n",
              "    .colab-df-buttons div {\n",
              "      margin-bottom: 4px;\n",
              "    }\n",
              "\n",
              "    [theme=dark] .colab-df-convert {\n",
              "      background-color: #3B4455;\n",
              "      fill: #D2E3FC;\n",
              "    }\n",
              "\n",
              "    [theme=dark] .colab-df-convert:hover {\n",
              "      background-color: #434B5C;\n",
              "      box-shadow: 0px 1px 3px 1px rgba(0, 0, 0, 0.15);\n",
              "      filter: drop-shadow(0px 1px 2px rgba(0, 0, 0, 0.3));\n",
              "      fill: #FFFFFF;\n",
              "    }\n",
              "  </style>\n",
              "\n",
              "    <script>\n",
              "      const buttonEl =\n",
              "        document.querySelector('#df-1af49f23-c241-4807-a1a4-a02dec884764 button.colab-df-convert');\n",
              "      buttonEl.style.display =\n",
              "        google.colab.kernel.accessAllowed ? 'block' : 'none';\n",
              "\n",
              "      async function convertToInteractive(key) {\n",
              "        const element = document.querySelector('#df-1af49f23-c241-4807-a1a4-a02dec884764');\n",
              "        const dataTable =\n",
              "          await google.colab.kernel.invokeFunction('convertToInteractive',\n",
              "                                                    [key], {});\n",
              "        if (!dataTable) return;\n",
              "\n",
              "        const docLinkHtml = 'Like what you see? Visit the ' +\n",
              "          '<a target=\"_blank\" href=https://colab.research.google.com/notebooks/data_table.ipynb>data table notebook</a>'\n",
              "          + ' to learn more about interactive tables.';\n",
              "        element.innerHTML = '';\n",
              "        dataTable['output_type'] = 'display_data';\n",
              "        await google.colab.output.renderOutput(dataTable, element);\n",
              "        const docLink = document.createElement('div');\n",
              "        docLink.innerHTML = docLinkHtml;\n",
              "        element.appendChild(docLink);\n",
              "      }\n",
              "    </script>\n",
              "  </div>\n",
              "\n",
              "\n",
              "<div id=\"df-9f503ac5-578d-406d-9172-90eb13c4c303\">\n",
              "  <button class=\"colab-df-quickchart\" onclick=\"quickchart('df-9f503ac5-578d-406d-9172-90eb13c4c303')\"\n",
              "            title=\"Suggest charts\"\n",
              "            style=\"display:none;\">\n",
              "\n",
              "<svg xmlns=\"http://www.w3.org/2000/svg\" height=\"24px\"viewBox=\"0 0 24 24\"\n",
              "     width=\"24px\">\n",
              "    <g>\n",
              "        <path d=\"M19 3H5c-1.1 0-2 .9-2 2v14c0 1.1.9 2 2 2h14c1.1 0 2-.9 2-2V5c0-1.1-.9-2-2-2zM9 17H7v-7h2v7zm4 0h-2V7h2v10zm4 0h-2v-4h2v4z\"/>\n",
              "    </g>\n",
              "</svg>\n",
              "  </button>\n",
              "\n",
              "<style>\n",
              "  .colab-df-quickchart {\n",
              "      --bg-color: #E8F0FE;\n",
              "      --fill-color: #1967D2;\n",
              "      --hover-bg-color: #E2EBFA;\n",
              "      --hover-fill-color: #174EA6;\n",
              "      --disabled-fill-color: #AAA;\n",
              "      --disabled-bg-color: #DDD;\n",
              "  }\n",
              "\n",
              "  [theme=dark] .colab-df-quickchart {\n",
              "      --bg-color: #3B4455;\n",
              "      --fill-color: #D2E3FC;\n",
              "      --hover-bg-color: #434B5C;\n",
              "      --hover-fill-color: #FFFFFF;\n",
              "      --disabled-bg-color: #3B4455;\n",
              "      --disabled-fill-color: #666;\n",
              "  }\n",
              "\n",
              "  .colab-df-quickchart {\n",
              "    background-color: var(--bg-color);\n",
              "    border: none;\n",
              "    border-radius: 50%;\n",
              "    cursor: pointer;\n",
              "    display: none;\n",
              "    fill: var(--fill-color);\n",
              "    height: 32px;\n",
              "    padding: 0;\n",
              "    width: 32px;\n",
              "  }\n",
              "\n",
              "  .colab-df-quickchart:hover {\n",
              "    background-color: var(--hover-bg-color);\n",
              "    box-shadow: 0 1px 2px rgba(60, 64, 67, 0.3), 0 1px 3px 1px rgba(60, 64, 67, 0.15);\n",
              "    fill: var(--button-hover-fill-color);\n",
              "  }\n",
              "\n",
              "  .colab-df-quickchart-complete:disabled,\n",
              "  .colab-df-quickchart-complete:disabled:hover {\n",
              "    background-color: var(--disabled-bg-color);\n",
              "    fill: var(--disabled-fill-color);\n",
              "    box-shadow: none;\n",
              "  }\n",
              "\n",
              "  .colab-df-spinner {\n",
              "    border: 2px solid var(--fill-color);\n",
              "    border-color: transparent;\n",
              "    border-bottom-color: var(--fill-color);\n",
              "    animation:\n",
              "      spin 1s steps(1) infinite;\n",
              "  }\n",
              "\n",
              "  @keyframes spin {\n",
              "    0% {\n",
              "      border-color: transparent;\n",
              "      border-bottom-color: var(--fill-color);\n",
              "      border-left-color: var(--fill-color);\n",
              "    }\n",
              "    20% {\n",
              "      border-color: transparent;\n",
              "      border-left-color: var(--fill-color);\n",
              "      border-top-color: var(--fill-color);\n",
              "    }\n",
              "    30% {\n",
              "      border-color: transparent;\n",
              "      border-left-color: var(--fill-color);\n",
              "      border-top-color: var(--fill-color);\n",
              "      border-right-color: var(--fill-color);\n",
              "    }\n",
              "    40% {\n",
              "      border-color: transparent;\n",
              "      border-right-color: var(--fill-color);\n",
              "      border-top-color: var(--fill-color);\n",
              "    }\n",
              "    60% {\n",
              "      border-color: transparent;\n",
              "      border-right-color: var(--fill-color);\n",
              "    }\n",
              "    80% {\n",
              "      border-color: transparent;\n",
              "      border-right-color: var(--fill-color);\n",
              "      border-bottom-color: var(--fill-color);\n",
              "    }\n",
              "    90% {\n",
              "      border-color: transparent;\n",
              "      border-bottom-color: var(--fill-color);\n",
              "    }\n",
              "  }\n",
              "</style>\n",
              "\n",
              "  <script>\n",
              "    async function quickchart(key) {\n",
              "      const quickchartButtonEl =\n",
              "        document.querySelector('#' + key + ' button');\n",
              "      quickchartButtonEl.disabled = true;  // To prevent multiple clicks.\n",
              "      quickchartButtonEl.classList.add('colab-df-spinner');\n",
              "      try {\n",
              "        const charts = await google.colab.kernel.invokeFunction(\n",
              "            'suggestCharts', [key], {});\n",
              "      } catch (error) {\n",
              "        console.error('Error during call to suggestCharts:', error);\n",
              "      }\n",
              "      quickchartButtonEl.classList.remove('colab-df-spinner');\n",
              "      quickchartButtonEl.classList.add('colab-df-quickchart-complete');\n",
              "    }\n",
              "    (() => {\n",
              "      let quickchartButtonEl =\n",
              "        document.querySelector('#df-9f503ac5-578d-406d-9172-90eb13c4c303 button');\n",
              "      quickchartButtonEl.style.display =\n",
              "        google.colab.kernel.accessAllowed ? 'block' : 'none';\n",
              "    })();\n",
              "  </script>\n",
              "</div>\n",
              "\n",
              "    </div>\n",
              "  </div>\n"
            ],
            "application/vnd.google.colaboratory.intrinsic+json": {
              "type": "dataframe",
              "variable_name": "df_mod",
              "summary": "{\n  \"name\": \"df_mod\",\n  \"rows\": 747,\n  \"fields\": [\n    {\n      \"column\": \"lemma_str\",\n      \"properties\": {\n        \"dtype\": \"string\",\n        \"num_unique_values\": 725,\n        \"samples\": [\n          \"labyrinth grief wall echo footstep lose joy\",\n          \"participate science fair showcase unique experiment share knowledge peer\",\n          \"peaceful perspective\"\n        ],\n        \"semantic_type\": \"\",\n        \"description\": \"\"\n      }\n    },\n    {\n      \"column\": \"Sentiment\",\n      \"properties\": {\n        \"dtype\": \"number\",\n        \"std\": 0,\n        \"min\": 0,\n        \"max\": 2,\n        \"num_unique_values\": 3,\n        \"samples\": [\n          0,\n          1,\n          2\n        ],\n        \"semantic_type\": \"\",\n        \"description\": \"\"\n      }\n    }\n  ]\n}"
            }
          },
          "metadata": {},
          "execution_count": 24
        }
      ]
    },
    {
      "cell_type": "markdown",
      "source": [
        "Step - 2.5 : Train-Test Split"
      ],
      "metadata": {
        "id": "pJwSv7g0J0wk"
      }
    },
    {
      "cell_type": "code",
      "source": [
        "TEST_SIZE = 0.2\n",
        "\n",
        "df_train, df_test = train_test_split(df_mod, test_size=TEST_SIZE, random_state=42)\n",
        "\n",
        "print(\"TRAIN size:\", len(df_train))\n",
        "print(\"TEST size:\", len(df_test))"
      ],
      "metadata": {
        "colab": {
          "base_uri": "https://localhost:8080/"
        },
        "id": "tIvdN3T0J10L",
        "outputId": "6eb934fe-1c2a-4a25-ee11-ae1a7497d38a"
      },
      "execution_count": 25,
      "outputs": [
        {
          "output_type": "stream",
          "name": "stdout",
          "text": [
            "TRAIN size: 597\n",
            "TEST size: 150\n"
          ]
        }
      ]
    },
    {
      "cell_type": "markdown",
      "source": [
        "**STEP - 3 : Word Cloud Analysis**"
      ],
      "metadata": {
        "id": "gMZB7JdCKNji"
      }
    },
    {
      "cell_type": "code",
      "source": [
        "def plot_wordcloud(text, mask, title, title_size, figure_size=(24.0, 16.0), image_color=False):\n",
        "    \"\"\" A function for creating wordcloud images \"\"\"\n",
        "    words = text\n",
        "    allwords = []\n",
        "    for wordlist in words:\n",
        "        allwords += wordlist\n",
        "    mostcommon = FreqDist(allwords).most_common(140)\n",
        "    wordcloud = WordCloud(\n",
        "                    background_color='white',\n",
        "                    stopwords=stop_words,\n",
        "                    max_words=140,\n",
        "                    max_font_size=120,\n",
        "                    random_state=42,\n",
        "                    mask=mask,\n",
        "                    collocations=False\n",
        "    ).generate_from_frequencies(dict(mostcommon))\n",
        "\n",
        "    plt.figure(figsize=figure_size)\n",
        "    if image_color:\n",
        "        image_colors = ImageColorGenerator(mask)\n",
        "        plt.imshow(wordcloud.recolor(color_func=image_colors), interpolation=\"bilinear\")\n",
        "    else:\n",
        "        plt.imshow(wordcloud)\n",
        "    plt.title(title, fontdict={'size': title_size, 'color': 'green', 'verticalalignment': 'bottom'})\n",
        "    plt.axis('off')\n",
        "    plt.tight_layout()\n",
        "    plt.show()\n",
        "\n",
        "plot_wordcloud(df['lemmatized'], None, 'Most Common Words', title_size=30)"
      ],
      "metadata": {
        "colab": {
          "base_uri": "https://localhost:8080/",
          "height": 708
        },
        "id": "U5-X0K0VK2GS",
        "outputId": "dc965207-c427-4295-fdde-8ecbaaa88f5e"
      },
      "execution_count": 26,
      "outputs": [
        {
          "output_type": "display_data",
          "data": {
            "text/plain": [
              "<Figure size 2400x1600 with 1 Axes>"
            ],
            "image/png": "[encoded data removed]"
          },
          "metadata": {}
        }
      ]
    },
    {
      "cell_type": "markdown",
      "source": [
        "The above code generates a word cloud visualization based on the lemmatized text data in the dataset. Word clouds are useful for visually representing the most frequent words in a corpus of text"
      ],
      "metadata": {
        "id": "x2Z_VCAmLq1K"
      }
    },
    {
      "cell_type": "markdown",
      "source": [
        "The word cloud analysis provides a simple yet effective way to explore and understand the textual content of the dataset."
      ],
      "metadata": {
        "id": "zXx3wy9AL0vS"
      }
    },
    {
      "cell_type": "markdown",
      "source": [
        "This step visually represents the most common words in the lemmatized text data. It provides an intuitive understanding of the prominent words in the dataset."
      ],
      "metadata": {
        "id": "pnLOkVfmjLCg"
      }
    },
    {
      "cell_type": "markdown",
      "source": [
        "**STEP - 4 : Word2Vec Analysis**"
      ],
      "metadata": {
        "id": "xG3XGGjjL43W"
      }
    },
    {
      "cell_type": "markdown",
      "source": [
        "Step - 4.1 : Corpus Creation"
      ],
      "metadata": {
        "id": "1DR7c_sLMJS4"
      }
    },
    {
      "cell_type": "code",
      "source": [
        "%%time\n",
        "corpus = df['lemmatized'].tolist()"
      ],
      "metadata": {
        "colab": {
          "base_uri": "https://localhost:8080/"
        },
        "id": "JOjJ27vBLx58",
        "outputId": "ace57c7c-00bb-48ec-d17f-980872672542"
      },
      "execution_count": 27,
      "outputs": [
        {
          "output_type": "stream",
          "name": "stdout",
          "text": [
            "CPU times: user 75 µs, sys: 11 µs, total: 86 µs\n",
            "Wall time: 89.2 µs\n"
          ]
        }
      ]
    },
    {
      "cell_type": "markdown",
      "source": [
        "Step - 4.2 : Word2Vec Model Creation"
      ],
      "metadata": {
        "id": "CSaom-NyMcH0"
      }
    },
    {
      "cell_type": "code",
      "source": [
        "W2V_SIZE = 300  # Dimensionality of the word vectors\n",
        "W2V_WINDOW = 5   # Context window size\n",
        "W2V_MIN_COUNT = 1  # Minimum frequency count of words\n",
        "\n",
        "w2v_model = gensim.models.Word2Vec(corpus, vector_size=W2V_SIZE, window=W2V_WINDOW, min_count=W2V_MIN_COUNT)"
      ],
      "metadata": {
        "id": "kvfNaPWeMly-"
      },
      "execution_count": 28,
      "outputs": []
    },
    {
      "cell_type": "markdown",
      "source": [
        "Step - 4.3 : Vocab Creation"
      ],
      "metadata": {
        "id": "uu7_7qGqMunk"
      }
    },
    {
      "cell_type": "code",
      "source": [
        "w2v_model.build_vocab(corpus)"
      ],
      "metadata": {
        "colab": {
          "base_uri": "https://localhost:8080/"
        },
        "id": "aeTmR133M7-D",
        "outputId": "5957f47c-da9f-403e-84f4-47c38a9ded57"
      },
      "execution_count": 29,
      "outputs": [
        {
          "output_type": "stream",
          "name": "stderr",
          "text": [
            "WARNING:gensim.models.keyedvectors:sorting after vectors have been allocated is expensive & error-prone\n"
          ]
        }
      ]
    },
    {
      "cell_type": "code",
      "source": [
        "words = w2v_model.wv.key_to_index.keys()\n",
        "\n",
        "vocab_size = len(words)\n",
        "print(\"Vocabulary size:\", vocab_size)"
      ],
      "metadata": {
        "colab": {
          "base_uri": "https://localhost:8080/"
        },
        "id": "Jye5iMB6M4s8",
        "outputId": "cd0b1186-5303-4f15-8828-247d4d232b3e"
      },
      "execution_count": 30,
      "outputs": [
        {
          "output_type": "stream",
          "name": "stdout",
          "text": [
            "Vocabulary size: 1870\n"
          ]
        }
      ]
    },
    {
      "cell_type": "markdown",
      "source": [
        "Step - 4.4 : Training Word2Vec Model"
      ],
      "metadata": {
        "id": "eZGFp5sWNBQl"
      }
    },
    {
      "cell_type": "code",
      "source": [
        "w2v_model.train(corpus, total_examples=len(corpus), epochs=W2V_EPOCH)"
      ],
      "metadata": {
        "colab": {
          "base_uri": "https://localhost:8080/"
        },
        "id": "2oSNhNIjNKvh",
        "outputId": "aebf470a-a128-4ae6-d402-a7ca25e64758"
      },
      "execution_count": 31,
      "outputs": [
        {
          "output_type": "stream",
          "name": "stderr",
          "text": [
            "WARNING:gensim.models.word2vec:Effective 'alpha' higher than previous training cycles\n"
          ]
        },
        {
          "output_type": "execute_result",
          "data": {
            "text/plain": [
              "(153645, 160352)"
            ]
          },
          "metadata": {},
          "execution_count": 31
        }
      ]
    },
    {
      "cell_type": "markdown",
      "source": [
        "Step - 4.5 : Word2Vec Model Testing"
      ],
      "metadata": {
        "id": "YJo0srlHNPNB"
      }
    },
    {
      "cell_type": "code",
      "source": [
        "# Find the most similar words to a given word\n",
        "similar_words = w2v_model.wv.most_similar(\"joy\")\n",
        "print(\"Most similar words to 'joy':\\n\", similar_words)"
      ],
      "metadata": {
        "colab": {
          "base_uri": "https://localhost:8080/"
        },
        "id": "SEMQ175hNP3N",
        "outputId": "ac857fc1-a0a3-4138-f274-e7d48a552425"
      },
      "execution_count": 32,
      "outputs": [
        {
          "output_type": "stream",
          "name": "stdout",
          "text": [
            "Most similar words to 'joy':\n",
            " [('like', 0.9998088479042053), ('leave', 0.9997736811637878), ('dance', 0.9997674822807312), ('moment', 0.9997617602348328), ('laughter', 0.9997609853744507), ('friend', 0.9997604489326477), ('life', 0.9997550845146179), ('new', 0.9997522830963135), ('day', 0.9997519850730896), ('challenge', 0.9997493624687195)]\n"
          ]
        }
      ]
    },
    {
      "cell_type": "markdown",
      "source": [
        "Word2Vec model is created to represent words in vector space. The vocabulary size is 1870, and the word vectors have a dimensionality of 300."
      ],
      "metadata": {
        "id": "4nwdTn-pjMIi"
      }
    },
    {
      "cell_type": "markdown",
      "source": [
        "**STEP 5 : Sentiment Analysis using Deep-Learning Model**"
      ],
      "metadata": {
        "id": "m6Pz_GGQNzZo"
      }
    },
    {
      "cell_type": "markdown",
      "source": [
        "# **Long Short-term Memory (LSTM)**"
      ],
      "metadata": {
        "id": "JuLuNcK9lV8e"
      }
    },
    {
      "cell_type": "markdown",
      "source": [
        "Long short-term memory (LSTM) is an artificial recurrent neural network architecture used in the field of deep learning. Unlike standard feedforward neural networks, LSTM has feedback connections. It never keeps the entire data like standard recurrent neural network, lstm keeps short-term memory of data."
      ],
      "metadata": {
        "id": "MrgrdO7cOAvS"
      }
    },
    {
      "cell_type": "markdown",
      "source": [
        "Step - 5.1 : Token and Vocab Creation"
      ],
      "metadata": {
        "id": "Mvtk9gCUOIVN"
      }
    },
    {
      "cell_type": "code",
      "source": [
        "tokenizer = Tokenizer()\n",
        "\n",
        "tokenizer.fit_on_texts(df_train['lemma_str'])\n",
        "\n",
        "vocab_size = len(tokenizer.word_index) + 1\n",
        "print(\"Total words:\", vocab_size)"
      ],
      "metadata": {
        "colab": {
          "base_uri": "https://localhost:8080/"
        },
        "id": "0dXmViCcOIwD",
        "outputId": "1511d583-21ad-4566-cd8a-b5aed0d70c9e"
      },
      "execution_count": 33,
      "outputs": [
        {
          "output_type": "stream",
          "name": "stdout",
          "text": [
            "Total words: 1651\n"
          ]
        }
      ]
    },
    {
      "cell_type": "code",
      "source": [
        "x_train = pad_sequences(tokenizer.texts_to_sequences(df_train['lemma_str']), maxlen=SEQUENCE_LENGTH)\n",
        "x_test = pad_sequences(tokenizer.texts_to_sequences(df_test['lemma_str']), maxlen=SEQUENCE_LENGTH)"
      ],
      "metadata": {
        "id": "BGYfB209OZ45"
      },
      "execution_count": 34,
      "outputs": []
    },
    {
      "cell_type": "markdown",
      "source": [
        "Step - 5.2 : Label Encoding"
      ],
      "metadata": {
        "id": "ngn8jSuBOe9j"
      }
    },
    {
      "cell_type": "code",
      "source": [
        "labels = df_train['Sentiment'].unique().tolist()\n",
        "print(labels)"
      ],
      "metadata": {
        "colab": {
          "base_uri": "https://localhost:8080/"
        },
        "id": "9vtB0A6cOoK7",
        "outputId": "7b39e3a9-6bcb-4d7a-fc81-9c9b2f92b095"
      },
      "execution_count": 35,
      "outputs": [
        {
          "output_type": "stream",
          "name": "stdout",
          "text": [
            "[1, 0, 2]\n"
          ]
        }
      ]
    },
    {
      "cell_type": "markdown",
      "source": [
        "'0' represents Positive sentiments\n",
        "\n",
        "'1' represents Negative sentiments\n",
        "\n",
        "'2' represents Neutral sentiments"
      ],
      "metadata": {
        "id": "MKqKqLyLO0J1"
      }
    },
    {
      "cell_type": "code",
      "source": [
        "encoder = LabelEncoder()\n",
        "\n",
        "encoder.fit(df_train['Sentiment'].tolist())\n",
        "y_train = encoder.transform(df_train['Sentiment'].tolist()).reshape(-1, 1)\n",
        "y_test = encoder.transform(df_test['Sentiment'].tolist()).reshape(-1, 1)\n",
        "\n",
        "print(\"y_train shape:\", y_train.shape)\n",
        "print(\"y_test shape:\", y_test.shape)"
      ],
      "metadata": {
        "colab": {
          "base_uri": "https://localhost:8080/"
        },
        "id": "c6PPC0fePEjO",
        "outputId": "ce6c2694-362a-4030-cfdf-c61435223c6c"
      },
      "execution_count": 36,
      "outputs": [
        {
          "output_type": "stream",
          "name": "stdout",
          "text": [
            "y_train shape: (597, 1)\n",
            "y_test shape: (150, 1)\n"
          ]
        }
      ]
    },
    {
      "cell_type": "code",
      "source": [
        "print(\"x_train\", x_train.shape)\n",
        "print(\"y_train\", y_train.shape)\n",
        "print()\n",
        "print(\"x_test\", x_test.shape)\n",
        "print(\"y_test\", y_test.shape)"
      ],
      "metadata": {
        "colab": {
          "base_uri": "https://localhost:8080/"
        },
        "id": "kw355BLCPa0I",
        "outputId": "ee98bc6b-877b-4a83-c740-1404395b8564"
      },
      "execution_count": 37,
      "outputs": [
        {
          "output_type": "stream",
          "name": "stdout",
          "text": [
            "x_train (597, 300)\n",
            "y_train (597, 1)\n",
            "\n",
            "x_test (150, 300)\n",
            "y_test (150, 1)\n"
          ]
        }
      ]
    },
    {
      "cell_type": "code",
      "source": [
        "y_train[:10]"
      ],
      "metadata": {
        "colab": {
          "base_uri": "https://localhost:8080/"
        },
        "id": "FLlvcb6lPf4F",
        "outputId": "8aca79ae-0e63-4798-a623-6aacbb32f1f6"
      },
      "execution_count": 38,
      "outputs": [
        {
          "output_type": "execute_result",
          "data": {
            "text/plain": [
              "array([[1],\n",
              "       [0],\n",
              "       [1],\n",
              "       [2],\n",
              "       [1],\n",
              "       [0],\n",
              "       [2],\n",
              "       [0],\n",
              "       [2],\n",
              "       [0]])"
            ]
          },
          "metadata": {},
          "execution_count": 38
        }
      ]
    },
    {
      "cell_type": "markdown",
      "source": [
        "Step - 5.3 : Embedding Layer Creation"
      ],
      "metadata": {
        "id": "3i5X064UPjQN"
      }
    },
    {
      "cell_type": "code",
      "source": [
        "embedding_matrix = np.zeros((vocab_size, W2V_SIZE))\n",
        "\n",
        "for word, i in tokenizer.word_index.items():\n",
        "    if word in w2v_model.wv:\n",
        "        embedding_matrix[i] = w2v_model.wv[word]\n",
        "\n",
        "print(\"Shape of embedding matrix:\", embedding_matrix.shape)"
      ],
      "metadata": {
        "colab": {
          "base_uri": "https://localhost:8080/"
        },
        "id": "WhxUYbWdPkcC",
        "outputId": "5f1fce75-c82f-4121-b92a-f10f403e8c3d"
      },
      "execution_count": 39,
      "outputs": [
        {
          "output_type": "stream",
          "name": "stdout",
          "text": [
            "Shape of embedding matrix: (1651, 300)\n"
          ]
        }
      ]
    },
    {
      "cell_type": "code",
      "source": [
        "embedding_layer = Embedding(input_dim=vocab_size,\n",
        "                             output_dim=W2V_SIZE,\n",
        "                             weights=[embedding_matrix],\n",
        "                             input_length=SEQUENCE_LENGTH,\n",
        "                             trainable=False)\n",
        "\n",
        "print(embedding_layer)"
      ],
      "metadata": {
        "colab": {
          "base_uri": "https://localhost:8080/"
        },
        "id": "bYl7YCbtQDUQ",
        "outputId": "acfb8141-e9ff-4b61-9f87-d2ab2ec8e3dd"
      },
      "execution_count": 40,
      "outputs": [
        {
          "output_type": "stream",
          "name": "stdout",
          "text": [
            "<keras.src.layers.core.embedding.Embedding object at 0x7a2e4665f1f0>\n"
          ]
        }
      ]
    },
    {
      "cell_type": "markdown",
      "source": [
        "Step - 5.4 : Model Creation - LSTM"
      ],
      "metadata": {
        "id": "zd0rMYABQToR"
      }
    },
    {
      "cell_type": "code",
      "source": [
        "# Define the LSTM model\n",
        "model = Sequential()\n",
        "model.add(embedding_layer)\n",
        "model.add(Dropout(0.5))\n",
        "model.add(LSTM(100, dropout=0.2, recurrent_dropout=0.2))\n",
        "model.add(Dense(1, activation='sigmoid'))\n",
        "\n",
        "model.summary()"
      ],
      "metadata": {
        "colab": {
          "base_uri": "https://localhost:8080/"
        },
        "id": "TOkpX1DGQUJ2",
        "outputId": "ee8f2b4b-7fe1-4e43-ad8f-a8d351c5cd06"
      },
      "execution_count": 41,
      "outputs": [
        {
          "output_type": "stream",
          "name": "stdout",
          "text": [
            "Model: \"sequential\"\n",
            "_________________________________________________________________\n",
            " Layer (type)                Output Shape              Param #   \n",
            "=================================================================\n",
            " embedding (Embedding)       (None, 300, 300)          495300    \n",
            "                                                                 \n",
            " dropout (Dropout)           (None, 300, 300)          0         \n",
            "                                                                 \n",
            " lstm (LSTM)                 (None, 100)               160400    \n",
            "                                                                 \n",
            " dense (Dense)               (None, 1)                 101       \n",
            "                                                                 \n",
            "=================================================================\n",
            "Total params: 655801 (2.50 MB)\n",
            "Trainable params: 160501 (626.96 KB)\n",
            "Non-trainable params: 495300 (1.89 MB)\n",
            "_________________________________________________________________\n"
          ]
        }
      ]
    },
    {
      "cell_type": "markdown",
      "source": [
        "Step - 5.5 : Compiling Model"
      ],
      "metadata": {
        "id": "CRqVY_JpQk2X"
      }
    },
    {
      "cell_type": "code",
      "source": [
        "model.compile(loss='binary_crossentropy',\n",
        "              optimizer='adam',\n",
        "              metrics=['accuracy'])"
      ],
      "metadata": {
        "id": "AztPAMivQluj"
      },
      "execution_count": 42,
      "outputs": []
    },
    {
      "cell_type": "markdown",
      "source": [
        "Step - 5.6 : Callback Creation"
      ],
      "metadata": {
        "id": "K3xno-3WQv3Q"
      }
    },
    {
      "cell_type": "code",
      "source": [
        "callbacks = [\n",
        "    ReduceLROnPlateau(monitor='val_loss', patience=5, cooldown=0),\n",
        "    EarlyStopping(monitor='val_accuracy', min_delta=1e-4, patience=5)\n",
        "]"
      ],
      "metadata": {
        "id": "a-LhmBSZQwpP"
      },
      "execution_count": 43,
      "outputs": []
    },
    {
      "cell_type": "markdown",
      "source": [
        "Step - 5.7 : Model Training"
      ],
      "metadata": {
        "id": "bSv8re7dQ610"
      }
    },
    {
      "cell_type": "code",
      "source": [
        "history = model.fit(x_train, y_train,\n",
        "                    batch_size=BATCH_SIZE,\n",
        "                    epochs=EPOCHS,\n",
        "                    validation_split=0.1,\n",
        "                    verbose=1,\n",
        "                    callbacks=callbacks)"
      ],
      "metadata": {
        "colab": {
          "base_uri": "https://localhost:8080/"
        },
        "id": "bYWeSu5SQ7fg",
        "outputId": "9e60f828-dc83-4db5-a77e-7048e6dd20de"
      },
      "execution_count": 44,
      "outputs": [
        {
          "output_type": "stream",
          "name": "stdout",
          "text": [
            "Epoch 1/8\n",
            "1/1 [==============================] - 17s 17s/step - loss: 0.6951 - accuracy: 0.4264 - val_loss: 0.6706 - val_accuracy: 0.3500 - lr: 0.0010\n",
            "Epoch 2/8\n",
            "1/1 [==============================] - 7s 7s/step - loss: 0.6583 - accuracy: 0.3389 - val_loss: 0.6592 - val_accuracy: 0.3500 - lr: 0.0010\n",
            "Epoch 3/8\n",
            "1/1 [==============================] - 6s 6s/step - loss: 0.6340 - accuracy: 0.3389 - val_loss: 0.6576 - val_accuracy: 0.3500 - lr: 0.0010\n",
            "Epoch 4/8\n",
            "1/1 [==============================] - 6s 6s/step - loss: 0.6197 - accuracy: 0.3389 - val_loss: 0.6592 - val_accuracy: 0.3500 - lr: 0.0010\n",
            "Epoch 5/8\n",
            "1/1 [==============================] - 6s 6s/step - loss: 0.6085 - accuracy: 0.3389 - val_loss: 0.6591 - val_accuracy: 0.3500 - lr: 0.0010\n",
            "Epoch 6/8\n",
            "1/1 [==============================] - 6s 6s/step - loss: 0.5975 - accuracy: 0.3389 - val_loss: 0.6553 - val_accuracy: 0.3500 - lr: 0.0010\n"
          ]
        }
      ]
    },
    {
      "cell_type": "markdown",
      "source": [
        "An LSTM model is built for sentiment analysis, consisting of an embedding layer, LSTM layer, dropout layer, and dense layer."
      ],
      "metadata": {
        "id": "Dne3f6nbjT2J"
      }
    },
    {
      "cell_type": "markdown",
      "source": [
        "Step - 5.8 : Model Evaluation"
      ],
      "metadata": {
        "id": "29O7-DV7RYOx"
      }
    },
    {
      "cell_type": "code",
      "source": [
        "score = model.evaluate(x_test, y_test, batch_size=BATCH_SIZE)\n",
        "print()\n",
        "print(\"ACCURACY:\", score[1])\n",
        "print(\"LOSS:\", score[0])"
      ],
      "metadata": {
        "colab": {
          "base_uri": "https://localhost:8080/"
        },
        "id": "90yoPCmIRY-s",
        "outputId": "b9da3f88-e9e2-4079-e20a-327104a87bd4"
      },
      "execution_count": 45,
      "outputs": [
        {
          "output_type": "stream",
          "name": "stdout",
          "text": [
            "1/1 [==============================] - 0s 433ms/step - loss: 0.6874 - accuracy: 0.3400\n",
            "\n",
            "ACCURACY: 0.3400000035762787\n",
            "LOSS: 0.687436044216156\n"
          ]
        }
      ]
    },
    {
      "cell_type": "markdown",
      "source": [
        "The model is trained and evaluated. The accuracy achieved on the test set is **34%**"
      ],
      "metadata": {
        "id": "9SZF5HSpjW5U"
      }
    },
    {
      "cell_type": "code",
      "source": [
        "acc = history.history['accuracy']\n",
        "val_acc = history.history['val_accuracy']\n",
        "loss = history.history['loss']\n",
        "val_loss = history.history['val_loss']\n",
        "\n",
        "epochs = range(len(acc))"
      ],
      "metadata": {
        "id": "4piO27oOSMS_"
      },
      "execution_count": 46,
      "outputs": []
    },
    {
      "cell_type": "markdown",
      "source": [
        "Accuracy Graph"
      ],
      "metadata": {
        "id": "kXMpKLbvSNg6"
      }
    },
    {
      "cell_type": "code",
      "source": [
        "plt.plot(epochs, acc, 'b', label='Training acc')\n",
        "plt.plot(epochs, val_acc, 'r', label='Validation acc')\n",
        "plt.title('Training and validation accuracy')\n",
        "plt.xlabel('Epochs')\n",
        "plt.ylabel('Accuracy')\n",
        "plt.legend()\n",
        "plt.show()\n",
        "\n",
        "plt.figure()"
      ],
      "metadata": {
        "colab": {
          "base_uri": "https://localhost:8080/",
          "height": 544
        },
        "id": "T8D8a-SoSSoe",
        "outputId": "06ee5428-bc79-436c-ee0a-167af66191a5"
      },
      "execution_count": 47,
      "outputs": [
        {
          "output_type": "display_data",
          "data": {
            "text/plain": [
              "<Figure size 640x480 with 1 Axes>"
            ],
            "image/png": "[encoded data removed]"
          },
          "metadata": {}
        },
        {
          "output_type": "execute_result",
          "data": {
            "text/plain": [
              "<Figure size 640x480 with 0 Axes>"
            ]
          },
          "metadata": {},
          "execution_count": 47
        },
        {
          "output_type": "display_data",
          "data": {
            "text/plain": [
              "<Figure size 640x480 with 0 Axes>"
            ]
          },
          "metadata": {}
        }
      ]
    },
    {
      "cell_type": "markdown",
      "source": [
        "Loss graph"
      ],
      "metadata": {
        "id": "hbGpb-a4SVuH"
      }
    },
    {
      "cell_type": "code",
      "source": [
        "plt.plot(epochs, loss, 'b', label='Training loss')\n",
        "plt.plot(epochs, val_loss, 'r', label='Validation loss')\n",
        "plt.title('Training and validation loss')\n",
        "plt.xlabel('Epochs')\n",
        "plt.ylabel('Loss')\n",
        "plt.legend()\n",
        "plt.show()"
      ],
      "metadata": {
        "colab": {
          "base_uri": "https://localhost:8080/",
          "height": 508
        },
        "id": "GqHN_dCbSHHg",
        "outputId": "70d0085c-0354-499a-a5ec-552486119ef0"
      },
      "execution_count": 48,
      "outputs": [
        {
          "output_type": "display_data",
          "data": {
            "text/plain": [
              "<Figure size 640x480 with 1 Axes>"
            ],
            "image/png": "[encoded data removed]"
          },
          "metadata": {}
        }
      ]
    },
    {
      "cell_type": "markdown",
      "source": [
        "Step - 5.9 : Prediction using Model"
      ],
      "metadata": {
        "id": "OreTubO_SbQR"
      }
    },
    {
      "cell_type": "code",
      "source": [
        "def decode_sentiment(score, include_neutral=True):\n",
        "    label = NEUTRAL if include_neutral else NEGATIVE\n",
        "    if score <= SENTIMENT_THRESHOLDS[0]:\n",
        "        label = NEGATIVE\n",
        "    elif score >= SENTIMENT_THRESHOLDS[1]:\n",
        "        label = POSITIVE\n",
        "    return label"
      ],
      "metadata": {
        "id": "8XsNYmRtU8XT"
      },
      "execution_count": 49,
      "outputs": []
    },
    {
      "cell_type": "code",
      "source": [
        "def predict_sentiment(text, include_neutral=True):\n",
        "    # Tokenize the text\n",
        "    x_test = pad_sequences(tokenizer.texts_to_sequences([text]), maxlen=SEQUENCE_LENGTH)\n",
        "    # Predict sentiment\n",
        "    score = model.predict([x_test])[0]\n",
        "    # Decode sentiment\n",
        "    label = decode_sentiment(score, include_neutral=include_neutral)\n",
        "    return {\"label\": label, \"score\": float(score)}"
      ],
      "metadata": {
        "id": "iLVSKsA1U98D"
      },
      "execution_count": 50,
      "outputs": []
    },
    {
      "cell_type": "code",
      "source": [
        "print(predict_sentiment(\"I hate this product. It's terrible,useless\"))"
      ],
      "metadata": {
        "colab": {
          "base_uri": "https://localhost:8080/"
        },
        "id": "VdyCCNVnVAXh",
        "outputId": "3b495863-3146-4d6d-b111-d290635468b7"
      },
      "execution_count": 51,
      "outputs": [
        {
          "output_type": "stream",
          "name": "stdout",
          "text": [
            "1/1 [==============================] - 1s 1s/step\n",
            "{'label': '2', 'score': 0.5590533018112183}\n"
          ]
        }
      ]
    },
    {
      "cell_type": "markdown",
      "source": [
        "Neutral"
      ],
      "metadata": {
        "id": "76TEGFT1cef1"
      }
    },
    {
      "cell_type": "code",
      "source": [
        "print(predict_sentiment(\"Experience has been bad\"))"
      ],
      "metadata": {
        "colab": {
          "base_uri": "https://localhost:8080/"
        },
        "id": "tCN1KKZbVB7g",
        "outputId": "1f7127e8-9998-4f1b-ce72-e6d88eb7c376"
      },
      "execution_count": 52,
      "outputs": [
        {
          "output_type": "stream",
          "name": "stdout",
          "text": [
            "1/1 [==============================] - 0s 65ms/step\n",
            "{'label': '2', 'score': 0.7177295684814453}\n"
          ]
        }
      ]
    },
    {
      "cell_type": "markdown",
      "source": [
        "Neutral"
      ],
      "metadata": {
        "id": "Uz12V7u3cfvg"
      }
    },
    {
      "cell_type": "code",
      "source": [
        "print(predict_sentiment(\"I don't like to waste my time rather I like to do coding in my mean time\"))"
      ],
      "metadata": {
        "colab": {
          "base_uri": "https://localhost:8080/"
        },
        "id": "k6ikrVoNSsqh",
        "outputId": "0d54761f-77ca-4fe7-a733-ef655ba1eac5"
      },
      "execution_count": 56,
      "outputs": [
        {
          "output_type": "stream",
          "name": "stdout",
          "text": [
            "1/1 [==============================] - 0s 172ms/step\n",
            "{'label': '0', 'score': 0.8823938965797424}\n"
          ]
        }
      ]
    },
    {
      "cell_type": "markdown",
      "source": [
        "Positive"
      ],
      "metadata": {
        "id": "oj2I6xzqcjOK"
      }
    },
    {
      "cell_type": "markdown",
      "source": [
        "Step - 5.10 : Creating Confusion Matrix"
      ],
      "metadata": {
        "id": "BQQ1IiFzVtfe"
      }
    },
    {
      "cell_type": "code",
      "source": [
        "%%time\n",
        "y_pred_1d = []\n",
        "y_test_1d = list(df_test.Sentiment)\n",
        "scores = model.predict(x_test, verbose=1, batch_size=8000)\n",
        "y_pred_1d = [decode_sentiment(score, include_neutral=False) for score in scores]"
      ],
      "metadata": {
        "colab": {
          "base_uri": "https://localhost:8080/"
        },
        "id": "sQLRymczdv07",
        "outputId": "c82c985b-d66b-4b5c-9393-cf8cf2f2de7f"
      },
      "execution_count": 60,
      "outputs": [
        {
          "output_type": "stream",
          "name": "stdout",
          "text": [
            "1/1 [==============================] - 1s 1s/step\n",
            "CPU times: user 1.27 s, sys: 38.6 ms, total: 1.31 s\n",
            "Wall time: 1.37 s\n"
          ]
        }
      ]
    },
    {
      "cell_type": "code",
      "source": [
        "# Convert numerical labels to strings\n",
        "y_test_1d_str = [str(label) for label in y_test_1d]\n",
        "y_pred_1d_str = [str(label) for label in y_pred_1d]"
      ],
      "metadata": {
        "id": "WKRAgrnLL-2G"
      },
      "execution_count": 61,
      "outputs": []
    },
    {
      "cell_type": "code",
      "source": [
        "def plot_confusion_matrix(cm, classes,\n",
        "                          title='Confusion matrix',\n",
        "                          cmap=plt.cm.Blues):\n",
        "    \"\"\"\n",
        "    This function prints and plots the confusion matrix.\n",
        "    Normalization can be applied by setting `normalize=True`.\n",
        "    \"\"\"\n",
        "\n",
        "    cm = cm.astype('float') / cm.sum(axis=1)[:, np.newaxis]\n",
        "\n",
        "    plt.imshow(cm, interpolation='nearest', cmap=cmap)\n",
        "    plt.title(title, fontsize=30)\n",
        "    plt.colorbar()\n",
        "    tick_marks = np.arange(len(classes))\n",
        "    plt.xticks(tick_marks, classes, rotation=90, fontsize=22)\n",
        "    plt.yticks(tick_marks, classes, fontsize=22)\n",
        "\n",
        "    fmt = '.2f'\n",
        "    thresh = cm.max() / 2.\n",
        "    for i, j in itertools.product(range(cm.shape[0]), range(cm.shape[1])):\n",
        "        plt.text(j, i, format(cm[i, j], fmt),\n",
        "                 horizontalalignment=\"center\",\n",
        "                 color=\"white\" if cm[i, j] > thresh else \"black\")\n",
        "\n",
        "    plt.ylabel('True label', fontsize=25)\n",
        "    plt.xlabel('Predicted label', fontsize=25)"
      ],
      "metadata": {
        "id": "faO9P6XOdxTZ"
      },
      "execution_count": 62,
      "outputs": []
    },
    {
      "cell_type": "code",
      "source": [
        "# Calculate confusion matrix\n",
        "cnf_matrix = confusion_matrix(y_test_1d_str, y_pred_1d_str)\n",
        "\n",
        "plt.figure(figsize=(12,12))\n",
        "plot_confusion_matrix(cnf_matrix, classes=df_train.Sentiment.unique(), title=\"Confusion matrix\")\n",
        "plt.show()"
      ],
      "metadata": {
        "colab": {
          "base_uri": "https://localhost:8080/",
          "height": 1000
        },
        "id": "dK-vI3OCdTTa",
        "outputId": "9340f6fb-c7d2-4a82-94ce-b26f8d8b4408"
      },
      "execution_count": 63,
      "outputs": [
        {
          "output_type": "display_data",
          "data": {
            "text/plain": [
              "<Figure size 1200x1200 with 2 Axes>"
            ],
            "image/png": "[encoded data removed]"
          },
          "metadata": {}
        }
      ]
    },
    {
      "cell_type": "markdown",
      "source": [
        "A confusion matrix is generated to evaluate the performance of the sentiment classification."
      ],
      "metadata": {
        "id": "IuAxpG3Vjfub"
      }
    },
    {
      "cell_type": "markdown",
      "source": [
        "Step - 5.11 : Classification Report"
      ],
      "metadata": {
        "id": "SrCcbQ6Gd6rl"
      }
    },
    {
      "cell_type": "code",
      "source": [
        "report = classification_report(y_test_1d_str, y_pred_1d_str)\n",
        "\n",
        "print(report)"
      ],
      "metadata": {
        "colab": {
          "base_uri": "https://localhost:8080/"
        },
        "id": "KAwby59EeIAH",
        "outputId": "c5b09718-2b95-4cd3-c7d0-d222cdf34e3a"
      },
      "execution_count": 64,
      "outputs": [
        {
          "output_type": "stream",
          "name": "stdout",
          "text": [
            "              precision    recall  f1-score   support\n",
            "\n",
            "           0       0.62      0.33      0.43        69\n",
            "           1       0.36      0.80      0.50        51\n",
            "           2       0.00      0.00      0.00        30\n",
            "\n",
            "    accuracy                           0.43       150\n",
            "   macro avg       0.33      0.38      0.31       150\n",
            "weighted avg       0.41      0.43      0.37       150\n",
            "\n"
          ]
        }
      ]
    },
    {
      "cell_type": "markdown",
      "source": [
        "The classification report provides precision, recall, F1-score, and support for each sentiment class."
      ],
      "metadata": {
        "id": "9kUltwBvjhm_"
      }
    },
    {
      "cell_type": "markdown",
      "source": [
        "Step - 5.12 : Accuracy Score"
      ],
      "metadata": {
        "id": "80iyHTSIeOOa"
      }
    },
    {
      "cell_type": "code",
      "source": [
        "accuracy_LSTM = accuracy_score(y_test_1d_str, y_pred_1d_str)\n",
        "print(\"Accuracy:\", accuracy_LSTM)"
      ],
      "metadata": {
        "colab": {
          "base_uri": "https://localhost:8080/"
        },
        "id": "uvPFpJDIeOpg",
        "outputId": "ddf9bae0-05c3-42e1-fb0d-907e0fd52bf2"
      },
      "execution_count": 65,
      "outputs": [
        {
          "output_type": "stream",
          "name": "stdout",
          "text": [
            "Accuracy: 0.4266666666666667\n"
          ]
        }
      ]
    },
    {
      "cell_type": "markdown",
      "source": [
        "The overall accuracy score is calculated, which is **42.67%**."
      ],
      "metadata": {
        "id": "SzXb0q0OjjSi"
      }
    },
    {
      "cell_type": "markdown",
      "source": [
        "**STEP 5: Sentiments analysis using Machine learning algorithms**"
      ],
      "metadata": {
        "id": "i8Ww9OOtlKLF"
      }
    },
    {
      "cell_type": "markdown",
      "source": [
        "# **Support Vector Machine (SVM)**"
      ],
      "metadata": {
        "id": "mO78jfYZljZr"
      }
    },
    {
      "cell_type": "markdown",
      "source": [
        "SVM is a supervised learning algorithm used for classification and regression tasks.\n",
        "\n",
        "It works by finding the hyperplane that best separates different classes in the feature space.\n",
        "\n",
        "SVM can handle both linear and non-linear data separation through the use of different kernel functions such as linear, polynomial, and radial basis function (RBF).\n",
        "\n",
        "SVM aims to maximize the margin between classes, which helps in achieving better generalization performance."
      ],
      "metadata": {
        "id": "ddyG8hthv2na"
      }
    },
    {
      "cell_type": "markdown",
      "source": [
        "Step - 5.1 : Token and Vocab Creation"
      ],
      "metadata": {
        "id": "SewLl8cQmHri"
      }
    },
    {
      "cell_type": "code",
      "source": [
        "from sklearn.feature_extraction.text import TfidfVectorizer\n",
        "\n",
        "tokenizer = TfidfVectorizer()\n",
        "\n",
        "tokenizer.fit(df_train['lemma_str'])\n",
        "\n",
        "vocab_size = len(tokenizer.vocabulary_) + 1\n",
        "print(\"Total words:\", vocab_size)"
      ],
      "metadata": {
        "colab": {
          "base_uri": "https://localhost:8080/"
        },
        "id": "S_0eJA9GlTvk",
        "outputId": "3ef8808e-4f98-4744-92a7-7a7fc71f7f6b"
      },
      "execution_count": 66,
      "outputs": [
        {
          "output_type": "stream",
          "name": "stdout",
          "text": [
            "Total words: 1650\n"
          ]
        }
      ]
    },
    {
      "cell_type": "markdown",
      "source": [
        "In SVM, instead of using a tokenizer like in deep learning models, we often use techniques like TF-IDF (Term Frequency-Inverse Document Frequency) to convert text into numerical vectors. TfidfVectorizer is a scikit-learn class that can be used to perform this transformation. It tokenizes the text and computes the TF-IDF scores for each word."
      ],
      "metadata": {
        "id": "qyJgRqn4miuQ"
      }
    },
    {
      "cell_type": "markdown",
      "source": [
        "The TF-IDF vectorization technique was used to convert text data into numerical vectors. Each word was assigned a TF-IDF score, resulting in a vocabulary size of 1650 unique words."
      ],
      "metadata": {
        "id": "PovzjYUlvc9S"
      }
    },
    {
      "cell_type": "markdown",
      "source": [
        "Step - 5.2 : Label Encoding"
      ],
      "metadata": {
        "id": "S5SLeZnMmJ2k"
      }
    },
    {
      "cell_type": "code",
      "source": [
        "y_train = df_train['Sentiment'].values\n",
        "y_test = df_test['Sentiment'].values\n",
        "\n",
        "print(\"y_train\", y_train.shape)\n",
        "print(\"y_test\", y_test.shape)"
      ],
      "metadata": {
        "colab": {
          "base_uri": "https://localhost:8080/"
        },
        "id": "PpFpdIwwmMKo",
        "outputId": "303a5a40-94b8-4e58-8937-fc6dd113f1c2"
      },
      "execution_count": 67,
      "outputs": [
        {
          "output_type": "stream",
          "name": "stdout",
          "text": [
            "y_train (597,)\n",
            "y_test (150,)\n"
          ]
        }
      ]
    },
    {
      "cell_type": "code",
      "source": [
        "print(\"x_train\", x_train.shape)\n",
        "print(\"y_train\", y_train.shape)\n",
        "print()\n",
        "print(\"x_test\", x_test.shape)\n",
        "print(\"y_test\", y_test.shape)"
      ],
      "metadata": {
        "colab": {
          "base_uri": "https://localhost:8080/"
        },
        "id": "ySmdPGGXnOKH",
        "outputId": "f10d8fe3-df90-4040-91b5-f369d5b40882"
      },
      "execution_count": 68,
      "outputs": [
        {
          "output_type": "stream",
          "name": "stdout",
          "text": [
            "x_train (597, 300)\n",
            "y_train (597,)\n",
            "\n",
            "x_test (150, 300)\n",
            "y_test (150,)\n"
          ]
        }
      ]
    },
    {
      "cell_type": "code",
      "source": [
        "y_train[:10]"
      ],
      "metadata": {
        "colab": {
          "base_uri": "https://localhost:8080/"
        },
        "id": "lR2afWoenQmX",
        "outputId": "e5ef920c-d9f6-4bca-e527-11a57877145c"
      },
      "execution_count": 69,
      "outputs": [
        {
          "output_type": "execute_result",
          "data": {
            "text/plain": [
              "array([1, 0, 1, 2, 1, 0, 2, 0, 2, 0])"
            ]
          },
          "metadata": {},
          "execution_count": 69
        }
      ]
    },
    {
      "cell_type": "markdown",
      "source": [
        "Embedding layers are specific to neural network-based models like LSTM, but SVM operates on a different principle and doesn't require embedding layers."
      ],
      "metadata": {
        "id": "nmPuMfqnn8OA"
      }
    },
    {
      "cell_type": "markdown",
      "source": [
        "Step - 5.3 : Model Creation - SVM"
      ],
      "metadata": {
        "id": "_f380wVgngmO"
      }
    },
    {
      "cell_type": "code",
      "source": [
        "from sklearn.svm import SVC\n",
        "\n",
        "svm_classifier = SVC(kernel='linear')"
      ],
      "metadata": {
        "id": "yV4Qb_-0oAod"
      },
      "execution_count": 71,
      "outputs": []
    },
    {
      "cell_type": "markdown",
      "source": [
        "Step - 5.4: Model Training"
      ],
      "metadata": {
        "id": "_Sy3QFaUo2Hc"
      }
    },
    {
      "cell_type": "code",
      "source": [
        "svm_classifier.fit(x_train, y_train)"
      ],
      "metadata": {
        "colab": {
          "base_uri": "https://localhost:8080/",
          "height": 75
        },
        "id": "MxMbrPwoo4E4",
        "outputId": "f7930490-37a0-4125-b0b7-ddf21323d490"
      },
      "execution_count": 72,
      "outputs": [
        {
          "output_type": "execute_result",
          "data": {
            "text/plain": [
              "SVC(kernel='linear')"
            ],
            "text/html": [
              "<style>#sk-container-id-1 {color: black;background-color: white;}#sk-container-id-1 pre{padding: 0;}#sk-container-id-1 div.sk-toggleable {background-color: white;}#sk-container-id-1 label.sk-toggleable__label {cursor: pointer;display: block;width: 100%;margin-bottom: 0;padding: 0.3em;box-sizing: border-box;text-align: center;}#sk-container-id-1 label.sk-toggleable__label-arrow:before {content: \"▸\";float: left;margin-right: 0.25em;color: #696969;}#sk-container-id-1 label.sk-toggleable__label-arrow:hover:before {color: black;}#sk-container-id-1 div.sk-estimator:hover label.sk-toggleable__label-arrow:before {color: black;}#sk-container-id-1 div.sk-toggleable__content {max-height: 0;max-width: 0;overflow: hidden;text-align: left;background-color: #f0f8ff;}#sk-container-id-1 div.sk-toggleable__content pre {margin: 0.2em;color: black;border-radius: 0.25em;background-color: #f0f8ff;}#sk-container-id-1 input.sk-toggleable__control:checked~div.sk-toggleable__content {max-height: 200px;max-width: 100%;overflow: auto;}#sk-container-id-1 input.sk-toggleable__control:checked~label.sk-toggleable__label-arrow:before {content: \"▾\";}#sk-container-id-1 div.sk-estimator input.sk-toggleable__control:checked~label.sk-toggleable__label {background-color: #d4ebff;}#sk-container-id-1 div.sk-label input.sk-toggleable__control:checked~label.sk-toggleable__label {background-color: #d4ebff;}#sk-container-id-1 input.sk-hidden--visually {border: 0;clip: rect(1px 1px 1px 1px);clip: rect(1px, 1px, 1px, 1px);height: 1px;margin: -1px;overflow: hidden;padding: 0;position: absolute;width: 1px;}#sk-container-id-1 div.sk-estimator {font-family: monospace;background-color: #f0f8ff;border: 1px dotted black;border-radius: 0.25em;box-sizing: border-box;margin-bottom: 0.5em;}#sk-container-id-1 div.sk-estimator:hover {background-color: #d4ebff;}#sk-container-id-1 div.sk-parallel-item::after {content: \"\";width: 100%;border-bottom: 1px solid gray;flex-grow: 1;}#sk-container-id-1 div.sk-label:hover label.sk-toggleable__label {background-color: #d4ebff;}#sk-container-id-1 div.sk-serial::before {content: \"\";position: absolute;border-left: 1px solid gray;box-sizing: border-box;top: 0;bottom: 0;left: 50%;z-index: 0;}#sk-container-id-1 div.sk-serial {display: flex;flex-direction: column;align-items: center;background-color: white;padding-right: 0.2em;padding-left: 0.2em;position: relative;}#sk-container-id-1 div.sk-item {position: relative;z-index: 1;}#sk-container-id-1 div.sk-parallel {display: flex;align-items: stretch;justify-content: center;background-color: white;position: relative;}#sk-container-id-1 div.sk-item::before, #sk-container-id-1 div.sk-parallel-item::before {content: \"\";position: absolute;border-left: 1px solid gray;box-sizing: border-box;top: 0;bottom: 0;left: 50%;z-index: -1;}#sk-container-id-1 div.sk-parallel-item {display: flex;flex-direction: column;z-index: 1;position: relative;background-color: white;}#sk-container-id-1 div.sk-parallel-item:first-child::after {align-self: flex-end;width: 50%;}#sk-container-id-1 div.sk-parallel-item:last-child::after {align-self: flex-start;width: 50%;}#sk-container-id-1 div.sk-parallel-item:only-child::after {width: 0;}#sk-container-id-1 div.sk-dashed-wrapped {border: 1px dashed gray;margin: 0 0.4em 0.5em 0.4em;box-sizing: border-box;padding-bottom: 0.4em;background-color: white;}#sk-container-id-1 div.sk-label label {font-family: monospace;font-weight: bold;display: inline-block;line-height: 1.2em;}#sk-container-id-1 div.sk-label-container {text-align: center;}#sk-container-id-1 div.sk-container {/* jupyter's `normalize.less` sets `[hidden] { display: none; }` but bootstrap.min.css set `[hidden] { display: none !important; }` so we also need the `!important` here to be able to override the default hidden behavior on the sphinx rendered scikit-learn.org. See: https://github.com/scikit-learn/scikit-learn/issues/21755 */display: inline-block !important;position: relative;}#sk-container-id-1 div.sk-text-repr-fallback {display: none;}</style><div id=\"sk-container-id-1\" class=\"sk-top-container\"><div class=\"sk-text-repr-fallback\"><pre>SVC(kernel=&#x27;linear&#x27;)</pre><b>In a Jupyter environment, please rerun this cell to show the HTML representation or trust the notebook. <br />On GitHub, the HTML representation is unable to render, please try loading this page with nbviewer.org.</b></div><div class=\"sk-container\" hidden><div class=\"sk-item\"><div class=\"sk-estimator sk-toggleable\"><input class=\"sk-toggleable__control sk-hidden--visually\" id=\"sk-estimator-id-1\" type=\"checkbox\" checked><label for=\"sk-estimator-id-1\" class=\"sk-toggleable__label sk-toggleable__label-arrow\">SVC</label><div class=\"sk-toggleable__content\"><pre>SVC(kernel=&#x27;linear&#x27;)</pre></div></div></div></div></div>"
            ]
          },
          "metadata": {},
          "execution_count": 72
        }
      ]
    },
    {
      "cell_type": "markdown",
      "source": [
        "Step - 5.4: Model Evaluation"
      ],
      "metadata": {
        "id": "94FcxMIZo8tU"
      }
    },
    {
      "cell_type": "code",
      "source": [
        "accuracy_1 = svm_classifier.score(x_test, y_test)\n",
        "print(\"Accuracy:\", accuracy_1)"
      ],
      "metadata": {
        "colab": {
          "base_uri": "https://localhost:8080/"
        },
        "id": "7ZzBDdl7o97c",
        "outputId": "6faa82f1-acc7-4101-ad9c-5c9671a49571"
      },
      "execution_count": 73,
      "outputs": [
        {
          "output_type": "stream",
          "name": "stdout",
          "text": [
            "Accuracy: 0.3933333333333333\n"
          ]
        }
      ]
    },
    {
      "cell_type": "markdown",
      "source": [
        "The accuracy of the SVM classifier on the test data was found to be approximately **39.33%.**"
      ],
      "metadata": {
        "id": "6sILnpV9vkFh"
      }
    },
    {
      "cell_type": "markdown",
      "source": [
        "Step - 5.5: Prediction using Model"
      ],
      "metadata": {
        "id": "-zsQ4KeBpIgZ"
      }
    },
    {
      "cell_type": "code",
      "source": [
        "y_pred = svm_classifier.predict(x_test)\n",
        "print(y_pred)"
      ],
      "metadata": {
        "colab": {
          "base_uri": "https://localhost:8080/"
        },
        "id": "Vb8nbxpepJyp",
        "outputId": "b27e4c41-30a7-46ac-c3bb-ef361d39b79f"
      },
      "execution_count": 74,
      "outputs": [
        {
          "output_type": "stream",
          "name": "stdout",
          "text": [
            "[0 0 1 2 0 1 2 0 1 0 1 1 1 2 2 2 2 1 1 2 2 2 0 2 2 1 1 0 2 0 1 0 2 0 1 2 2\n",
            " 1 1 1 1 0 2 2 0 0 0 2 2 2 0 1 0 1 0 0 1 2 1 2 2 0 1 2 1 1 0 1 0 0 2 1 0 0\n",
            " 2 1 0 2 0 2 2 0 1 0 0 2 2 1 1 1 1 2 2 0 0 2 2 1 1 2 2 2 1 1 2 0 2 2 2 1 2\n",
            " 2 2 2 1 0 2 2 1 0 0 2 1 2 1 0 2 0 1 1 2 2 2 0 1 1 1 1 0 1 2 0 2 2 2 2 0 2\n",
            " 0 1]\n"
          ]
        }
      ]
    },
    {
      "cell_type": "markdown",
      "source": [
        "Step - 5.6: Creating Confusion Matrix"
      ],
      "metadata": {
        "id": "PVh4uebiuHDO"
      }
    },
    {
      "cell_type": "code",
      "source": [
        "from sklearn.metrics import confusion_matrix\n",
        "import seaborn as sns\n",
        "\n",
        "conf_matrix = confusion_matrix(y_test, y_pred)\n",
        "\n",
        "plt.figure(figsize=(8, 6))\n",
        "sns.heatmap(conf_matrix, annot=True, cmap=\"Blues\", fmt='g')\n",
        "plt.xlabel('Predicted labels')\n",
        "plt.ylabel('True labels')\n",
        "plt.title('Confusion Matrix')\n",
        "plt.show()"
      ],
      "metadata": {
        "colab": {
          "base_uri": "https://localhost:8080/",
          "height": 605
        },
        "id": "Z__Puah3uJP9",
        "outputId": "748e957a-1e0e-4fac-a213-2918e497f182"
      },
      "execution_count": 75,
      "outputs": [
        {
          "output_type": "display_data",
          "data": {
            "text/plain": [
              "<Figure size 800x600 with 2 Axes>"
            ],
            "image/png": "[encoded data removed]"
          },
          "metadata": {}
        }
      ]
    },
    {
      "cell_type": "markdown",
      "source": [
        "Step - 5.7: Classification Report"
      ],
      "metadata": {
        "id": "RRlS6PQcuO_g"
      }
    },
    {
      "cell_type": "code",
      "source": [
        "from sklearn.metrics import classification_report\n",
        "\n",
        "class_report = classification_report(y_test, y_pred)\n",
        "\n",
        "print(\"Classification Report:\\n\", class_report)"
      ],
      "metadata": {
        "colab": {
          "base_uri": "https://localhost:8080/"
        },
        "id": "u7izuEO0uRUH",
        "outputId": "872c5c0f-6a7b-4b30-c5e2-62d5a5a319d3"
      },
      "execution_count": 76,
      "outputs": [
        {
          "output_type": "stream",
          "name": "stdout",
          "text": [
            "Classification Report:\n",
            "               precision    recall  f1-score   support\n",
            "\n",
            "           0       0.55      0.33      0.41        69\n",
            "           1       0.33      0.31      0.32        51\n",
            "           2       0.33      0.67      0.44        30\n",
            "\n",
            "    accuracy                           0.39       150\n",
            "   macro avg       0.40      0.44      0.39       150\n",
            "weighted avg       0.43      0.39      0.39       150\n",
            "\n"
          ]
        }
      ]
    },
    {
      "cell_type": "markdown",
      "source": [
        "Step - 5.8: Accuracy Score"
      ],
      "metadata": {
        "id": "d8b0SptvuVbg"
      }
    },
    {
      "cell_type": "code",
      "source": [
        "from sklearn.metrics import accuracy_score\n",
        "\n",
        "accuracy_SVM = accuracy_score(y_test, y_pred)\n",
        "print(\"Accuracy Score:\", accuracy_SVM)"
      ],
      "metadata": {
        "colab": {
          "base_uri": "https://localhost:8080/"
        },
        "id": "nCwNzNTnuXMo",
        "outputId": "420f85e8-70e9-4c93-e5dd-91265ed20c75"
      },
      "execution_count": 78,
      "outputs": [
        {
          "output_type": "stream",
          "name": "stdout",
          "text": [
            "Accuracy Score: 0.3933333333333333\n"
          ]
        }
      ]
    },
    {
      "cell_type": "markdown",
      "source": [
        "The accuracy score of the SVM classifier on the test data was approximately **39.33%.**"
      ],
      "metadata": {
        "id": "sL9rHQ8FvoU3"
      }
    },
    {
      "cell_type": "markdown",
      "source": [
        "# **Random Forest**"
      ],
      "metadata": {
        "id": "KwU2h7YHvu8U"
      }
    },
    {
      "cell_type": "markdown",
      "source": [
        "Random Forest is an ensemble learning method used for classification and regression tasks.\n",
        "\n",
        "It constructs multiple decision trees during training and outputs the mode of the classes (for classification) or the mean prediction (for regression) of the individual trees.\n",
        "\n",
        "Random Forest introduces randomness in the tree-building process by selecting a random subset of features for each tree and using bootstrapped samples from the training data.\n",
        "\n",
        "It reduces overfitting and improves generalization performance by averaging predictions from multiple trees."
      ],
      "metadata": {
        "id": "pM6-l8M4v6dC"
      }
    },
    {
      "cell_type": "markdown",
      "source": [
        "Step - 5.1 : Token and Vocab Creation"
      ],
      "metadata": {
        "id": "ZtR_dJc4vuCh"
      }
    },
    {
      "cell_type": "code",
      "source": [
        "from sklearn.feature_extraction.text import TfidfVectorizer\n",
        "\n",
        "tokenizer = TfidfVectorizer()\n",
        "\n",
        "tokenizer.fit(df_train['lemma_str'])\n",
        "\n",
        "vocab_size = len(tokenizer.vocabulary_) + 1\n",
        "print(\"Total words:\", vocab_size)"
      ],
      "metadata": {
        "colab": {
          "base_uri": "https://localhost:8080/"
        },
        "id": "JTGp3IOvvqL0",
        "outputId": "0877c220-3af9-4ee9-d0a6-6415781a830f"
      },
      "execution_count": 79,
      "outputs": [
        {
          "output_type": "stream",
          "name": "stdout",
          "text": [
            "Total words: 1650\n"
          ]
        }
      ]
    },
    {
      "cell_type": "markdown",
      "source": [
        "Step - 5.2: Label Encoding"
      ],
      "metadata": {
        "id": "nA7aRs8SwaSL"
      }
    },
    {
      "cell_type": "code",
      "source": [
        "y_train_RF = df_train['Sentiment'].values\n",
        "y_test_RF = df_test['Sentiment'].values\n",
        "\n",
        "print(\"y_train\", y_train_RF.shape)\n",
        "print(\"y_test\", y_test_RF.shape)"
      ],
      "metadata": {
        "colab": {
          "base_uri": "https://localhost:8080/"
        },
        "id": "0OyJ7Vb2warL",
        "outputId": "72785325-10aa-4dda-b03e-e51340377fd8"
      },
      "execution_count": 80,
      "outputs": [
        {
          "output_type": "stream",
          "name": "stdout",
          "text": [
            "y_train (597,)\n",
            "y_test (150,)\n"
          ]
        }
      ]
    },
    {
      "cell_type": "code",
      "source": [
        "print(\"x_train\", x_train.shape)\n",
        "print(\"y_train\", y_train_RF.shape)\n",
        "print()\n",
        "print(\"x_test\", x_test.shape)\n",
        "print(\"y_test\", y_test_RF.shape)"
      ],
      "metadata": {
        "colab": {
          "base_uri": "https://localhost:8080/"
        },
        "id": "eRESDwI-wgKO",
        "outputId": "02ffc07b-b56b-4133-e853-a11ba507ccf8"
      },
      "execution_count": 81,
      "outputs": [
        {
          "output_type": "stream",
          "name": "stdout",
          "text": [
            "x_train (597, 300)\n",
            "y_train (597,)\n",
            "\n",
            "x_test (150, 300)\n",
            "y_test (150,)\n"
          ]
        }
      ]
    },
    {
      "cell_type": "code",
      "source": [
        "y_train_RF[:10]"
      ],
      "metadata": {
        "colab": {
          "base_uri": "https://localhost:8080/"
        },
        "id": "xsquiWBJwiMM",
        "outputId": "38c4ad69-0e4a-443e-a853-3b86c79ac26b"
      },
      "execution_count": 82,
      "outputs": [
        {
          "output_type": "execute_result",
          "data": {
            "text/plain": [
              "array([1, 0, 1, 2, 1, 0, 2, 0, 2, 0])"
            ]
          },
          "metadata": {},
          "execution_count": 82
        }
      ]
    },
    {
      "cell_type": "markdown",
      "source": [
        "Step - 5.3: Model Creation"
      ],
      "metadata": {
        "id": "FvOje3JMw0rM"
      }
    },
    {
      "cell_type": "code",
      "source": [
        "from sklearn.ensemble import RandomForestClassifier\n",
        "\n",
        "rf_classifier = RandomForestClassifier(n_estimators=100, random_state=42)"
      ],
      "metadata": {
        "id": "2tUe-Vrmw2JO"
      },
      "execution_count": 83,
      "outputs": []
    },
    {
      "cell_type": "markdown",
      "source": [
        "A Random Forest classifier was initialized with 100 decision trees. Random Forest is an ensemble learning method that builds multiple decision trees during training and outputs the mode of the classes predicted by the individual trees."
      ],
      "metadata": {
        "id": "ZqI6ud4BzyMN"
      }
    },
    {
      "cell_type": "markdown",
      "source": [
        "Step - 5.4: Model Training"
      ],
      "metadata": {
        "id": "3DxKFxS6w54j"
      }
    },
    {
      "cell_type": "code",
      "source": [
        "rf_classifier.fit(x_train, y_train_RF)"
      ],
      "metadata": {
        "colab": {
          "base_uri": "https://localhost:8080/",
          "height": 75
        },
        "id": "XSNy8nsVw68O",
        "outputId": "d6c21129-12e8-4b71-a89b-4166d0f28b85"
      },
      "execution_count": 84,
      "outputs": [
        {
          "output_type": "execute_result",
          "data": {
            "text/plain": [
              "RandomForestClassifier(random_state=42)"
            ],
            "text/html": [
              "<style>#sk-container-id-2 {color: black;background-color: white;}#sk-container-id-2 pre{padding: 0;}#sk-container-id-2 div.sk-toggleable {background-color: white;}#sk-container-id-2 label.sk-toggleable__label {cursor: pointer;display: block;width: 100%;margin-bottom: 0;padding: 0.3em;box-sizing: border-box;text-align: center;}#sk-container-id-2 label.sk-toggleable__label-arrow:before {content: \"▸\";float: left;margin-right: 0.25em;color: #696969;}#sk-container-id-2 label.sk-toggleable__label-arrow:hover:before {color: black;}#sk-container-id-2 div.sk-estimator:hover label.sk-toggleable__label-arrow:before {color: black;}#sk-container-id-2 div.sk-toggleable__content {max-height: 0;max-width: 0;overflow: hidden;text-align: left;background-color: #f0f8ff;}#sk-container-id-2 div.sk-toggleable__content pre {margin: 0.2em;color: black;border-radius: 0.25em;background-color: #f0f8ff;}#sk-container-id-2 input.sk-toggleable__control:checked~div.sk-toggleable__content {max-height: 200px;max-width: 100%;overflow: auto;}#sk-container-id-2 input.sk-toggleable__control:checked~label.sk-toggleable__label-arrow:before {content: \"▾\";}#sk-container-id-2 div.sk-estimator input.sk-toggleable__control:checked~label.sk-toggleable__label {background-color: #d4ebff;}#sk-container-id-2 div.sk-label input.sk-toggleable__control:checked~label.sk-toggleable__label {background-color: #d4ebff;}#sk-container-id-2 input.sk-hidden--visually {border: 0;clip: rect(1px 1px 1px 1px);clip: rect(1px, 1px, 1px, 1px);height: 1px;margin: -1px;overflow: hidden;padding: 0;position: absolute;width: 1px;}#sk-container-id-2 div.sk-estimator {font-family: monospace;background-color: #f0f8ff;border: 1px dotted black;border-radius: 0.25em;box-sizing: border-box;margin-bottom: 0.5em;}#sk-container-id-2 div.sk-estimator:hover {background-color: #d4ebff;}#sk-container-id-2 div.sk-parallel-item::after {content: \"\";width: 100%;border-bottom: 1px solid gray;flex-grow: 1;}#sk-container-id-2 div.sk-label:hover label.sk-toggleable__label {background-color: #d4ebff;}#sk-container-id-2 div.sk-serial::before {content: \"\";position: absolute;border-left: 1px solid gray;box-sizing: border-box;top: 0;bottom: 0;left: 50%;z-index: 0;}#sk-container-id-2 div.sk-serial {display: flex;flex-direction: column;align-items: center;background-color: white;padding-right: 0.2em;padding-left: 0.2em;position: relative;}#sk-container-id-2 div.sk-item {position: relative;z-index: 1;}#sk-container-id-2 div.sk-parallel {display: flex;align-items: stretch;justify-content: center;background-color: white;position: relative;}#sk-container-id-2 div.sk-item::before, #sk-container-id-2 div.sk-parallel-item::before {content: \"\";position: absolute;border-left: 1px solid gray;box-sizing: border-box;top: 0;bottom: 0;left: 50%;z-index: -1;}#sk-container-id-2 div.sk-parallel-item {display: flex;flex-direction: column;z-index: 1;position: relative;background-color: white;}#sk-container-id-2 div.sk-parallel-item:first-child::after {align-self: flex-end;width: 50%;}#sk-container-id-2 div.sk-parallel-item:last-child::after {align-self: flex-start;width: 50%;}#sk-container-id-2 div.sk-parallel-item:only-child::after {width: 0;}#sk-container-id-2 div.sk-dashed-wrapped {border: 1px dashed gray;margin: 0 0.4em 0.5em 0.4em;box-sizing: border-box;padding-bottom: 0.4em;background-color: white;}#sk-container-id-2 div.sk-label label {font-family: monospace;font-weight: bold;display: inline-block;line-height: 1.2em;}#sk-container-id-2 div.sk-label-container {text-align: center;}#sk-container-id-2 div.sk-container {/* jupyter's `normalize.less` sets `[hidden] { display: none; }` but bootstrap.min.css set `[hidden] { display: none !important; }` so we also need the `!important` here to be able to override the default hidden behavior on the sphinx rendered scikit-learn.org. See: https://github.com/scikit-learn/scikit-learn/issues/21755 */display: inline-block !important;position: relative;}#sk-container-id-2 div.sk-text-repr-fallback {display: none;}</style><div id=\"sk-container-id-2\" class=\"sk-top-container\"><div class=\"sk-text-repr-fallback\"><pre>RandomForestClassifier(random_state=42)</pre><b>In a Jupyter environment, please rerun this cell to show the HTML representation or trust the notebook. <br />On GitHub, the HTML representation is unable to render, please try loading this page with nbviewer.org.</b></div><div class=\"sk-container\" hidden><div class=\"sk-item\"><div class=\"sk-estimator sk-toggleable\"><input class=\"sk-toggleable__control sk-hidden--visually\" id=\"sk-estimator-id-2\" type=\"checkbox\" checked><label for=\"sk-estimator-id-2\" class=\"sk-toggleable__label sk-toggleable__label-arrow\">RandomForestClassifier</label><div class=\"sk-toggleable__content\"><pre>RandomForestClassifier(random_state=42)</pre></div></div></div></div></div>"
            ]
          },
          "metadata": {},
          "execution_count": 84
        }
      ]
    },
    {
      "cell_type": "markdown",
      "source": [
        "Step - 5.5: Model Evaluation"
      ],
      "metadata": {
        "id": "65EY-Uzlw_21"
      }
    },
    {
      "cell_type": "code",
      "source": [
        "accuracy_2 = rf_classifier.score(x_test, y_test_RF)\n",
        "print(\"Accuracy:\", accuracy_2)"
      ],
      "metadata": {
        "colab": {
          "base_uri": "https://localhost:8080/"
        },
        "id": "Bph3OhKRxA-K",
        "outputId": "29bf3468-fc14-492d-aaf9-06b5bd901fc3"
      },
      "execution_count": 85,
      "outputs": [
        {
          "output_type": "stream",
          "name": "stdout",
          "text": [
            "Accuracy: 0.5666666666666667\n"
          ]
        }
      ]
    },
    {
      "cell_type": "markdown",
      "source": [
        "Step - 5.6: Prediction using Model"
      ],
      "metadata": {
        "id": "AkkBScOGxGQ9"
      }
    },
    {
      "cell_type": "code",
      "source": [
        "y_pred = rf_classifier.predict(x_test)\n",
        "print(y_pred)"
      ],
      "metadata": {
        "colab": {
          "base_uri": "https://localhost:8080/"
        },
        "id": "oM2yWQDaxIlp",
        "outputId": "906cd970-d7cf-4e18-b199-d7a27b49b289"
      },
      "execution_count": 86,
      "outputs": [
        {
          "output_type": "stream",
          "name": "stdout",
          "text": [
            "[0 0 1 0 0 0 1 0 1 0 1 1 1 2 0 0 2 0 1 2 2 2 0 2 2 0 0 0 2 0 1 0 1 0 1 2 2\n",
            " 1 1 1 1 1 2 2 0 0 0 1 2 1 0 1 0 2 1 1 0 0 1 2 2 0 0 2 0 0 0 0 0 0 1 1 0 0\n",
            " 2 0 0 2 1 1 2 0 1 0 0 1 2 0 1 1 1 2 2 0 0 1 1 1 0 2 2 0 0 2 2 1 2 1 2 1 1\n",
            " 2 0 1 0 1 2 2 0 0 1 1 1 2 1 0 2 0 0 1 2 2 2 0 0 1 1 1 0 1 1 0 1 2 2 2 0 2\n",
            " 1 1]\n"
          ]
        }
      ]
    },
    {
      "cell_type": "markdown",
      "source": [
        "Step - 5.7: Creating Confusion Matrix"
      ],
      "metadata": {
        "id": "oFvNrb9ExhyH"
      }
    },
    {
      "cell_type": "code",
      "source": [
        "from sklearn.metrics import confusion_matrix\n",
        "import seaborn as sns\n",
        "\n",
        "conf_matrix = confusion_matrix(y_test_RF, y_pred)\n",
        "\n",
        "plt.figure(figsize=(8, 6))\n",
        "sns.heatmap(conf_matrix, annot=True, cmap=\"Blues\", fmt='g')\n",
        "plt.xlabel('Predicted labels')\n",
        "plt.ylabel('True labels')\n",
        "plt.title('Confusion Matrix')\n",
        "plt.show()"
      ],
      "metadata": {
        "colab": {
          "base_uri": "https://localhost:8080/",
          "height": 605
        },
        "id": "6op-xtHgxkVS",
        "outputId": "c686a831-48bd-4622-8abc-1d8fe0505040"
      },
      "execution_count": 87,
      "outputs": [
        {
          "output_type": "display_data",
          "data": {
            "text/plain": [
              "<Figure size 800x600 with 2 Axes>"
            ],
            "image/png": "[encoded data removed]"
          },
          "metadata": {}
        }
      ]
    },
    {
      "cell_type": "markdown",
      "source": [
        "Step - 5.8: Classification Report"
      ],
      "metadata": {
        "id": "x05ucO9Txn3c"
      }
    },
    {
      "cell_type": "code",
      "source": [
        "from sklearn.metrics import classification_report\n",
        "\n",
        "class_report = classification_report(y_test_RF, y_pred)\n",
        "\n",
        "print(\"Classification Report:\\n\", class_report)"
      ],
      "metadata": {
        "colab": {
          "base_uri": "https://localhost:8080/"
        },
        "id": "PTThhWulxqIv",
        "outputId": "6a8d4a19-775c-48c4-94a3-549a049623d4"
      },
      "execution_count": 88,
      "outputs": [
        {
          "output_type": "stream",
          "name": "stdout",
          "text": [
            "Classification Report:\n",
            "               precision    recall  f1-score   support\n",
            "\n",
            "           0       0.68      0.57      0.62        69\n",
            "           1       0.52      0.53      0.52        51\n",
            "           2       0.46      0.63      0.54        30\n",
            "\n",
            "    accuracy                           0.57       150\n",
            "   macro avg       0.56      0.58      0.56       150\n",
            "weighted avg       0.58      0.57      0.57       150\n",
            "\n"
          ]
        }
      ]
    },
    {
      "cell_type": "markdown",
      "source": [
        "Step - 5.9: Accuracy Score"
      ],
      "metadata": {
        "id": "uW4fMcIWxuR1"
      }
    },
    {
      "cell_type": "code",
      "source": [
        "from sklearn.metrics import accuracy_score\n",
        "\n",
        "accuracy_RF = accuracy_score(y_test_RF, y_pred)\n",
        "print(\"Accuracy Score:\", accuracy_RF)"
      ],
      "metadata": {
        "colab": {
          "base_uri": "https://localhost:8080/"
        },
        "id": "z8xIFfZ9xvXH",
        "outputId": "3d620bf3-49c2-4f08-a024-37233407e1ff"
      },
      "execution_count": 89,
      "outputs": [
        {
          "output_type": "stream",
          "name": "stdout",
          "text": [
            "Accuracy Score: 0.5666666666666667\n"
          ]
        }
      ]
    },
    {
      "cell_type": "markdown",
      "source": [
        "the Random Forest model achieved an accuracy of approximately **56.7%**, indicating moderate performance in sentiment classification on the given dataset."
      ],
      "metadata": {
        "id": "JZKNKq-qz7um"
      }
    },
    {
      "cell_type": "markdown",
      "source": [
        "# **COMPARISON**"
      ],
      "metadata": {
        "id": "pbHfaC25HJJJ"
      }
    },
    {
      "cell_type": "markdown",
      "source": [
        "**1. Accuracy:**\n",
        "\n",
        "LSTM: Achieved an accuracy of approximately 42.67%.\n",
        "\n",
        "SVM: Achieved an accuracy of approximately 39.3%.\n",
        "\n",
        "Random Forest: Achieved an accuracy of approximately 56.7%.\n",
        "\n",
        "**2. Performance Metrics:**\n",
        "\n",
        "LSTM: Demonstrated moderate accuracy and performance metrics, falling between\n",
        "SVM and Random Forest.\n",
        "\n",
        "SVM: Showed relatively lower accuracy compared to LSTM and Random Forest. Precision, recall, and F1-score across all classes were also relatively lower.\n",
        "\n",
        "Random Forest: Outperformed both LSTM and SVM in terms of accuracy and performance metrics, indicating its ability to capture complex patterns in the data.\n",
        "\n",
        "**3. Complexity and Interpretability:**\n",
        "\n",
        "LSTM: Deep learning models like LSTM are complex and computationally intensive. Interpretability might be challenging due to their black-box nature.\n",
        "\n",
        "SVM: Relatively simpler compared to deep learning models. SVM models offer good interpretability, making it easier to understand decision boundaries.\n",
        "\n",
        "Random Forest: Falls between LSTM and SVM in terms of complexity. It's an ensemble learning method, providing a balance between interpretability and performance.\n",
        "\n",
        "**4. Data Requirements:**\n",
        "\n",
        "LSTM: Requires large amounts of data for training to perform well. Effective in capturing complex patterns but may suffer from overfitting.\n",
        "\n",
        "SVM: Can work well with smaller datasets and is less prone to overfitting. Performs better when the number of features is not too high.\n",
        "\n",
        "Random Forest: Can handle both small and large datasets effectively. It can also hold a large number of input variables without overfitting.\n",
        "\n",
        "**5. Generalisation:**\n",
        "\n",
        "LSTM: Has the potential to generalize well to unseen data if trained properly. Capable of capturing intricate patterns.\n",
        "\n",
        "SVM: This may not generalize as well as deep learning models but can still perform reasonably well with proper hyperparameter tuning.\n",
        "\n",
        "Random Forest: Tends to generalize well to unseen data due to its ensemble approach, which helps reduce overfitting."
      ],
      "metadata": {
        "id": "__ByHfa9HdWn"
      }
    },
    {
      "cell_type": "markdown",
      "source": [
        "**Best Model**"
      ],
      "metadata": {
        "id": "4Ed1gsaKH4O7"
      }
    },
    {
      "cell_type": "markdown",
      "source": [
        "Overall, Random Forest emerged as the top-performing model among the three in terms of accuracy and generalization. It demonstrated better performance compared to both LSTM and SVM, indicating its suitability for sentiment analysis tasks, especially when dealing with relatively small datasets or complex patterns in the data."
      ],
      "metadata": {
        "id": "_IM1QI0TH-zP"
      }
    }
  ]
}